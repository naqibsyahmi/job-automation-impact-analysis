{
 "cells": [
  {
   "cell_type": "markdown",
   "id": "62309b62",
   "metadata": {},
   "source": [
    "# 💼🤖 The Impact of Technology on Job Automation and Employment Rates Analysis"
   ]
  },
  {
   "cell_type": "markdown",
   "id": "36d6db48",
   "metadata": {},
   "source": [
    "## 🎛️ Preliminaries"
   ]
  },
  {
   "cell_type": "code",
   "execution_count": 1,
   "id": "0c10a18e",
   "metadata": {},
   "outputs": [],
   "source": [
    "# Supress Warnings\n",
    "import warnings\n",
    "warnings.filterwarnings('ignore')\n",
    "\n",
    "# Visualization\n",
    "from plotly.subplots import make_subplots\n",
    "import matplotlib.pyplot as plt\n",
    "import seaborn as sns\n",
    "import plotly.express as px\n",
    "import plotly.graph_objects as go\n",
    "\n",
    "# Data Science\n",
    "import numpy as np\n",
    "import pandas as pd\n",
    "\n",
    "# Others\n",
    "import os"
   ]
  },
  {
   "cell_type": "code",
   "execution_count": 2,
   "id": "f87b8611",
   "metadata": {},
   "outputs": [
    {
     "name": "stdout",
     "output_type": "stream",
     "text": [
      "Found data file in local directory.\n"
     ]
    }
   ],
   "source": [
    "# Load data\n",
    "base_dir = os.path.dirname(os.getcwd())\n",
    "file_path = os.path.join(base_dir, \"data\", \"ai_job_market_insights.csv\")\n",
    "\n",
    "if os.path.exists(file_path):\n",
    "  print(\"Found data file in local directory.\")\n",
    "  automation_job_market_df = pd.read_csv(file_path)\n",
    "\n",
    "else:\n",
    "    raise FileNotFoundError(f\"File not found at: {file_path}\")"
   ]
  },
  {
   "cell_type": "code",
   "execution_count": 3,
   "id": "3350408a",
   "metadata": {},
   "outputs": [
    {
     "data": {
      "text/html": [
       "<div>\n",
       "<style scoped>\n",
       "    .dataframe tbody tr th:only-of-type {\n",
       "        vertical-align: middle;\n",
       "    }\n",
       "\n",
       "    .dataframe tbody tr th {\n",
       "        vertical-align: top;\n",
       "    }\n",
       "\n",
       "    .dataframe thead th {\n",
       "        text-align: right;\n",
       "    }\n",
       "</style>\n",
       "<table border=\"1\" class=\"dataframe\">\n",
       "  <thead>\n",
       "    <tr style=\"text-align: right;\">\n",
       "      <th></th>\n",
       "      <th>Job_Title</th>\n",
       "      <th>Industry</th>\n",
       "      <th>Company_Size</th>\n",
       "      <th>Location</th>\n",
       "      <th>AI_Adoption_Level</th>\n",
       "      <th>Automation_Risk</th>\n",
       "      <th>Required_Skills</th>\n",
       "      <th>Salary_USD</th>\n",
       "      <th>Remote_Friendly</th>\n",
       "      <th>Job_Growth_Projection</th>\n",
       "    </tr>\n",
       "  </thead>\n",
       "  <tbody>\n",
       "    <tr>\n",
       "      <th>0</th>\n",
       "      <td>Cybersecurity Analyst</td>\n",
       "      <td>Entertainment</td>\n",
       "      <td>Small</td>\n",
       "      <td>Dubai</td>\n",
       "      <td>Medium</td>\n",
       "      <td>High</td>\n",
       "      <td>UX/UI Design</td>\n",
       "      <td>111392.165243</td>\n",
       "      <td>Yes</td>\n",
       "      <td>Growth</td>\n",
       "    </tr>\n",
       "    <tr>\n",
       "      <th>1</th>\n",
       "      <td>Marketing Specialist</td>\n",
       "      <td>Technology</td>\n",
       "      <td>Large</td>\n",
       "      <td>Singapore</td>\n",
       "      <td>Medium</td>\n",
       "      <td>High</td>\n",
       "      <td>Marketing</td>\n",
       "      <td>93792.562466</td>\n",
       "      <td>No</td>\n",
       "      <td>Decline</td>\n",
       "    </tr>\n",
       "    <tr>\n",
       "      <th>2</th>\n",
       "      <td>AI Researcher</td>\n",
       "      <td>Technology</td>\n",
       "      <td>Large</td>\n",
       "      <td>Singapore</td>\n",
       "      <td>Medium</td>\n",
       "      <td>High</td>\n",
       "      <td>UX/UI Design</td>\n",
       "      <td>107170.263069</td>\n",
       "      <td>Yes</td>\n",
       "      <td>Growth</td>\n",
       "    </tr>\n",
       "    <tr>\n",
       "      <th>3</th>\n",
       "      <td>Sales Manager</td>\n",
       "      <td>Retail</td>\n",
       "      <td>Small</td>\n",
       "      <td>Berlin</td>\n",
       "      <td>Low</td>\n",
       "      <td>High</td>\n",
       "      <td>Project Management</td>\n",
       "      <td>93027.953758</td>\n",
       "      <td>No</td>\n",
       "      <td>Growth</td>\n",
       "    </tr>\n",
       "    <tr>\n",
       "      <th>4</th>\n",
       "      <td>Cybersecurity Analyst</td>\n",
       "      <td>Entertainment</td>\n",
       "      <td>Small</td>\n",
       "      <td>Tokyo</td>\n",
       "      <td>Low</td>\n",
       "      <td>Low</td>\n",
       "      <td>JavaScript</td>\n",
       "      <td>87752.922171</td>\n",
       "      <td>Yes</td>\n",
       "      <td>Decline</td>\n",
       "    </tr>\n",
       "    <tr>\n",
       "      <th>...</th>\n",
       "      <td>...</td>\n",
       "      <td>...</td>\n",
       "      <td>...</td>\n",
       "      <td>...</td>\n",
       "      <td>...</td>\n",
       "      <td>...</td>\n",
       "      <td>...</td>\n",
       "      <td>...</td>\n",
       "      <td>...</td>\n",
       "      <td>...</td>\n",
       "    </tr>\n",
       "    <tr>\n",
       "      <th>495</th>\n",
       "      <td>Data Scientist</td>\n",
       "      <td>Telecommunications</td>\n",
       "      <td>Medium</td>\n",
       "      <td>Berlin</td>\n",
       "      <td>Low</td>\n",
       "      <td>Medium</td>\n",
       "      <td>Machine Learning</td>\n",
       "      <td>105821.394046</td>\n",
       "      <td>Yes</td>\n",
       "      <td>Stable</td>\n",
       "    </tr>\n",
       "    <tr>\n",
       "      <th>496</th>\n",
       "      <td>Cybersecurity Analyst</td>\n",
       "      <td>Telecommunications</td>\n",
       "      <td>Small</td>\n",
       "      <td>London</td>\n",
       "      <td>Low</td>\n",
       "      <td>High</td>\n",
       "      <td>UX/UI Design</td>\n",
       "      <td>119794.992146</td>\n",
       "      <td>No</td>\n",
       "      <td>Decline</td>\n",
       "    </tr>\n",
       "    <tr>\n",
       "      <th>497</th>\n",
       "      <td>Cybersecurity Analyst</td>\n",
       "      <td>Energy</td>\n",
       "      <td>Large</td>\n",
       "      <td>Dubai</td>\n",
       "      <td>High</td>\n",
       "      <td>Low</td>\n",
       "      <td>UX/UI Design</td>\n",
       "      <td>79644.933099</td>\n",
       "      <td>Yes</td>\n",
       "      <td>Stable</td>\n",
       "    </tr>\n",
       "    <tr>\n",
       "      <th>498</th>\n",
       "      <td>Operations Manager</td>\n",
       "      <td>Healthcare</td>\n",
       "      <td>Large</td>\n",
       "      <td>Paris</td>\n",
       "      <td>High</td>\n",
       "      <td>Low</td>\n",
       "      <td>Python</td>\n",
       "      <td>77642.150625</td>\n",
       "      <td>Yes</td>\n",
       "      <td>Stable</td>\n",
       "    </tr>\n",
       "    <tr>\n",
       "      <th>499</th>\n",
       "      <td>HR Manager</td>\n",
       "      <td>Entertainment</td>\n",
       "      <td>Medium</td>\n",
       "      <td>Berlin</td>\n",
       "      <td>Medium</td>\n",
       "      <td>High</td>\n",
       "      <td>Project Management</td>\n",
       "      <td>68764.378921</td>\n",
       "      <td>Yes</td>\n",
       "      <td>Decline</td>\n",
       "    </tr>\n",
       "  </tbody>\n",
       "</table>\n",
       "<p>500 rows × 10 columns</p>\n",
       "</div>"
      ],
      "text/plain": [
       "                 Job_Title            Industry Company_Size   Location  \\\n",
       "0    Cybersecurity Analyst       Entertainment        Small      Dubai   \n",
       "1     Marketing Specialist          Technology        Large  Singapore   \n",
       "2            AI Researcher          Technology        Large  Singapore   \n",
       "3            Sales Manager              Retail        Small     Berlin   \n",
       "4    Cybersecurity Analyst       Entertainment        Small      Tokyo   \n",
       "..                     ...                 ...          ...        ...   \n",
       "495         Data Scientist  Telecommunications       Medium     Berlin   \n",
       "496  Cybersecurity Analyst  Telecommunications        Small     London   \n",
       "497  Cybersecurity Analyst              Energy        Large      Dubai   \n",
       "498     Operations Manager          Healthcare        Large      Paris   \n",
       "499             HR Manager       Entertainment       Medium     Berlin   \n",
       "\n",
       "    AI_Adoption_Level Automation_Risk     Required_Skills     Salary_USD  \\\n",
       "0              Medium            High        UX/UI Design  111392.165243   \n",
       "1              Medium            High           Marketing   93792.562466   \n",
       "2              Medium            High        UX/UI Design  107170.263069   \n",
       "3                 Low            High  Project Management   93027.953758   \n",
       "4                 Low             Low          JavaScript   87752.922171   \n",
       "..                ...             ...                 ...            ...   \n",
       "495               Low          Medium    Machine Learning  105821.394046   \n",
       "496               Low            High        UX/UI Design  119794.992146   \n",
       "497              High             Low        UX/UI Design   79644.933099   \n",
       "498              High             Low              Python   77642.150625   \n",
       "499            Medium            High  Project Management   68764.378921   \n",
       "\n",
       "    Remote_Friendly Job_Growth_Projection  \n",
       "0               Yes                Growth  \n",
       "1                No               Decline  \n",
       "2               Yes                Growth  \n",
       "3                No                Growth  \n",
       "4               Yes               Decline  \n",
       "..              ...                   ...  \n",
       "495             Yes                Stable  \n",
       "496              No               Decline  \n",
       "497             Yes                Stable  \n",
       "498             Yes                Stable  \n",
       "499             Yes               Decline  \n",
       "\n",
       "[500 rows x 10 columns]"
      ]
     },
     "execution_count": 3,
     "metadata": {},
     "output_type": "execute_result"
    }
   ],
   "source": [
    "automation_job_market_df"
   ]
  },
  {
   "cell_type": "markdown",
   "id": "567c7347",
   "metadata": {},
   "source": [
    "## 🛠️ Data Preprocessing"
   ]
  },
  {
   "cell_type": "code",
   "execution_count": 4,
   "id": "3ca64148",
   "metadata": {},
   "outputs": [
    {
     "name": "stdout",
     "output_type": "stream",
     "text": [
      "<class 'pandas.core.frame.DataFrame'>\n",
      "RangeIndex: 500 entries, 0 to 499\n",
      "Data columns (total 10 columns):\n",
      " #   Column                 Non-Null Count  Dtype  \n",
      "---  ------                 --------------  -----  \n",
      " 0   Job_Title              500 non-null    object \n",
      " 1   Industry               500 non-null    object \n",
      " 2   Company_Size           500 non-null    object \n",
      " 3   Location               500 non-null    object \n",
      " 4   AI_Adoption_Level      500 non-null    object \n",
      " 5   Automation_Risk        500 non-null    object \n",
      " 6   Required_Skills        500 non-null    object \n",
      " 7   Salary_USD             500 non-null    float64\n",
      " 8   Remote_Friendly        500 non-null    object \n",
      " 9   Job_Growth_Projection  500 non-null    object \n",
      "dtypes: float64(1), object(9)\n",
      "memory usage: 39.2+ KB\n"
     ]
    }
   ],
   "source": [
    "automation_job_market_df.info()"
   ]
  },
  {
   "cell_type": "code",
   "execution_count": 5,
   "id": "1a858dc3",
   "metadata": {},
   "outputs": [
    {
     "name": "stdout",
     "output_type": "stream",
     "text": [
      "\n",
      " Missing values in each column\n",
      "Job_Title                0\n",
      "Industry                 0\n",
      "Company_Size             0\n",
      "Location                 0\n",
      "AI_Adoption_Level        0\n",
      "Automation_Risk          0\n",
      "Required_Skills          0\n",
      "Salary_USD               0\n",
      "Remote_Friendly          0\n",
      "Job_Growth_Projection    0\n",
      "dtype: int64\n"
     ]
    }
   ],
   "source": [
    "# Check for missing values\n",
    "missing_values = automation_job_market_df.isna().sum()\n",
    "print(\"\\n Missing values in each column\")\n",
    "print(missing_values)"
   ]
  },
  {
   "cell_type": "code",
   "execution_count": 6,
   "id": "e9e84a44",
   "metadata": {},
   "outputs": [
    {
     "name": "stdout",
     "output_type": "stream",
     "text": [
      "\n",
      "Duplciate values in the dataset: \n",
      "0\n"
     ]
    }
   ],
   "source": [
    "# Check for missing values\n",
    "duplicate_values = automation_job_market_df.duplicated().sum()\n",
    "print(\"\\nDuplciate values in the dataset: \")\n",
    "print(duplicate_values)"
   ]
  },
  {
   "cell_type": "code",
   "execution_count": 6,
   "id": "d8090e71",
   "metadata": {},
   "outputs": [
    {
     "name": "stdout",
     "output_type": "stream",
     "text": [
      "\n",
      " Statistical Summary: \n"
     ]
    },
    {
     "data": {
      "text/html": [
       "<div>\n",
       "<style scoped>\n",
       "    .dataframe tbody tr th:only-of-type {\n",
       "        vertical-align: middle;\n",
       "    }\n",
       "\n",
       "    .dataframe tbody tr th {\n",
       "        vertical-align: top;\n",
       "    }\n",
       "\n",
       "    .dataframe thead th {\n",
       "        text-align: right;\n",
       "    }\n",
       "</style>\n",
       "<table border=\"1\" class=\"dataframe\">\n",
       "  <thead>\n",
       "    <tr style=\"text-align: right;\">\n",
       "      <th></th>\n",
       "      <th>Salary_USD</th>\n",
       "    </tr>\n",
       "  </thead>\n",
       "  <tbody>\n",
       "    <tr>\n",
       "      <th>count</th>\n",
       "      <td>500.000000</td>\n",
       "    </tr>\n",
       "    <tr>\n",
       "      <th>mean</th>\n",
       "      <td>91222.390974</td>\n",
       "    </tr>\n",
       "    <tr>\n",
       "      <th>std</th>\n",
       "      <td>20504.291453</td>\n",
       "    </tr>\n",
       "    <tr>\n",
       "      <th>min</th>\n",
       "      <td>31969.526346</td>\n",
       "    </tr>\n",
       "    <tr>\n",
       "      <th>25%</th>\n",
       "      <td>78511.514863</td>\n",
       "    </tr>\n",
       "    <tr>\n",
       "      <th>50%</th>\n",
       "      <td>91998.195286</td>\n",
       "    </tr>\n",
       "    <tr>\n",
       "      <th>75%</th>\n",
       "      <td>103971.282092</td>\n",
       "    </tr>\n",
       "    <tr>\n",
       "      <th>max</th>\n",
       "      <td>155209.821614</td>\n",
       "    </tr>\n",
       "  </tbody>\n",
       "</table>\n",
       "</div>"
      ],
      "text/plain": [
       "          Salary_USD\n",
       "count     500.000000\n",
       "mean    91222.390974\n",
       "std     20504.291453\n",
       "min     31969.526346\n",
       "25%     78511.514863\n",
       "50%     91998.195286\n",
       "75%    103971.282092\n",
       "max    155209.821614"
      ]
     },
     "execution_count": 6,
     "metadata": {},
     "output_type": "execute_result"
    }
   ],
   "source": [
    "# Statistical Summary\n",
    "print(\"\\n Statistical Summary: \")\n",
    "automation_job_market_df.describe()"
   ]
  },
  {
   "cell_type": "code",
   "execution_count": 7,
   "id": "217e41f2",
   "metadata": {},
   "outputs": [
    {
     "name": "stdout",
     "output_type": "stream",
     "text": [
      "\n",
      "The variance: \n",
      "420425968.00916165\n"
     ]
    }
   ],
   "source": [
    "# Variance\n",
    "print(\"\\nThe variance: \")\n",
    "var_data = automation_job_market_df['Salary_USD'].var()\n",
    "print(var_data)"
   ]
  },
  {
   "cell_type": "markdown",
   "id": "4b3c0c81",
   "metadata": {},
   "source": [
    "## 📊 Exploratory Data Analysis (EDA)"
   ]
  },
  {
   "cell_type": "code",
   "execution_count": 8,
   "id": "4aada219",
   "metadata": {},
   "outputs": [
    {
     "data": {
      "text/plain": [
       "Job_Title\n",
       "Data Scientist           62\n",
       "HR Manager               57\n",
       "Cybersecurity Analyst    55\n",
       "UX Designer              54\n",
       "AI Researcher            51\n",
       "Sales Manager            49\n",
       "Marketing Specialist     48\n",
       "Operations Manager       44\n",
       "Software Engineer        41\n",
       "Product Manager          39\n",
       "Name: count, dtype: int64"
      ]
     },
     "execution_count": 8,
     "metadata": {},
     "output_type": "execute_result"
    }
   ],
   "source": [
    "automation_job_market_df['Job_Title'].value_counts()"
   ]
  },
  {
   "cell_type": "code",
   "execution_count": 9,
   "id": "05660c56",
   "metadata": {},
   "outputs": [
    {
     "data": {
      "application/vnd.plotly.v1+json": {
       "config": {
        "plotlyServerURL": "https://plot.ly"
       },
       "data": [
        {
         "hovertemplate": "Job Title=%{x}<br>Count=%{marker.color}<extra></extra>",
         "legendgroup": "",
         "marker": {
          "color": {
           "bdata": "Pjk3NjMxMCwpJw==",
           "dtype": "i1"
          },
          "coloraxis": "coloraxis",
          "pattern": {
           "shape": ""
          }
         },
         "name": "",
         "orientation": "v",
         "showlegend": false,
         "textposition": "auto",
         "type": "bar",
         "x": [
          "Data Scientist",
          "HR Manager",
          "Cybersecurity Analyst",
          "UX Designer",
          "AI Researcher",
          "Sales Manager",
          "Marketing Specialist",
          "Operations Manager",
          "Software Engineer",
          "Product Manager"
         ],
         "xaxis": "x",
         "y": {
          "bdata": "Pjk3NjMxMCwpJw==",
          "dtype": "i1"
         },
         "yaxis": "y"
        }
       ],
       "layout": {
        "barmode": "relative",
        "coloraxis": {
         "colorbar": {
          "title": {
           "text": "Count"
          }
         },
         "colorscale": [
          [
           0,
           "rgb(255,245,235)"
          ],
          [
           0.125,
           "rgb(254,230,206)"
          ],
          [
           0.25,
           "rgb(253,208,162)"
          ],
          [
           0.375,
           "rgb(253,174,107)"
          ],
          [
           0.5,
           "rgb(253,141,60)"
          ],
          [
           0.625,
           "rgb(241,105,19)"
          ],
          [
           0.75,
           "rgb(217,72,1)"
          ],
          [
           0.875,
           "rgb(166,54,3)"
          ],
          [
           1,
           "rgb(127,39,4)"
          ]
         ]
        },
        "legend": {
         "tracegroupgap": 0
        },
        "template": {
         "data": {
          "bar": [
           {
            "error_x": {
             "color": "#2a3f5f"
            },
            "error_y": {
             "color": "#2a3f5f"
            },
            "marker": {
             "line": {
              "color": "#E5ECF6",
              "width": 0.5
             },
             "pattern": {
              "fillmode": "overlay",
              "size": 10,
              "solidity": 0.2
             }
            },
            "type": "bar"
           }
          ],
          "barpolar": [
           {
            "marker": {
             "line": {
              "color": "#E5ECF6",
              "width": 0.5
             },
             "pattern": {
              "fillmode": "overlay",
              "size": 10,
              "solidity": 0.2
             }
            },
            "type": "barpolar"
           }
          ],
          "carpet": [
           {
            "aaxis": {
             "endlinecolor": "#2a3f5f",
             "gridcolor": "white",
             "linecolor": "white",
             "minorgridcolor": "white",
             "startlinecolor": "#2a3f5f"
            },
            "baxis": {
             "endlinecolor": "#2a3f5f",
             "gridcolor": "white",
             "linecolor": "white",
             "minorgridcolor": "white",
             "startlinecolor": "#2a3f5f"
            },
            "type": "carpet"
           }
          ],
          "choropleth": [
           {
            "colorbar": {
             "outlinewidth": 0,
             "ticks": ""
            },
            "type": "choropleth"
           }
          ],
          "contour": [
           {
            "colorbar": {
             "outlinewidth": 0,
             "ticks": ""
            },
            "colorscale": [
             [
              0,
              "#0d0887"
             ],
             [
              0.1111111111111111,
              "#46039f"
             ],
             [
              0.2222222222222222,
              "#7201a8"
             ],
             [
              0.3333333333333333,
              "#9c179e"
             ],
             [
              0.4444444444444444,
              "#bd3786"
             ],
             [
              0.5555555555555556,
              "#d8576b"
             ],
             [
              0.6666666666666666,
              "#ed7953"
             ],
             [
              0.7777777777777778,
              "#fb9f3a"
             ],
             [
              0.8888888888888888,
              "#fdca26"
             ],
             [
              1,
              "#f0f921"
             ]
            ],
            "type": "contour"
           }
          ],
          "contourcarpet": [
           {
            "colorbar": {
             "outlinewidth": 0,
             "ticks": ""
            },
            "type": "contourcarpet"
           }
          ],
          "heatmap": [
           {
            "colorbar": {
             "outlinewidth": 0,
             "ticks": ""
            },
            "colorscale": [
             [
              0,
              "#0d0887"
             ],
             [
              0.1111111111111111,
              "#46039f"
             ],
             [
              0.2222222222222222,
              "#7201a8"
             ],
             [
              0.3333333333333333,
              "#9c179e"
             ],
             [
              0.4444444444444444,
              "#bd3786"
             ],
             [
              0.5555555555555556,
              "#d8576b"
             ],
             [
              0.6666666666666666,
              "#ed7953"
             ],
             [
              0.7777777777777778,
              "#fb9f3a"
             ],
             [
              0.8888888888888888,
              "#fdca26"
             ],
             [
              1,
              "#f0f921"
             ]
            ],
            "type": "heatmap"
           }
          ],
          "histogram": [
           {
            "marker": {
             "pattern": {
              "fillmode": "overlay",
              "size": 10,
              "solidity": 0.2
             }
            },
            "type": "histogram"
           }
          ],
          "histogram2d": [
           {
            "colorbar": {
             "outlinewidth": 0,
             "ticks": ""
            },
            "colorscale": [
             [
              0,
              "#0d0887"
             ],
             [
              0.1111111111111111,
              "#46039f"
             ],
             [
              0.2222222222222222,
              "#7201a8"
             ],
             [
              0.3333333333333333,
              "#9c179e"
             ],
             [
              0.4444444444444444,
              "#bd3786"
             ],
             [
              0.5555555555555556,
              "#d8576b"
             ],
             [
              0.6666666666666666,
              "#ed7953"
             ],
             [
              0.7777777777777778,
              "#fb9f3a"
             ],
             [
              0.8888888888888888,
              "#fdca26"
             ],
             [
              1,
              "#f0f921"
             ]
            ],
            "type": "histogram2d"
           }
          ],
          "histogram2dcontour": [
           {
            "colorbar": {
             "outlinewidth": 0,
             "ticks": ""
            },
            "colorscale": [
             [
              0,
              "#0d0887"
             ],
             [
              0.1111111111111111,
              "#46039f"
             ],
             [
              0.2222222222222222,
              "#7201a8"
             ],
             [
              0.3333333333333333,
              "#9c179e"
             ],
             [
              0.4444444444444444,
              "#bd3786"
             ],
             [
              0.5555555555555556,
              "#d8576b"
             ],
             [
              0.6666666666666666,
              "#ed7953"
             ],
             [
              0.7777777777777778,
              "#fb9f3a"
             ],
             [
              0.8888888888888888,
              "#fdca26"
             ],
             [
              1,
              "#f0f921"
             ]
            ],
            "type": "histogram2dcontour"
           }
          ],
          "mesh3d": [
           {
            "colorbar": {
             "outlinewidth": 0,
             "ticks": ""
            },
            "type": "mesh3d"
           }
          ],
          "parcoords": [
           {
            "line": {
             "colorbar": {
              "outlinewidth": 0,
              "ticks": ""
             }
            },
            "type": "parcoords"
           }
          ],
          "pie": [
           {
            "automargin": true,
            "type": "pie"
           }
          ],
          "scatter": [
           {
            "fillpattern": {
             "fillmode": "overlay",
             "size": 10,
             "solidity": 0.2
            },
            "type": "scatter"
           }
          ],
          "scatter3d": [
           {
            "line": {
             "colorbar": {
              "outlinewidth": 0,
              "ticks": ""
             }
            },
            "marker": {
             "colorbar": {
              "outlinewidth": 0,
              "ticks": ""
             }
            },
            "type": "scatter3d"
           }
          ],
          "scattercarpet": [
           {
            "marker": {
             "colorbar": {
              "outlinewidth": 0,
              "ticks": ""
             }
            },
            "type": "scattercarpet"
           }
          ],
          "scattergeo": [
           {
            "marker": {
             "colorbar": {
              "outlinewidth": 0,
              "ticks": ""
             }
            },
            "type": "scattergeo"
           }
          ],
          "scattergl": [
           {
            "marker": {
             "colorbar": {
              "outlinewidth": 0,
              "ticks": ""
             }
            },
            "type": "scattergl"
           }
          ],
          "scattermap": [
           {
            "marker": {
             "colorbar": {
              "outlinewidth": 0,
              "ticks": ""
             }
            },
            "type": "scattermap"
           }
          ],
          "scattermapbox": [
           {
            "marker": {
             "colorbar": {
              "outlinewidth": 0,
              "ticks": ""
             }
            },
            "type": "scattermapbox"
           }
          ],
          "scatterpolar": [
           {
            "marker": {
             "colorbar": {
              "outlinewidth": 0,
              "ticks": ""
             }
            },
            "type": "scatterpolar"
           }
          ],
          "scatterpolargl": [
           {
            "marker": {
             "colorbar": {
              "outlinewidth": 0,
              "ticks": ""
             }
            },
            "type": "scatterpolargl"
           }
          ],
          "scatterternary": [
           {
            "marker": {
             "colorbar": {
              "outlinewidth": 0,
              "ticks": ""
             }
            },
            "type": "scatterternary"
           }
          ],
          "surface": [
           {
            "colorbar": {
             "outlinewidth": 0,
             "ticks": ""
            },
            "colorscale": [
             [
              0,
              "#0d0887"
             ],
             [
              0.1111111111111111,
              "#46039f"
             ],
             [
              0.2222222222222222,
              "#7201a8"
             ],
             [
              0.3333333333333333,
              "#9c179e"
             ],
             [
              0.4444444444444444,
              "#bd3786"
             ],
             [
              0.5555555555555556,
              "#d8576b"
             ],
             [
              0.6666666666666666,
              "#ed7953"
             ],
             [
              0.7777777777777778,
              "#fb9f3a"
             ],
             [
              0.8888888888888888,
              "#fdca26"
             ],
             [
              1,
              "#f0f921"
             ]
            ],
            "type": "surface"
           }
          ],
          "table": [
           {
            "cells": {
             "fill": {
              "color": "#EBF0F8"
             },
             "line": {
              "color": "white"
             }
            },
            "header": {
             "fill": {
              "color": "#C8D4E3"
             },
             "line": {
              "color": "white"
             }
            },
            "type": "table"
           }
          ]
         },
         "layout": {
          "annotationdefaults": {
           "arrowcolor": "#2a3f5f",
           "arrowhead": 0,
           "arrowwidth": 1
          },
          "autotypenumbers": "strict",
          "coloraxis": {
           "colorbar": {
            "outlinewidth": 0,
            "ticks": ""
           }
          },
          "colorscale": {
           "diverging": [
            [
             0,
             "#8e0152"
            ],
            [
             0.1,
             "#c51b7d"
            ],
            [
             0.2,
             "#de77ae"
            ],
            [
             0.3,
             "#f1b6da"
            ],
            [
             0.4,
             "#fde0ef"
            ],
            [
             0.5,
             "#f7f7f7"
            ],
            [
             0.6,
             "#e6f5d0"
            ],
            [
             0.7,
             "#b8e186"
            ],
            [
             0.8,
             "#7fbc41"
            ],
            [
             0.9,
             "#4d9221"
            ],
            [
             1,
             "#276419"
            ]
           ],
           "sequential": [
            [
             0,
             "#0d0887"
            ],
            [
             0.1111111111111111,
             "#46039f"
            ],
            [
             0.2222222222222222,
             "#7201a8"
            ],
            [
             0.3333333333333333,
             "#9c179e"
            ],
            [
             0.4444444444444444,
             "#bd3786"
            ],
            [
             0.5555555555555556,
             "#d8576b"
            ],
            [
             0.6666666666666666,
             "#ed7953"
            ],
            [
             0.7777777777777778,
             "#fb9f3a"
            ],
            [
             0.8888888888888888,
             "#fdca26"
            ],
            [
             1,
             "#f0f921"
            ]
           ],
           "sequentialminus": [
            [
             0,
             "#0d0887"
            ],
            [
             0.1111111111111111,
             "#46039f"
            ],
            [
             0.2222222222222222,
             "#7201a8"
            ],
            [
             0.3333333333333333,
             "#9c179e"
            ],
            [
             0.4444444444444444,
             "#bd3786"
            ],
            [
             0.5555555555555556,
             "#d8576b"
            ],
            [
             0.6666666666666666,
             "#ed7953"
            ],
            [
             0.7777777777777778,
             "#fb9f3a"
            ],
            [
             0.8888888888888888,
             "#fdca26"
            ],
            [
             1,
             "#f0f921"
            ]
           ]
          },
          "colorway": [
           "#636efa",
           "#EF553B",
           "#00cc96",
           "#ab63fa",
           "#FFA15A",
           "#19d3f3",
           "#FF6692",
           "#B6E880",
           "#FF97FF",
           "#FECB52"
          ],
          "font": {
           "color": "#2a3f5f"
          },
          "geo": {
           "bgcolor": "white",
           "lakecolor": "white",
           "landcolor": "#E5ECF6",
           "showlakes": true,
           "showland": true,
           "subunitcolor": "white"
          },
          "hoverlabel": {
           "align": "left"
          },
          "hovermode": "closest",
          "mapbox": {
           "style": "light"
          },
          "paper_bgcolor": "white",
          "plot_bgcolor": "#E5ECF6",
          "polar": {
           "angularaxis": {
            "gridcolor": "white",
            "linecolor": "white",
            "ticks": ""
           },
           "bgcolor": "#E5ECF6",
           "radialaxis": {
            "gridcolor": "white",
            "linecolor": "white",
            "ticks": ""
           }
          },
          "scene": {
           "xaxis": {
            "backgroundcolor": "#E5ECF6",
            "gridcolor": "white",
            "gridwidth": 2,
            "linecolor": "white",
            "showbackground": true,
            "ticks": "",
            "zerolinecolor": "white"
           },
           "yaxis": {
            "backgroundcolor": "#E5ECF6",
            "gridcolor": "white",
            "gridwidth": 2,
            "linecolor": "white",
            "showbackground": true,
            "ticks": "",
            "zerolinecolor": "white"
           },
           "zaxis": {
            "backgroundcolor": "#E5ECF6",
            "gridcolor": "white",
            "gridwidth": 2,
            "linecolor": "white",
            "showbackground": true,
            "ticks": "",
            "zerolinecolor": "white"
           }
          },
          "shapedefaults": {
           "line": {
            "color": "#2a3f5f"
           }
          },
          "ternary": {
           "aaxis": {
            "gridcolor": "white",
            "linecolor": "white",
            "ticks": ""
           },
           "baxis": {
            "gridcolor": "white",
            "linecolor": "white",
            "ticks": ""
           },
           "bgcolor": "#E5ECF6",
           "caxis": {
            "gridcolor": "white",
            "linecolor": "white",
            "ticks": ""
           }
          },
          "title": {
           "x": 0.05
          },
          "xaxis": {
           "automargin": true,
           "gridcolor": "white",
           "linecolor": "white",
           "ticks": "",
           "title": {
            "standoff": 15
           },
           "zerolinecolor": "white",
           "zerolinewidth": 2
          },
          "yaxis": {
           "automargin": true,
           "gridcolor": "white",
           "linecolor": "white",
           "ticks": "",
           "title": {
            "standoff": 15
           },
           "zerolinecolor": "white",
           "zerolinewidth": 2
          }
         }
        },
        "title": {
         "text": "Distribution of Job Titles",
         "x": 0.5
        },
        "xaxis": {
         "anchor": "y",
         "domain": [
          0,
          1
         ],
         "tickangle": -45,
         "title": {
          "text": "Job Title"
         }
        },
        "yaxis": {
         "anchor": "x",
         "domain": [
          0,
          1
         ],
         "title": {
          "text": "Count"
         }
        }
       }
      }
     },
     "metadata": {},
     "output_type": "display_data"
    }
   ],
   "source": [
    "# Job Title Distribution\n",
    "job_title_counts = automation_job_market_df['Job_Title'].value_counts().reset_index()\n",
    "job_title_counts.columns = ['Job_Title', 'Count']\n",
    "\n",
    "# Bar chart\n",
    "fig = px.bar(job_title_counts, x='Job_Title', y='Count', title='Distribution of Job Titles', labels={'Count' : 'Count', 'Job_Title' : 'Job Title'}, color='Count', color_continuous_scale='Oranges')\n",
    "\n",
    "# Update layout for better visualization\n",
    "fig.update_layout(xaxis_title='Job Title', yaxis_title='Count', title_x=0.5, xaxis_tickangle=-45)\n",
    "\n",
    "# Show the plot\n",
    "fig.show()"
   ]
  },
  {
   "cell_type": "code",
   "execution_count": 10,
   "id": "c72f478c",
   "metadata": {},
   "outputs": [
    {
     "data": {
      "application/vnd.plotly.v1+json": {
       "config": {
        "plotlyServerURL": "https://plot.ly"
       },
       "data": [
        {
         "hovertemplate": "Industry=%{x}<br>Count=%{marker.color}<extra></extra>",
         "legendgroup": "",
         "marker": {
          "color": {
           "bdata": "Ojk4NTUxLy4qJw==",
           "dtype": "i1"
          },
          "coloraxis": "coloraxis",
          "pattern": {
           "shape": ""
          }
         },
         "name": "",
         "orientation": "v",
         "showlegend": false,
         "textposition": "auto",
         "type": "bar",
         "x": [
          "Manufacturing",
          "Education",
          "Technology",
          "Finance",
          "Telecommunications",
          "Energy",
          "Entertainment",
          "Retail",
          "Healthcare",
          "Transportation"
         ],
         "xaxis": "x",
         "y": {
          "bdata": "Ojk4NTUxLy4qJw==",
          "dtype": "i1"
         },
         "yaxis": "y"
        }
       ],
       "layout": {
        "barmode": "relative",
        "coloraxis": {
         "colorbar": {
          "title": {
           "text": "Count"
          }
         },
         "colorscale": [
          [
           0,
           "rgb(0,0,255)"
          ],
          [
           0.1,
           "rgb(51,153,255)"
          ],
          [
           0.2,
           "rgb(102,204,255)"
          ],
          [
           0.3,
           "rgb(153,204,255)"
          ],
          [
           0.4,
           "rgb(204,204,255)"
          ],
          [
           0.5,
           "rgb(255,255,255)"
          ],
          [
           0.6,
           "rgb(255,204,255)"
          ],
          [
           0.7,
           "rgb(255,153,255)"
          ],
          [
           0.8,
           "rgb(255,102,204)"
          ],
          [
           0.9,
           "rgb(255,102,102)"
          ],
          [
           1,
           "rgb(255,0,0)"
          ]
         ]
        },
        "legend": {
         "tracegroupgap": 0
        },
        "template": {
         "data": {
          "bar": [
           {
            "error_x": {
             "color": "#2a3f5f"
            },
            "error_y": {
             "color": "#2a3f5f"
            },
            "marker": {
             "line": {
              "color": "#E5ECF6",
              "width": 0.5
             },
             "pattern": {
              "fillmode": "overlay",
              "size": 10,
              "solidity": 0.2
             }
            },
            "type": "bar"
           }
          ],
          "barpolar": [
           {
            "marker": {
             "line": {
              "color": "#E5ECF6",
              "width": 0.5
             },
             "pattern": {
              "fillmode": "overlay",
              "size": 10,
              "solidity": 0.2
             }
            },
            "type": "barpolar"
           }
          ],
          "carpet": [
           {
            "aaxis": {
             "endlinecolor": "#2a3f5f",
             "gridcolor": "white",
             "linecolor": "white",
             "minorgridcolor": "white",
             "startlinecolor": "#2a3f5f"
            },
            "baxis": {
             "endlinecolor": "#2a3f5f",
             "gridcolor": "white",
             "linecolor": "white",
             "minorgridcolor": "white",
             "startlinecolor": "#2a3f5f"
            },
            "type": "carpet"
           }
          ],
          "choropleth": [
           {
            "colorbar": {
             "outlinewidth": 0,
             "ticks": ""
            },
            "type": "choropleth"
           }
          ],
          "contour": [
           {
            "colorbar": {
             "outlinewidth": 0,
             "ticks": ""
            },
            "colorscale": [
             [
              0,
              "#0d0887"
             ],
             [
              0.1111111111111111,
              "#46039f"
             ],
             [
              0.2222222222222222,
              "#7201a8"
             ],
             [
              0.3333333333333333,
              "#9c179e"
             ],
             [
              0.4444444444444444,
              "#bd3786"
             ],
             [
              0.5555555555555556,
              "#d8576b"
             ],
             [
              0.6666666666666666,
              "#ed7953"
             ],
             [
              0.7777777777777778,
              "#fb9f3a"
             ],
             [
              0.8888888888888888,
              "#fdca26"
             ],
             [
              1,
              "#f0f921"
             ]
            ],
            "type": "contour"
           }
          ],
          "contourcarpet": [
           {
            "colorbar": {
             "outlinewidth": 0,
             "ticks": ""
            },
            "type": "contourcarpet"
           }
          ],
          "heatmap": [
           {
            "colorbar": {
             "outlinewidth": 0,
             "ticks": ""
            },
            "colorscale": [
             [
              0,
              "#0d0887"
             ],
             [
              0.1111111111111111,
              "#46039f"
             ],
             [
              0.2222222222222222,
              "#7201a8"
             ],
             [
              0.3333333333333333,
              "#9c179e"
             ],
             [
              0.4444444444444444,
              "#bd3786"
             ],
             [
              0.5555555555555556,
              "#d8576b"
             ],
             [
              0.6666666666666666,
              "#ed7953"
             ],
             [
              0.7777777777777778,
              "#fb9f3a"
             ],
             [
              0.8888888888888888,
              "#fdca26"
             ],
             [
              1,
              "#f0f921"
             ]
            ],
            "type": "heatmap"
           }
          ],
          "histogram": [
           {
            "marker": {
             "pattern": {
              "fillmode": "overlay",
              "size": 10,
              "solidity": 0.2
             }
            },
            "type": "histogram"
           }
          ],
          "histogram2d": [
           {
            "colorbar": {
             "outlinewidth": 0,
             "ticks": ""
            },
            "colorscale": [
             [
              0,
              "#0d0887"
             ],
             [
              0.1111111111111111,
              "#46039f"
             ],
             [
              0.2222222222222222,
              "#7201a8"
             ],
             [
              0.3333333333333333,
              "#9c179e"
             ],
             [
              0.4444444444444444,
              "#bd3786"
             ],
             [
              0.5555555555555556,
              "#d8576b"
             ],
             [
              0.6666666666666666,
              "#ed7953"
             ],
             [
              0.7777777777777778,
              "#fb9f3a"
             ],
             [
              0.8888888888888888,
              "#fdca26"
             ],
             [
              1,
              "#f0f921"
             ]
            ],
            "type": "histogram2d"
           }
          ],
          "histogram2dcontour": [
           {
            "colorbar": {
             "outlinewidth": 0,
             "ticks": ""
            },
            "colorscale": [
             [
              0,
              "#0d0887"
             ],
             [
              0.1111111111111111,
              "#46039f"
             ],
             [
              0.2222222222222222,
              "#7201a8"
             ],
             [
              0.3333333333333333,
              "#9c179e"
             ],
             [
              0.4444444444444444,
              "#bd3786"
             ],
             [
              0.5555555555555556,
              "#d8576b"
             ],
             [
              0.6666666666666666,
              "#ed7953"
             ],
             [
              0.7777777777777778,
              "#fb9f3a"
             ],
             [
              0.8888888888888888,
              "#fdca26"
             ],
             [
              1,
              "#f0f921"
             ]
            ],
            "type": "histogram2dcontour"
           }
          ],
          "mesh3d": [
           {
            "colorbar": {
             "outlinewidth": 0,
             "ticks": ""
            },
            "type": "mesh3d"
           }
          ],
          "parcoords": [
           {
            "line": {
             "colorbar": {
              "outlinewidth": 0,
              "ticks": ""
             }
            },
            "type": "parcoords"
           }
          ],
          "pie": [
           {
            "automargin": true,
            "type": "pie"
           }
          ],
          "scatter": [
           {
            "fillpattern": {
             "fillmode": "overlay",
             "size": 10,
             "solidity": 0.2
            },
            "type": "scatter"
           }
          ],
          "scatter3d": [
           {
            "line": {
             "colorbar": {
              "outlinewidth": 0,
              "ticks": ""
             }
            },
            "marker": {
             "colorbar": {
              "outlinewidth": 0,
              "ticks": ""
             }
            },
            "type": "scatter3d"
           }
          ],
          "scattercarpet": [
           {
            "marker": {
             "colorbar": {
              "outlinewidth": 0,
              "ticks": ""
             }
            },
            "type": "scattercarpet"
           }
          ],
          "scattergeo": [
           {
            "marker": {
             "colorbar": {
              "outlinewidth": 0,
              "ticks": ""
             }
            },
            "type": "scattergeo"
           }
          ],
          "scattergl": [
           {
            "marker": {
             "colorbar": {
              "outlinewidth": 0,
              "ticks": ""
             }
            },
            "type": "scattergl"
           }
          ],
          "scattermap": [
           {
            "marker": {
             "colorbar": {
              "outlinewidth": 0,
              "ticks": ""
             }
            },
            "type": "scattermap"
           }
          ],
          "scattermapbox": [
           {
            "marker": {
             "colorbar": {
              "outlinewidth": 0,
              "ticks": ""
             }
            },
            "type": "scattermapbox"
           }
          ],
          "scatterpolar": [
           {
            "marker": {
             "colorbar": {
              "outlinewidth": 0,
              "ticks": ""
             }
            },
            "type": "scatterpolar"
           }
          ],
          "scatterpolargl": [
           {
            "marker": {
             "colorbar": {
              "outlinewidth": 0,
              "ticks": ""
             }
            },
            "type": "scatterpolargl"
           }
          ],
          "scatterternary": [
           {
            "marker": {
             "colorbar": {
              "outlinewidth": 0,
              "ticks": ""
             }
            },
            "type": "scatterternary"
           }
          ],
          "surface": [
           {
            "colorbar": {
             "outlinewidth": 0,
             "ticks": ""
            },
            "colorscale": [
             [
              0,
              "#0d0887"
             ],
             [
              0.1111111111111111,
              "#46039f"
             ],
             [
              0.2222222222222222,
              "#7201a8"
             ],
             [
              0.3333333333333333,
              "#9c179e"
             ],
             [
              0.4444444444444444,
              "#bd3786"
             ],
             [
              0.5555555555555556,
              "#d8576b"
             ],
             [
              0.6666666666666666,
              "#ed7953"
             ],
             [
              0.7777777777777778,
              "#fb9f3a"
             ],
             [
              0.8888888888888888,
              "#fdca26"
             ],
             [
              1,
              "#f0f921"
             ]
            ],
            "type": "surface"
           }
          ],
          "table": [
           {
            "cells": {
             "fill": {
              "color": "#EBF0F8"
             },
             "line": {
              "color": "white"
             }
            },
            "header": {
             "fill": {
              "color": "#C8D4E3"
             },
             "line": {
              "color": "white"
             }
            },
            "type": "table"
           }
          ]
         },
         "layout": {
          "annotationdefaults": {
           "arrowcolor": "#2a3f5f",
           "arrowhead": 0,
           "arrowwidth": 1
          },
          "autotypenumbers": "strict",
          "coloraxis": {
           "colorbar": {
            "outlinewidth": 0,
            "ticks": ""
           }
          },
          "colorscale": {
           "diverging": [
            [
             0,
             "#8e0152"
            ],
            [
             0.1,
             "#c51b7d"
            ],
            [
             0.2,
             "#de77ae"
            ],
            [
             0.3,
             "#f1b6da"
            ],
            [
             0.4,
             "#fde0ef"
            ],
            [
             0.5,
             "#f7f7f7"
            ],
            [
             0.6,
             "#e6f5d0"
            ],
            [
             0.7,
             "#b8e186"
            ],
            [
             0.8,
             "#7fbc41"
            ],
            [
             0.9,
             "#4d9221"
            ],
            [
             1,
             "#276419"
            ]
           ],
           "sequential": [
            [
             0,
             "#0d0887"
            ],
            [
             0.1111111111111111,
             "#46039f"
            ],
            [
             0.2222222222222222,
             "#7201a8"
            ],
            [
             0.3333333333333333,
             "#9c179e"
            ],
            [
             0.4444444444444444,
             "#bd3786"
            ],
            [
             0.5555555555555556,
             "#d8576b"
            ],
            [
             0.6666666666666666,
             "#ed7953"
            ],
            [
             0.7777777777777778,
             "#fb9f3a"
            ],
            [
             0.8888888888888888,
             "#fdca26"
            ],
            [
             1,
             "#f0f921"
            ]
           ],
           "sequentialminus": [
            [
             0,
             "#0d0887"
            ],
            [
             0.1111111111111111,
             "#46039f"
            ],
            [
             0.2222222222222222,
             "#7201a8"
            ],
            [
             0.3333333333333333,
             "#9c179e"
            ],
            [
             0.4444444444444444,
             "#bd3786"
            ],
            [
             0.5555555555555556,
             "#d8576b"
            ],
            [
             0.6666666666666666,
             "#ed7953"
            ],
            [
             0.7777777777777778,
             "#fb9f3a"
            ],
            [
             0.8888888888888888,
             "#fdca26"
            ],
            [
             1,
             "#f0f921"
            ]
           ]
          },
          "colorway": [
           "#636efa",
           "#EF553B",
           "#00cc96",
           "#ab63fa",
           "#FFA15A",
           "#19d3f3",
           "#FF6692",
           "#B6E880",
           "#FF97FF",
           "#FECB52"
          ],
          "font": {
           "color": "#2a3f5f"
          },
          "geo": {
           "bgcolor": "white",
           "lakecolor": "white",
           "landcolor": "#E5ECF6",
           "showlakes": true,
           "showland": true,
           "subunitcolor": "white"
          },
          "hoverlabel": {
           "align": "left"
          },
          "hovermode": "closest",
          "mapbox": {
           "style": "light"
          },
          "paper_bgcolor": "white",
          "plot_bgcolor": "#E5ECF6",
          "polar": {
           "angularaxis": {
            "gridcolor": "white",
            "linecolor": "white",
            "ticks": ""
           },
           "bgcolor": "#E5ECF6",
           "radialaxis": {
            "gridcolor": "white",
            "linecolor": "white",
            "ticks": ""
           }
          },
          "scene": {
           "xaxis": {
            "backgroundcolor": "#E5ECF6",
            "gridcolor": "white",
            "gridwidth": 2,
            "linecolor": "white",
            "showbackground": true,
            "ticks": "",
            "zerolinecolor": "white"
           },
           "yaxis": {
            "backgroundcolor": "#E5ECF6",
            "gridcolor": "white",
            "gridwidth": 2,
            "linecolor": "white",
            "showbackground": true,
            "ticks": "",
            "zerolinecolor": "white"
           },
           "zaxis": {
            "backgroundcolor": "#E5ECF6",
            "gridcolor": "white",
            "gridwidth": 2,
            "linecolor": "white",
            "showbackground": true,
            "ticks": "",
            "zerolinecolor": "white"
           }
          },
          "shapedefaults": {
           "line": {
            "color": "#2a3f5f"
           }
          },
          "ternary": {
           "aaxis": {
            "gridcolor": "white",
            "linecolor": "white",
            "ticks": ""
           },
           "baxis": {
            "gridcolor": "white",
            "linecolor": "white",
            "ticks": ""
           },
           "bgcolor": "#E5ECF6",
           "caxis": {
            "gridcolor": "white",
            "linecolor": "white",
            "ticks": ""
           }
          },
          "title": {
           "x": 0.05
          },
          "xaxis": {
           "automargin": true,
           "gridcolor": "white",
           "linecolor": "white",
           "ticks": "",
           "title": {
            "standoff": 15
           },
           "zerolinecolor": "white",
           "zerolinewidth": 2
          },
          "yaxis": {
           "automargin": true,
           "gridcolor": "white",
           "linecolor": "white",
           "ticks": "",
           "title": {
            "standoff": 15
           },
           "zerolinecolor": "white",
           "zerolinewidth": 2
          }
         }
        },
        "title": {
         "text": "Distribution of Industries",
         "x": 0.5
        },
        "xaxis": {
         "anchor": "y",
         "domain": [
          0,
          1
         ],
         "tickangle": -45,
         "title": {
          "text": "Industry"
         }
        },
        "yaxis": {
         "anchor": "x",
         "domain": [
          0,
          1
         ],
         "title": {
          "text": "Count"
         }
        }
       }
      }
     },
     "metadata": {},
     "output_type": "display_data"
    }
   ],
   "source": [
    "# Industry Distribution\n",
    "industry_counts = automation_job_market_df['Industry'].value_counts().reset_index()\n",
    "industry_counts.columns = ['Industry', 'Count']\n",
    "\n",
    "# Bar chart\n",
    "fig = px.bar(industry_counts, x='Industry', y='Count', title='Distribution of Industries', labels={'Count' : 'Count', 'Industry' : 'Industry'}, color='Count', color_continuous_scale='Picnic')\n",
    "\n",
    "# Update layout for better visualization\n",
    "fig.update_layout(xaxis_title='Industry', yaxis_title='Count', title_x=0.5, xaxis_tickangle=-45)\n",
    "\n",
    "# Show the plot\n",
    "fig.show()"
   ]
  },
  {
   "cell_type": "code",
   "execution_count": 11,
   "id": "c21c4a8b",
   "metadata": {},
   "outputs": [
    {
     "data": {
      "application/vnd.plotly.v1+json": {
       "config": {
        "plotlyServerURL": "https://plot.ly"
       },
       "data": [
        {
         "customdata": [
          [
           "Small"
          ],
          [
           "Large"
          ],
          [
           "Medium"
          ]
         ],
         "domain": {
          "x": [
           0,
           1
          ],
          "y": [
           0,
           1
          ]
         },
         "hovertemplate": "Company_Size=%{customdata[0]}<br>Count=%{value}<extra></extra>",
         "labels": [
          "Small",
          "Large",
          "Medium"
         ],
         "legendgroup": "",
         "marker": {
          "colors": [
           "#636efa",
           "#EF553B",
           "#00cc96"
          ]
         },
         "name": "",
         "showlegend": true,
         "type": "pie",
         "values": {
          "bdata": "qwCmAKMA",
          "dtype": "i2"
         }
        }
       ],
       "layout": {
        "legend": {
         "tracegroupgap": 0
        },
        "template": {
         "data": {
          "bar": [
           {
            "error_x": {
             "color": "#2a3f5f"
            },
            "error_y": {
             "color": "#2a3f5f"
            },
            "marker": {
             "line": {
              "color": "#E5ECF6",
              "width": 0.5
             },
             "pattern": {
              "fillmode": "overlay",
              "size": 10,
              "solidity": 0.2
             }
            },
            "type": "bar"
           }
          ],
          "barpolar": [
           {
            "marker": {
             "line": {
              "color": "#E5ECF6",
              "width": 0.5
             },
             "pattern": {
              "fillmode": "overlay",
              "size": 10,
              "solidity": 0.2
             }
            },
            "type": "barpolar"
           }
          ],
          "carpet": [
           {
            "aaxis": {
             "endlinecolor": "#2a3f5f",
             "gridcolor": "white",
             "linecolor": "white",
             "minorgridcolor": "white",
             "startlinecolor": "#2a3f5f"
            },
            "baxis": {
             "endlinecolor": "#2a3f5f",
             "gridcolor": "white",
             "linecolor": "white",
             "minorgridcolor": "white",
             "startlinecolor": "#2a3f5f"
            },
            "type": "carpet"
           }
          ],
          "choropleth": [
           {
            "colorbar": {
             "outlinewidth": 0,
             "ticks": ""
            },
            "type": "choropleth"
           }
          ],
          "contour": [
           {
            "colorbar": {
             "outlinewidth": 0,
             "ticks": ""
            },
            "colorscale": [
             [
              0,
              "#0d0887"
             ],
             [
              0.1111111111111111,
              "#46039f"
             ],
             [
              0.2222222222222222,
              "#7201a8"
             ],
             [
              0.3333333333333333,
              "#9c179e"
             ],
             [
              0.4444444444444444,
              "#bd3786"
             ],
             [
              0.5555555555555556,
              "#d8576b"
             ],
             [
              0.6666666666666666,
              "#ed7953"
             ],
             [
              0.7777777777777778,
              "#fb9f3a"
             ],
             [
              0.8888888888888888,
              "#fdca26"
             ],
             [
              1,
              "#f0f921"
             ]
            ],
            "type": "contour"
           }
          ],
          "contourcarpet": [
           {
            "colorbar": {
             "outlinewidth": 0,
             "ticks": ""
            },
            "type": "contourcarpet"
           }
          ],
          "heatmap": [
           {
            "colorbar": {
             "outlinewidth": 0,
             "ticks": ""
            },
            "colorscale": [
             [
              0,
              "#0d0887"
             ],
             [
              0.1111111111111111,
              "#46039f"
             ],
             [
              0.2222222222222222,
              "#7201a8"
             ],
             [
              0.3333333333333333,
              "#9c179e"
             ],
             [
              0.4444444444444444,
              "#bd3786"
             ],
             [
              0.5555555555555556,
              "#d8576b"
             ],
             [
              0.6666666666666666,
              "#ed7953"
             ],
             [
              0.7777777777777778,
              "#fb9f3a"
             ],
             [
              0.8888888888888888,
              "#fdca26"
             ],
             [
              1,
              "#f0f921"
             ]
            ],
            "type": "heatmap"
           }
          ],
          "histogram": [
           {
            "marker": {
             "pattern": {
              "fillmode": "overlay",
              "size": 10,
              "solidity": 0.2
             }
            },
            "type": "histogram"
           }
          ],
          "histogram2d": [
           {
            "colorbar": {
             "outlinewidth": 0,
             "ticks": ""
            },
            "colorscale": [
             [
              0,
              "#0d0887"
             ],
             [
              0.1111111111111111,
              "#46039f"
             ],
             [
              0.2222222222222222,
              "#7201a8"
             ],
             [
              0.3333333333333333,
              "#9c179e"
             ],
             [
              0.4444444444444444,
              "#bd3786"
             ],
             [
              0.5555555555555556,
              "#d8576b"
             ],
             [
              0.6666666666666666,
              "#ed7953"
             ],
             [
              0.7777777777777778,
              "#fb9f3a"
             ],
             [
              0.8888888888888888,
              "#fdca26"
             ],
             [
              1,
              "#f0f921"
             ]
            ],
            "type": "histogram2d"
           }
          ],
          "histogram2dcontour": [
           {
            "colorbar": {
             "outlinewidth": 0,
             "ticks": ""
            },
            "colorscale": [
             [
              0,
              "#0d0887"
             ],
             [
              0.1111111111111111,
              "#46039f"
             ],
             [
              0.2222222222222222,
              "#7201a8"
             ],
             [
              0.3333333333333333,
              "#9c179e"
             ],
             [
              0.4444444444444444,
              "#bd3786"
             ],
             [
              0.5555555555555556,
              "#d8576b"
             ],
             [
              0.6666666666666666,
              "#ed7953"
             ],
             [
              0.7777777777777778,
              "#fb9f3a"
             ],
             [
              0.8888888888888888,
              "#fdca26"
             ],
             [
              1,
              "#f0f921"
             ]
            ],
            "type": "histogram2dcontour"
           }
          ],
          "mesh3d": [
           {
            "colorbar": {
             "outlinewidth": 0,
             "ticks": ""
            },
            "type": "mesh3d"
           }
          ],
          "parcoords": [
           {
            "line": {
             "colorbar": {
              "outlinewidth": 0,
              "ticks": ""
             }
            },
            "type": "parcoords"
           }
          ],
          "pie": [
           {
            "automargin": true,
            "type": "pie"
           }
          ],
          "scatter": [
           {
            "fillpattern": {
             "fillmode": "overlay",
             "size": 10,
             "solidity": 0.2
            },
            "type": "scatter"
           }
          ],
          "scatter3d": [
           {
            "line": {
             "colorbar": {
              "outlinewidth": 0,
              "ticks": ""
             }
            },
            "marker": {
             "colorbar": {
              "outlinewidth": 0,
              "ticks": ""
             }
            },
            "type": "scatter3d"
           }
          ],
          "scattercarpet": [
           {
            "marker": {
             "colorbar": {
              "outlinewidth": 0,
              "ticks": ""
             }
            },
            "type": "scattercarpet"
           }
          ],
          "scattergeo": [
           {
            "marker": {
             "colorbar": {
              "outlinewidth": 0,
              "ticks": ""
             }
            },
            "type": "scattergeo"
           }
          ],
          "scattergl": [
           {
            "marker": {
             "colorbar": {
              "outlinewidth": 0,
              "ticks": ""
             }
            },
            "type": "scattergl"
           }
          ],
          "scattermap": [
           {
            "marker": {
             "colorbar": {
              "outlinewidth": 0,
              "ticks": ""
             }
            },
            "type": "scattermap"
           }
          ],
          "scattermapbox": [
           {
            "marker": {
             "colorbar": {
              "outlinewidth": 0,
              "ticks": ""
             }
            },
            "type": "scattermapbox"
           }
          ],
          "scatterpolar": [
           {
            "marker": {
             "colorbar": {
              "outlinewidth": 0,
              "ticks": ""
             }
            },
            "type": "scatterpolar"
           }
          ],
          "scatterpolargl": [
           {
            "marker": {
             "colorbar": {
              "outlinewidth": 0,
              "ticks": ""
             }
            },
            "type": "scatterpolargl"
           }
          ],
          "scatterternary": [
           {
            "marker": {
             "colorbar": {
              "outlinewidth": 0,
              "ticks": ""
             }
            },
            "type": "scatterternary"
           }
          ],
          "surface": [
           {
            "colorbar": {
             "outlinewidth": 0,
             "ticks": ""
            },
            "colorscale": [
             [
              0,
              "#0d0887"
             ],
             [
              0.1111111111111111,
              "#46039f"
             ],
             [
              0.2222222222222222,
              "#7201a8"
             ],
             [
              0.3333333333333333,
              "#9c179e"
             ],
             [
              0.4444444444444444,
              "#bd3786"
             ],
             [
              0.5555555555555556,
              "#d8576b"
             ],
             [
              0.6666666666666666,
              "#ed7953"
             ],
             [
              0.7777777777777778,
              "#fb9f3a"
             ],
             [
              0.8888888888888888,
              "#fdca26"
             ],
             [
              1,
              "#f0f921"
             ]
            ],
            "type": "surface"
           }
          ],
          "table": [
           {
            "cells": {
             "fill": {
              "color": "#EBF0F8"
             },
             "line": {
              "color": "white"
             }
            },
            "header": {
             "fill": {
              "color": "#C8D4E3"
             },
             "line": {
              "color": "white"
             }
            },
            "type": "table"
           }
          ]
         },
         "layout": {
          "annotationdefaults": {
           "arrowcolor": "#2a3f5f",
           "arrowhead": 0,
           "arrowwidth": 1
          },
          "autotypenumbers": "strict",
          "coloraxis": {
           "colorbar": {
            "outlinewidth": 0,
            "ticks": ""
           }
          },
          "colorscale": {
           "diverging": [
            [
             0,
             "#8e0152"
            ],
            [
             0.1,
             "#c51b7d"
            ],
            [
             0.2,
             "#de77ae"
            ],
            [
             0.3,
             "#f1b6da"
            ],
            [
             0.4,
             "#fde0ef"
            ],
            [
             0.5,
             "#f7f7f7"
            ],
            [
             0.6,
             "#e6f5d0"
            ],
            [
             0.7,
             "#b8e186"
            ],
            [
             0.8,
             "#7fbc41"
            ],
            [
             0.9,
             "#4d9221"
            ],
            [
             1,
             "#276419"
            ]
           ],
           "sequential": [
            [
             0,
             "#0d0887"
            ],
            [
             0.1111111111111111,
             "#46039f"
            ],
            [
             0.2222222222222222,
             "#7201a8"
            ],
            [
             0.3333333333333333,
             "#9c179e"
            ],
            [
             0.4444444444444444,
             "#bd3786"
            ],
            [
             0.5555555555555556,
             "#d8576b"
            ],
            [
             0.6666666666666666,
             "#ed7953"
            ],
            [
             0.7777777777777778,
             "#fb9f3a"
            ],
            [
             0.8888888888888888,
             "#fdca26"
            ],
            [
             1,
             "#f0f921"
            ]
           ],
           "sequentialminus": [
            [
             0,
             "#0d0887"
            ],
            [
             0.1111111111111111,
             "#46039f"
            ],
            [
             0.2222222222222222,
             "#7201a8"
            ],
            [
             0.3333333333333333,
             "#9c179e"
            ],
            [
             0.4444444444444444,
             "#bd3786"
            ],
            [
             0.5555555555555556,
             "#d8576b"
            ],
            [
             0.6666666666666666,
             "#ed7953"
            ],
            [
             0.7777777777777778,
             "#fb9f3a"
            ],
            [
             0.8888888888888888,
             "#fdca26"
            ],
            [
             1,
             "#f0f921"
            ]
           ]
          },
          "colorway": [
           "#636efa",
           "#EF553B",
           "#00cc96",
           "#ab63fa",
           "#FFA15A",
           "#19d3f3",
           "#FF6692",
           "#B6E880",
           "#FF97FF",
           "#FECB52"
          ],
          "font": {
           "color": "#2a3f5f"
          },
          "geo": {
           "bgcolor": "white",
           "lakecolor": "white",
           "landcolor": "#E5ECF6",
           "showlakes": true,
           "showland": true,
           "subunitcolor": "white"
          },
          "hoverlabel": {
           "align": "left"
          },
          "hovermode": "closest",
          "mapbox": {
           "style": "light"
          },
          "paper_bgcolor": "white",
          "plot_bgcolor": "#E5ECF6",
          "polar": {
           "angularaxis": {
            "gridcolor": "white",
            "linecolor": "white",
            "ticks": ""
           },
           "bgcolor": "#E5ECF6",
           "radialaxis": {
            "gridcolor": "white",
            "linecolor": "white",
            "ticks": ""
           }
          },
          "scene": {
           "xaxis": {
            "backgroundcolor": "#E5ECF6",
            "gridcolor": "white",
            "gridwidth": 2,
            "linecolor": "white",
            "showbackground": true,
            "ticks": "",
            "zerolinecolor": "white"
           },
           "yaxis": {
            "backgroundcolor": "#E5ECF6",
            "gridcolor": "white",
            "gridwidth": 2,
            "linecolor": "white",
            "showbackground": true,
            "ticks": "",
            "zerolinecolor": "white"
           },
           "zaxis": {
            "backgroundcolor": "#E5ECF6",
            "gridcolor": "white",
            "gridwidth": 2,
            "linecolor": "white",
            "showbackground": true,
            "ticks": "",
            "zerolinecolor": "white"
           }
          },
          "shapedefaults": {
           "line": {
            "color": "#2a3f5f"
           }
          },
          "ternary": {
           "aaxis": {
            "gridcolor": "white",
            "linecolor": "white",
            "ticks": ""
           },
           "baxis": {
            "gridcolor": "white",
            "linecolor": "white",
            "ticks": ""
           },
           "bgcolor": "#E5ECF6",
           "caxis": {
            "gridcolor": "white",
            "linecolor": "white",
            "ticks": ""
           }
          },
          "title": {
           "x": 0.05
          },
          "xaxis": {
           "automargin": true,
           "gridcolor": "white",
           "linecolor": "white",
           "ticks": "",
           "title": {
            "standoff": 15
           },
           "zerolinecolor": "white",
           "zerolinewidth": 2
          },
          "yaxis": {
           "automargin": true,
           "gridcolor": "white",
           "linecolor": "white",
           "ticks": "",
           "title": {
            "standoff": 15
           },
           "zerolinecolor": "white",
           "zerolinewidth": 2
          }
         }
        },
        "title": {
         "text": "Distribution of Company Sizes",
         "x": 0.5
        }
       }
      }
     },
     "metadata": {},
     "output_type": "display_data"
    }
   ],
   "source": [
    "# Company Size Distribution\n",
    "company_size_counts = automation_job_market_df['Company_Size'].value_counts().reset_index()\n",
    "company_size_counts.columns = ['Company_Size', 'Count']\n",
    "\n",
    "# Pie chart\n",
    "fig = px.pie(company_size_counts, names='Company_Size', title='Distribution of Company Sizes', values='Count', color='Company_Size')\n",
    "\n",
    "# Update layout for better visualization\n",
    "fig.update_layout(title_x=0.5)\n",
    "\n",
    "# Show the plot\n",
    "fig.show()"
   ]
  },
  {
   "cell_type": "code",
   "execution_count": 12,
   "id": "12eeddf2",
   "metadata": {},
   "outputs": [
    {
     "data": {
      "application/vnd.plotly.v1+json": {
       "config": {
        "plotlyServerURL": "https://plot.ly"
       },
       "data": [
        {
         "alignmentgroup": "True",
         "hovertemplate": "Salary_USD=%{x}<extra></extra>",
         "legendgroup": "",
         "marker": {
          "color": "blue"
         },
         "name": "",
         "notched": false,
         "offsetgroup": "",
         "orientation": "h",
         "showlegend": false,
         "type": "box",
         "x": {
          "bdata": "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",
          "dtype": "f8"
         },
         "x0": " ",
         "xaxis": "x",
         "y0": " ",
         "yaxis": "y"
        }
       ],
       "layout": {
        "boxmode": "group",
        "legend": {
         "tracegroupgap": 0
        },
        "template": {
         "data": {
          "bar": [
           {
            "error_x": {
             "color": "#2a3f5f"
            },
            "error_y": {
             "color": "#2a3f5f"
            },
            "marker": {
             "line": {
              "color": "#E5ECF6",
              "width": 0.5
             },
             "pattern": {
              "fillmode": "overlay",
              "size": 10,
              "solidity": 0.2
             }
            },
            "type": "bar"
           }
          ],
          "barpolar": [
           {
            "marker": {
             "line": {
              "color": "#E5ECF6",
              "width": 0.5
             },
             "pattern": {
              "fillmode": "overlay",
              "size": 10,
              "solidity": 0.2
             }
            },
            "type": "barpolar"
           }
          ],
          "carpet": [
           {
            "aaxis": {
             "endlinecolor": "#2a3f5f",
             "gridcolor": "white",
             "linecolor": "white",
             "minorgridcolor": "white",
             "startlinecolor": "#2a3f5f"
            },
            "baxis": {
             "endlinecolor": "#2a3f5f",
             "gridcolor": "white",
             "linecolor": "white",
             "minorgridcolor": "white",
             "startlinecolor": "#2a3f5f"
            },
            "type": "carpet"
           }
          ],
          "choropleth": [
           {
            "colorbar": {
             "outlinewidth": 0,
             "ticks": ""
            },
            "type": "choropleth"
           }
          ],
          "contour": [
           {
            "colorbar": {
             "outlinewidth": 0,
             "ticks": ""
            },
            "colorscale": [
             [
              0,
              "#0d0887"
             ],
             [
              0.1111111111111111,
              "#46039f"
             ],
             [
              0.2222222222222222,
              "#7201a8"
             ],
             [
              0.3333333333333333,
              "#9c179e"
             ],
             [
              0.4444444444444444,
              "#bd3786"
             ],
             [
              0.5555555555555556,
              "#d8576b"
             ],
             [
              0.6666666666666666,
              "#ed7953"
             ],
             [
              0.7777777777777778,
              "#fb9f3a"
             ],
             [
              0.8888888888888888,
              "#fdca26"
             ],
             [
              1,
              "#f0f921"
             ]
            ],
            "type": "contour"
           }
          ],
          "contourcarpet": [
           {
            "colorbar": {
             "outlinewidth": 0,
             "ticks": ""
            },
            "type": "contourcarpet"
           }
          ],
          "heatmap": [
           {
            "colorbar": {
             "outlinewidth": 0,
             "ticks": ""
            },
            "colorscale": [
             [
              0,
              "#0d0887"
             ],
             [
              0.1111111111111111,
              "#46039f"
             ],
             [
              0.2222222222222222,
              "#7201a8"
             ],
             [
              0.3333333333333333,
              "#9c179e"
             ],
             [
              0.4444444444444444,
              "#bd3786"
             ],
             [
              0.5555555555555556,
              "#d8576b"
             ],
             [
              0.6666666666666666,
              "#ed7953"
             ],
             [
              0.7777777777777778,
              "#fb9f3a"
             ],
             [
              0.8888888888888888,
              "#fdca26"
             ],
             [
              1,
              "#f0f921"
             ]
            ],
            "type": "heatmap"
           }
          ],
          "histogram": [
           {
            "marker": {
             "pattern": {
              "fillmode": "overlay",
              "size": 10,
              "solidity": 0.2
             }
            },
            "type": "histogram"
           }
          ],
          "histogram2d": [
           {
            "colorbar": {
             "outlinewidth": 0,
             "ticks": ""
            },
            "colorscale": [
             [
              0,
              "#0d0887"
             ],
             [
              0.1111111111111111,
              "#46039f"
             ],
             [
              0.2222222222222222,
              "#7201a8"
             ],
             [
              0.3333333333333333,
              "#9c179e"
             ],
             [
              0.4444444444444444,
              "#bd3786"
             ],
             [
              0.5555555555555556,
              "#d8576b"
             ],
             [
              0.6666666666666666,
              "#ed7953"
             ],
             [
              0.7777777777777778,
              "#fb9f3a"
             ],
             [
              0.8888888888888888,
              "#fdca26"
             ],
             [
              1,
              "#f0f921"
             ]
            ],
            "type": "histogram2d"
           }
          ],
          "histogram2dcontour": [
           {
            "colorbar": {
             "outlinewidth": 0,
             "ticks": ""
            },
            "colorscale": [
             [
              0,
              "#0d0887"
             ],
             [
              0.1111111111111111,
              "#46039f"
             ],
             [
              0.2222222222222222,
              "#7201a8"
             ],
             [
              0.3333333333333333,
              "#9c179e"
             ],
             [
              0.4444444444444444,
              "#bd3786"
             ],
             [
              0.5555555555555556,
              "#d8576b"
             ],
             [
              0.6666666666666666,
              "#ed7953"
             ],
             [
              0.7777777777777778,
              "#fb9f3a"
             ],
             [
              0.8888888888888888,
              "#fdca26"
             ],
             [
              1,
              "#f0f921"
             ]
            ],
            "type": "histogram2dcontour"
           }
          ],
          "mesh3d": [
           {
            "colorbar": {
             "outlinewidth": 0,
             "ticks": ""
            },
            "type": "mesh3d"
           }
          ],
          "parcoords": [
           {
            "line": {
             "colorbar": {
              "outlinewidth": 0,
              "ticks": ""
             }
            },
            "type": "parcoords"
           }
          ],
          "pie": [
           {
            "automargin": true,
            "type": "pie"
           }
          ],
          "scatter": [
           {
            "fillpattern": {
             "fillmode": "overlay",
             "size": 10,
             "solidity": 0.2
            },
            "type": "scatter"
           }
          ],
          "scatter3d": [
           {
            "line": {
             "colorbar": {
              "outlinewidth": 0,
              "ticks": ""
             }
            },
            "marker": {
             "colorbar": {
              "outlinewidth": 0,
              "ticks": ""
             }
            },
            "type": "scatter3d"
           }
          ],
          "scattercarpet": [
           {
            "marker": {
             "colorbar": {
              "outlinewidth": 0,
              "ticks": ""
             }
            },
            "type": "scattercarpet"
           }
          ],
          "scattergeo": [
           {
            "marker": {
             "colorbar": {
              "outlinewidth": 0,
              "ticks": ""
             }
            },
            "type": "scattergeo"
           }
          ],
          "scattergl": [
           {
            "marker": {
             "colorbar": {
              "outlinewidth": 0,
              "ticks": ""
             }
            },
            "type": "scattergl"
           }
          ],
          "scattermap": [
           {
            "marker": {
             "colorbar": {
              "outlinewidth": 0,
              "ticks": ""
             }
            },
            "type": "scattermap"
           }
          ],
          "scattermapbox": [
           {
            "marker": {
             "colorbar": {
              "outlinewidth": 0,
              "ticks": ""
             }
            },
            "type": "scattermapbox"
           }
          ],
          "scatterpolar": [
           {
            "marker": {
             "colorbar": {
              "outlinewidth": 0,
              "ticks": ""
             }
            },
            "type": "scatterpolar"
           }
          ],
          "scatterpolargl": [
           {
            "marker": {
             "colorbar": {
              "outlinewidth": 0,
              "ticks": ""
             }
            },
            "type": "scatterpolargl"
           }
          ],
          "scatterternary": [
           {
            "marker": {
             "colorbar": {
              "outlinewidth": 0,
              "ticks": ""
             }
            },
            "type": "scatterternary"
           }
          ],
          "surface": [
           {
            "colorbar": {
             "outlinewidth": 0,
             "ticks": ""
            },
            "colorscale": [
             [
              0,
              "#0d0887"
             ],
             [
              0.1111111111111111,
              "#46039f"
             ],
             [
              0.2222222222222222,
              "#7201a8"
             ],
             [
              0.3333333333333333,
              "#9c179e"
             ],
             [
              0.4444444444444444,
              "#bd3786"
             ],
             [
              0.5555555555555556,
              "#d8576b"
             ],
             [
              0.6666666666666666,
              "#ed7953"
             ],
             [
              0.7777777777777778,
              "#fb9f3a"
             ],
             [
              0.8888888888888888,
              "#fdca26"
             ],
             [
              1,
              "#f0f921"
             ]
            ],
            "type": "surface"
           }
          ],
          "table": [
           {
            "cells": {
             "fill": {
              "color": "#EBF0F8"
             },
             "line": {
              "color": "white"
             }
            },
            "header": {
             "fill": {
              "color": "#C8D4E3"
             },
             "line": {
              "color": "white"
             }
            },
            "type": "table"
           }
          ]
         },
         "layout": {
          "annotationdefaults": {
           "arrowcolor": "#2a3f5f",
           "arrowhead": 0,
           "arrowwidth": 1
          },
          "autotypenumbers": "strict",
          "coloraxis": {
           "colorbar": {
            "outlinewidth": 0,
            "ticks": ""
           }
          },
          "colorscale": {
           "diverging": [
            [
             0,
             "#8e0152"
            ],
            [
             0.1,
             "#c51b7d"
            ],
            [
             0.2,
             "#de77ae"
            ],
            [
             0.3,
             "#f1b6da"
            ],
            [
             0.4,
             "#fde0ef"
            ],
            [
             0.5,
             "#f7f7f7"
            ],
            [
             0.6,
             "#e6f5d0"
            ],
            [
             0.7,
             "#b8e186"
            ],
            [
             0.8,
             "#7fbc41"
            ],
            [
             0.9,
             "#4d9221"
            ],
            [
             1,
             "#276419"
            ]
           ],
           "sequential": [
            [
             0,
             "#0d0887"
            ],
            [
             0.1111111111111111,
             "#46039f"
            ],
            [
             0.2222222222222222,
             "#7201a8"
            ],
            [
             0.3333333333333333,
             "#9c179e"
            ],
            [
             0.4444444444444444,
             "#bd3786"
            ],
            [
             0.5555555555555556,
             "#d8576b"
            ],
            [
             0.6666666666666666,
             "#ed7953"
            ],
            [
             0.7777777777777778,
             "#fb9f3a"
            ],
            [
             0.8888888888888888,
             "#fdca26"
            ],
            [
             1,
             "#f0f921"
            ]
           ],
           "sequentialminus": [
            [
             0,
             "#0d0887"
            ],
            [
             0.1111111111111111,
             "#46039f"
            ],
            [
             0.2222222222222222,
             "#7201a8"
            ],
            [
             0.3333333333333333,
             "#9c179e"
            ],
            [
             0.4444444444444444,
             "#bd3786"
            ],
            [
             0.5555555555555556,
             "#d8576b"
            ],
            [
             0.6666666666666666,
             "#ed7953"
            ],
            [
             0.7777777777777778,
             "#fb9f3a"
            ],
            [
             0.8888888888888888,
             "#fdca26"
            ],
            [
             1,
             "#f0f921"
            ]
           ]
          },
          "colorway": [
           "#636efa",
           "#EF553B",
           "#00cc96",
           "#ab63fa",
           "#FFA15A",
           "#19d3f3",
           "#FF6692",
           "#B6E880",
           "#FF97FF",
           "#FECB52"
          ],
          "font": {
           "color": "#2a3f5f"
          },
          "geo": {
           "bgcolor": "white",
           "lakecolor": "white",
           "landcolor": "#E5ECF6",
           "showlakes": true,
           "showland": true,
           "subunitcolor": "white"
          },
          "hoverlabel": {
           "align": "left"
          },
          "hovermode": "closest",
          "mapbox": {
           "style": "light"
          },
          "paper_bgcolor": "white",
          "plot_bgcolor": "#E5ECF6",
          "polar": {
           "angularaxis": {
            "gridcolor": "white",
            "linecolor": "white",
            "ticks": ""
           },
           "bgcolor": "#E5ECF6",
           "radialaxis": {
            "gridcolor": "white",
            "linecolor": "white",
            "ticks": ""
           }
          },
          "scene": {
           "xaxis": {
            "backgroundcolor": "#E5ECF6",
            "gridcolor": "white",
            "gridwidth": 2,
            "linecolor": "white",
            "showbackground": true,
            "ticks": "",
            "zerolinecolor": "white"
           },
           "yaxis": {
            "backgroundcolor": "#E5ECF6",
            "gridcolor": "white",
            "gridwidth": 2,
            "linecolor": "white",
            "showbackground": true,
            "ticks": "",
            "zerolinecolor": "white"
           },
           "zaxis": {
            "backgroundcolor": "#E5ECF6",
            "gridcolor": "white",
            "gridwidth": 2,
            "linecolor": "white",
            "showbackground": true,
            "ticks": "",
            "zerolinecolor": "white"
           }
          },
          "shapedefaults": {
           "line": {
            "color": "#2a3f5f"
           }
          },
          "ternary": {
           "aaxis": {
            "gridcolor": "white",
            "linecolor": "white",
            "ticks": ""
           },
           "baxis": {
            "gridcolor": "white",
            "linecolor": "white",
            "ticks": ""
           },
           "bgcolor": "#E5ECF6",
           "caxis": {
            "gridcolor": "white",
            "linecolor": "white",
            "ticks": ""
           }
          },
          "title": {
           "x": 0.05
          },
          "xaxis": {
           "automargin": true,
           "gridcolor": "white",
           "linecolor": "white",
           "ticks": "",
           "title": {
            "standoff": 15
           },
           "zerolinecolor": "white",
           "zerolinewidth": 2
          },
          "yaxis": {
           "automargin": true,
           "gridcolor": "white",
           "linecolor": "white",
           "ticks": "",
           "title": {
            "standoff": 15
           },
           "zerolinecolor": "white",
           "zerolinewidth": 2
          }
         }
        },
        "title": {
         "text": "Boxplot of Salary Distribution (In USD)"
        },
        "xaxis": {
         "anchor": "y",
         "domain": [
          0,
          1
         ],
         "title": {
          "text": "Salary_USD"
         }
        },
        "yaxis": {
         "anchor": "x",
         "domain": [
          0,
          1
         ]
        }
       }
      }
     },
     "metadata": {},
     "output_type": "display_data"
    }
   ],
   "source": [
    "# Based on the variance of 'Salary_USD' column, there is variance, highlighting signficant variability between the lowest and highest salaries\n",
    "\n",
    "# Outlier\n",
    "fig = px.box(automation_job_market_df, x='Salary_USD', title='Boxplot of Salary Distribution (In USD)', color_discrete_sequence=['blue'])\n",
    "fig.show()"
   ]
  },
  {
   "cell_type": "code",
   "execution_count": 13,
   "id": "0944d3b9",
   "metadata": {},
   "outputs": [
    {
     "data": {
      "text/plain": [
       "<Axes: xlabel='Salary_USD', ylabel='Density'>"
      ]
     },
     "execution_count": 13,
     "metadata": {},
     "output_type": "execute_result"
    },
    {
     "data": {
      "image/png": "[encoded data removed]",
      "text/plain": [
       "<Figure size 1400x1000 with 2 Axes>"
      ]
     },
     "metadata": {},
     "output_type": "display_data"
    }
   ],
   "source": [
    "# Salary Distribution\n",
    "plt.figure(figsize=(14, 10))\n",
    "\n",
    "plt.subplot(2, 2, 1)\n",
    "sns.histplot(data=automation_job_market_df, x='Salary_USD', palette='blues')\n",
    "plt.title('Salary Distribution (In USD)')\n",
    "\n",
    "plt.subplot(2, 2, 2)\n",
    "sns.kdeplot(data=automation_job_market_df, x='Salary_USD', hue='Required_Skills')\n"
   ]
  },
  {
   "cell_type": "code",
   "execution_count": 14,
   "id": "4da26171",
   "metadata": {},
   "outputs": [
    {
     "data": {
      "application/vnd.plotly.v1+json": {
       "config": {
        "plotlyServerURL": "https://plot.ly"
       },
       "data": [
        {
         "alignmentgroup": "True",
         "bingroup": "x",
         "hovertemplate": "Automation_Risk=High<br>Industry=%{x}<br>count=%{y}<extra></extra>",
         "legendgroup": "High",
         "marker": {
          "color": "#fde725",
          "pattern": {
           "shape": ""
          }
         },
         "name": "High",
         "offsetgroup": "High",
         "orientation": "v",
         "showlegend": true,
         "type": "histogram",
         "x": [
          "Entertainment",
          "Technology",
          "Technology",
          "Retail",
          "Finance",
          "Finance",
          "Entertainment",
          "Retail",
          "Finance",
          "Manufacturing",
          "Finance",
          "Manufacturing",
          "Transportation",
          "Telecommunications",
          "Telecommunications",
          "Entertainment",
          "Telecommunications",
          "Telecommunications",
          "Retail",
          "Technology",
          "Transportation",
          "Entertainment",
          "Retail",
          "Education",
          "Finance",
          "Energy",
          "Energy",
          "Technology",
          "Education",
          "Education",
          "Finance",
          "Retail",
          "Entertainment",
          "Entertainment",
          "Technology",
          "Telecommunications",
          "Energy",
          "Manufacturing",
          "Telecommunications",
          "Energy",
          "Healthcare",
          "Manufacturing",
          "Entertainment",
          "Retail",
          "Finance",
          "Education",
          "Healthcare",
          "Manufacturing",
          "Healthcare",
          "Telecommunications",
          "Technology",
          "Technology",
          "Entertainment",
          "Technology",
          "Transportation",
          "Technology",
          "Education",
          "Manufacturing",
          "Entertainment",
          "Finance",
          "Telecommunications",
          "Technology",
          "Education",
          "Manufacturing",
          "Manufacturing",
          "Education",
          "Healthcare",
          "Education",
          "Technology",
          "Transportation",
          "Telecommunications",
          "Technology",
          "Manufacturing",
          "Retail",
          "Manufacturing",
          "Healthcare",
          "Transportation",
          "Education",
          "Healthcare",
          "Finance",
          "Manufacturing",
          "Manufacturing",
          "Telecommunications",
          "Education",
          "Transportation",
          "Healthcare",
          "Energy",
          "Transportation",
          "Finance",
          "Transportation",
          "Telecommunications",
          "Finance",
          "Manufacturing",
          "Transportation",
          "Transportation",
          "Entertainment",
          "Entertainment",
          "Education",
          "Energy",
          "Energy",
          "Finance",
          "Entertainment",
          "Manufacturing",
          "Retail",
          "Telecommunications",
          "Entertainment",
          "Manufacturing",
          "Education",
          "Energy",
          "Transportation",
          "Transportation",
          "Finance",
          "Energy",
          "Education",
          "Retail",
          "Education",
          "Entertainment",
          "Energy",
          "Finance",
          "Education",
          "Technology",
          "Technology",
          "Telecommunications",
          "Education",
          "Finance",
          "Telecommunications",
          "Entertainment",
          "Entertainment",
          "Education",
          "Healthcare",
          "Energy",
          "Entertainment",
          "Manufacturing",
          "Manufacturing",
          "Finance",
          "Telecommunications",
          "Healthcare",
          "Energy",
          "Energy",
          "Technology",
          "Transportation",
          "Technology",
          "Transportation",
          "Healthcare",
          "Manufacturing",
          "Energy",
          "Transportation",
          "Education",
          "Education",
          "Transportation",
          "Transportation",
          "Education",
          "Technology",
          "Transportation",
          "Education",
          "Healthcare",
          "Telecommunications",
          "Manufacturing",
          "Telecommunications",
          "Energy",
          "Energy",
          "Retail",
          "Finance",
          "Retail",
          "Education",
          "Energy",
          "Transportation",
          "Telecommunications",
          "Entertainment"
         ],
         "xaxis": "x",
         "yaxis": "y"
        },
        {
         "alignmentgroup": "True",
         "bingroup": "x",
         "hovertemplate": "Automation_Risk=Low<br>Industry=%{x}<br>count=%{y}<extra></extra>",
         "legendgroup": "Low",
         "marker": {
          "color": "#b5de2b",
          "pattern": {
           "shape": ""
          }
         },
         "name": "Low",
         "offsetgroup": "Low",
         "orientation": "v",
         "showlegend": true,
         "type": "histogram",
         "x": [
          "Entertainment",
          "Technology",
          "Retail",
          "Entertainment",
          "Telecommunications",
          "Entertainment",
          "Retail",
          "Transportation",
          "Entertainment",
          "Manufacturing",
          "Manufacturing",
          "Transportation",
          "Education",
          "Transportation",
          "Energy",
          "Manufacturing",
          "Finance",
          "Technology",
          "Education",
          "Education",
          "Transportation",
          "Finance",
          "Telecommunications",
          "Entertainment",
          "Entertainment",
          "Technology",
          "Entertainment",
          "Education",
          "Telecommunications",
          "Healthcare",
          "Education",
          "Entertainment",
          "Education",
          "Energy",
          "Retail",
          "Telecommunications",
          "Education",
          "Entertainment",
          "Technology",
          "Manufacturing",
          "Energy",
          "Manufacturing",
          "Transportation",
          "Energy",
          "Healthcare",
          "Manufacturing",
          "Technology",
          "Healthcare",
          "Finance",
          "Manufacturing",
          "Finance",
          "Manufacturing",
          "Transportation",
          "Manufacturing",
          "Manufacturing",
          "Telecommunications",
          "Retail",
          "Technology",
          "Energy",
          "Transportation",
          "Telecommunications",
          "Healthcare",
          "Healthcare",
          "Finance",
          "Education",
          "Healthcare",
          "Finance",
          "Healthcare",
          "Entertainment",
          "Telecommunications",
          "Technology",
          "Retail",
          "Manufacturing",
          "Education",
          "Entertainment",
          "Transportation",
          "Energy",
          "Retail",
          "Energy",
          "Retail",
          "Energy",
          "Entertainment",
          "Finance",
          "Finance",
          "Healthcare",
          "Telecommunications",
          "Education",
          "Manufacturing",
          "Entertainment",
          "Technology",
          "Telecommunications",
          "Energy",
          "Telecommunications",
          "Retail",
          "Technology",
          "Telecommunications",
          "Healthcare",
          "Education",
          "Telecommunications",
          "Education",
          "Telecommunications",
          "Retail",
          "Telecommunications",
          "Healthcare",
          "Technology",
          "Education",
          "Energy",
          "Education",
          "Manufacturing",
          "Technology",
          "Entertainment",
          "Retail",
          "Energy",
          "Healthcare",
          "Retail",
          "Finance",
          "Telecommunications",
          "Manufacturing",
          "Telecommunications",
          "Education",
          "Finance",
          "Manufacturing",
          "Retail",
          "Technology",
          "Education",
          "Transportation",
          "Healthcare",
          "Energy",
          "Healthcare",
          "Technology",
          "Transportation",
          "Finance",
          "Entertainment",
          "Finance",
          "Technology",
          "Energy",
          "Manufacturing",
          "Retail",
          "Entertainment",
          "Transportation",
          "Energy",
          "Technology",
          "Technology",
          "Finance",
          "Finance",
          "Finance",
          "Energy",
          "Telecommunications",
          "Retail",
          "Retail",
          "Entertainment",
          "Technology",
          "Energy",
          "Finance",
          "Retail",
          "Energy",
          "Energy",
          "Healthcare"
         ],
         "xaxis": "x",
         "yaxis": "y"
        },
        {
         "alignmentgroup": "True",
         "bingroup": "x",
         "hovertemplate": "Automation_Risk=Medium<br>Industry=%{x}<br>count=%{y}<extra></extra>",
         "legendgroup": "Medium",
         "marker": {
          "color": "#6ece58",
          "pattern": {
           "shape": ""
          }
         },
         "name": "Medium",
         "offsetgroup": "Medium",
         "orientation": "v",
         "showlegend": true,
         "type": "histogram",
         "x": [
          "Education",
          "Transportation",
          "Manufacturing",
          "Retail",
          "Manufacturing",
          "Telecommunications",
          "Transportation",
          "Finance",
          "Healthcare",
          "Technology",
          "Telecommunications",
          "Entertainment",
          "Healthcare",
          "Telecommunications",
          "Healthcare",
          "Manufacturing",
          "Education",
          "Energy",
          "Retail",
          "Finance",
          "Telecommunications",
          "Telecommunications",
          "Transportation",
          "Healthcare",
          "Retail",
          "Transportation",
          "Technology",
          "Finance",
          "Manufacturing",
          "Manufacturing",
          "Manufacturing",
          "Manufacturing",
          "Retail",
          "Finance",
          "Technology",
          "Manufacturing",
          "Education",
          "Finance",
          "Transportation",
          "Energy",
          "Telecommunications",
          "Technology",
          "Retail",
          "Finance",
          "Entertainment",
          "Healthcare",
          "Technology",
          "Education",
          "Telecommunications",
          "Entertainment",
          "Education",
          "Technology",
          "Education",
          "Manufacturing",
          "Manufacturing",
          "Manufacturing",
          "Telecommunications",
          "Finance",
          "Technology",
          "Technology",
          "Technology",
          "Healthcare",
          "Energy",
          "Education",
          "Education",
          "Finance",
          "Healthcare",
          "Entertainment",
          "Technology",
          "Transportation",
          "Manufacturing",
          "Transportation",
          "Healthcare",
          "Healthcare",
          "Retail",
          "Energy",
          "Finance",
          "Energy",
          "Technology",
          "Telecommunications",
          "Energy",
          "Healthcare",
          "Finance",
          "Finance",
          "Telecommunications",
          "Manufacturing",
          "Education",
          "Technology",
          "Healthcare",
          "Entertainment",
          "Telecommunications",
          "Entertainment",
          "Entertainment",
          "Education",
          "Technology",
          "Technology",
          "Energy",
          "Finance",
          "Retail",
          "Energy",
          "Energy",
          "Telecommunications",
          "Finance",
          "Finance",
          "Entertainment",
          "Transportation",
          "Entertainment",
          "Technology",
          "Entertainment",
          "Technology",
          "Retail",
          "Finance",
          "Retail",
          "Healthcare",
          "Telecommunications",
          "Healthcare",
          "Manufacturing",
          "Education",
          "Education",
          "Transportation",
          "Retail",
          "Finance",
          "Manufacturing",
          "Education",
          "Education",
          "Technology",
          "Energy",
          "Healthcare",
          "Retail",
          "Retail",
          "Technology",
          "Retail",
          "Healthcare",
          "Energy",
          "Telecommunications",
          "Manufacturing",
          "Retail",
          "Technology",
          "Manufacturing",
          "Energy",
          "Technology",
          "Manufacturing",
          "Manufacturing",
          "Energy",
          "Healthcare",
          "Finance",
          "Education",
          "Finance",
          "Manufacturing",
          "Telecommunications",
          "Entertainment",
          "Finance",
          "Education",
          "Entertainment",
          "Energy",
          "Finance",
          "Retail",
          "Technology",
          "Manufacturing",
          "Retail",
          "Technology",
          "Education",
          "Education",
          "Retail",
          "Retail",
          "Manufacturing",
          "Healthcare",
          "Retail",
          "Telecommunications",
          "Manufacturing",
          "Telecommunications",
          "Education",
          "Telecommunications"
         ],
         "xaxis": "x",
         "yaxis": "y"
        }
       ],
       "layout": {
        "barmode": "group",
        "legend": {
         "title": {
          "text": "Automation_Risk"
         },
         "tracegroupgap": 0
        },
        "template": {
         "data": {
          "bar": [
           {
            "error_x": {
             "color": "#2a3f5f"
            },
            "error_y": {
             "color": "#2a3f5f"
            },
            "marker": {
             "line": {
              "color": "#E5ECF6",
              "width": 0.5
             },
             "pattern": {
              "fillmode": "overlay",
              "size": 10,
              "solidity": 0.2
             }
            },
            "type": "bar"
           }
          ],
          "barpolar": [
           {
            "marker": {
             "line": {
              "color": "#E5ECF6",
              "width": 0.5
             },
             "pattern": {
              "fillmode": "overlay",
              "size": 10,
              "solidity": 0.2
             }
            },
            "type": "barpolar"
           }
          ],
          "carpet": [
           {
            "aaxis": {
             "endlinecolor": "#2a3f5f",
             "gridcolor": "white",
             "linecolor": "white",
             "minorgridcolor": "white",
             "startlinecolor": "#2a3f5f"
            },
            "baxis": {
             "endlinecolor": "#2a3f5f",
             "gridcolor": "white",
             "linecolor": "white",
             "minorgridcolor": "white",
             "startlinecolor": "#2a3f5f"
            },
            "type": "carpet"
           }
          ],
          "choropleth": [
           {
            "colorbar": {
             "outlinewidth": 0,
             "ticks": ""
            },
            "type": "choropleth"
           }
          ],
          "contour": [
           {
            "colorbar": {
             "outlinewidth": 0,
             "ticks": ""
            },
            "colorscale": [
             [
              0,
              "#0d0887"
             ],
             [
              0.1111111111111111,
              "#46039f"
             ],
             [
              0.2222222222222222,
              "#7201a8"
             ],
             [
              0.3333333333333333,
              "#9c179e"
             ],
             [
              0.4444444444444444,
              "#bd3786"
             ],
             [
              0.5555555555555556,
              "#d8576b"
             ],
             [
              0.6666666666666666,
              "#ed7953"
             ],
             [
              0.7777777777777778,
              "#fb9f3a"
             ],
             [
              0.8888888888888888,
              "#fdca26"
             ],
             [
              1,
              "#f0f921"
             ]
            ],
            "type": "contour"
           }
          ],
          "contourcarpet": [
           {
            "colorbar": {
             "outlinewidth": 0,
             "ticks": ""
            },
            "type": "contourcarpet"
           }
          ],
          "heatmap": [
           {
            "colorbar": {
             "outlinewidth": 0,
             "ticks": ""
            },
            "colorscale": [
             [
              0,
              "#0d0887"
             ],
             [
              0.1111111111111111,
              "#46039f"
             ],
             [
              0.2222222222222222,
              "#7201a8"
             ],
             [
              0.3333333333333333,
              "#9c179e"
             ],
             [
              0.4444444444444444,
              "#bd3786"
             ],
             [
              0.5555555555555556,
              "#d8576b"
             ],
             [
              0.6666666666666666,
              "#ed7953"
             ],
             [
              0.7777777777777778,
              "#fb9f3a"
             ],
             [
              0.8888888888888888,
              "#fdca26"
             ],
             [
              1,
              "#f0f921"
             ]
            ],
            "type": "heatmap"
           }
          ],
          "histogram": [
           {
            "marker": {
             "pattern": {
              "fillmode": "overlay",
              "size": 10,
              "solidity": 0.2
             }
            },
            "type": "histogram"
           }
          ],
          "histogram2d": [
           {
            "colorbar": {
             "outlinewidth": 0,
             "ticks": ""
            },
            "colorscale": [
             [
              0,
              "#0d0887"
             ],
             [
              0.1111111111111111,
              "#46039f"
             ],
             [
              0.2222222222222222,
              "#7201a8"
             ],
             [
              0.3333333333333333,
              "#9c179e"
             ],
             [
              0.4444444444444444,
              "#bd3786"
             ],
             [
              0.5555555555555556,
              "#d8576b"
             ],
             [
              0.6666666666666666,
              "#ed7953"
             ],
             [
              0.7777777777777778,
              "#fb9f3a"
             ],
             [
              0.8888888888888888,
              "#fdca26"
             ],
             [
              1,
              "#f0f921"
             ]
            ],
            "type": "histogram2d"
           }
          ],
          "histogram2dcontour": [
           {
            "colorbar": {
             "outlinewidth": 0,
             "ticks": ""
            },
            "colorscale": [
             [
              0,
              "#0d0887"
             ],
             [
              0.1111111111111111,
              "#46039f"
             ],
             [
              0.2222222222222222,
              "#7201a8"
             ],
             [
              0.3333333333333333,
              "#9c179e"
             ],
             [
              0.4444444444444444,
              "#bd3786"
             ],
             [
              0.5555555555555556,
              "#d8576b"
             ],
             [
              0.6666666666666666,
              "#ed7953"
             ],
             [
              0.7777777777777778,
              "#fb9f3a"
             ],
             [
              0.8888888888888888,
              "#fdca26"
             ],
             [
              1,
              "#f0f921"
             ]
            ],
            "type": "histogram2dcontour"
           }
          ],
          "mesh3d": [
           {
            "colorbar": {
             "outlinewidth": 0,
             "ticks": ""
            },
            "type": "mesh3d"
           }
          ],
          "parcoords": [
           {
            "line": {
             "colorbar": {
              "outlinewidth": 0,
              "ticks": ""
             }
            },
            "type": "parcoords"
           }
          ],
          "pie": [
           {
            "automargin": true,
            "type": "pie"
           }
          ],
          "scatter": [
           {
            "fillpattern": {
             "fillmode": "overlay",
             "size": 10,
             "solidity": 0.2
            },
            "type": "scatter"
           }
          ],
          "scatter3d": [
           {
            "line": {
             "colorbar": {
              "outlinewidth": 0,
              "ticks": ""
             }
            },
            "marker": {
             "colorbar": {
              "outlinewidth": 0,
              "ticks": ""
             }
            },
            "type": "scatter3d"
           }
          ],
          "scattercarpet": [
           {
            "marker": {
             "colorbar": {
              "outlinewidth": 0,
              "ticks": ""
             }
            },
            "type": "scattercarpet"
           }
          ],
          "scattergeo": [
           {
            "marker": {
             "colorbar": {
              "outlinewidth": 0,
              "ticks": ""
             }
            },
            "type": "scattergeo"
           }
          ],
          "scattergl": [
           {
            "marker": {
             "colorbar": {
              "outlinewidth": 0,
              "ticks": ""
             }
            },
            "type": "scattergl"
           }
          ],
          "scattermap": [
           {
            "marker": {
             "colorbar": {
              "outlinewidth": 0,
              "ticks": ""
             }
            },
            "type": "scattermap"
           }
          ],
          "scattermapbox": [
           {
            "marker": {
             "colorbar": {
              "outlinewidth": 0,
              "ticks": ""
             }
            },
            "type": "scattermapbox"
           }
          ],
          "scatterpolar": [
           {
            "marker": {
             "colorbar": {
              "outlinewidth": 0,
              "ticks": ""
             }
            },
            "type": "scatterpolar"
           }
          ],
          "scatterpolargl": [
           {
            "marker": {
             "colorbar": {
              "outlinewidth": 0,
              "ticks": ""
             }
            },
            "type": "scatterpolargl"
           }
          ],
          "scatterternary": [
           {
            "marker": {
             "colorbar": {
              "outlinewidth": 0,
              "ticks": ""
             }
            },
            "type": "scatterternary"
           }
          ],
          "surface": [
           {
            "colorbar": {
             "outlinewidth": 0,
             "ticks": ""
            },
            "colorscale": [
             [
              0,
              "#0d0887"
             ],
             [
              0.1111111111111111,
              "#46039f"
             ],
             [
              0.2222222222222222,
              "#7201a8"
             ],
             [
              0.3333333333333333,
              "#9c179e"
             ],
             [
              0.4444444444444444,
              "#bd3786"
             ],
             [
              0.5555555555555556,
              "#d8576b"
             ],
             [
              0.6666666666666666,
              "#ed7953"
             ],
             [
              0.7777777777777778,
              "#fb9f3a"
             ],
             [
              0.8888888888888888,
              "#fdca26"
             ],
             [
              1,
              "#f0f921"
             ]
            ],
            "type": "surface"
           }
          ],
          "table": [
           {
            "cells": {
             "fill": {
              "color": "#EBF0F8"
             },
             "line": {
              "color": "white"
             }
            },
            "header": {
             "fill": {
              "color": "#C8D4E3"
             },
             "line": {
              "color": "white"
             }
            },
            "type": "table"
           }
          ]
         },
         "layout": {
          "annotationdefaults": {
           "arrowcolor": "#2a3f5f",
           "arrowhead": 0,
           "arrowwidth": 1
          },
          "autotypenumbers": "strict",
          "coloraxis": {
           "colorbar": {
            "outlinewidth": 0,
            "ticks": ""
           }
          },
          "colorscale": {
           "diverging": [
            [
             0,
             "#8e0152"
            ],
            [
             0.1,
             "#c51b7d"
            ],
            [
             0.2,
             "#de77ae"
            ],
            [
             0.3,
             "#f1b6da"
            ],
            [
             0.4,
             "#fde0ef"
            ],
            [
             0.5,
             "#f7f7f7"
            ],
            [
             0.6,
             "#e6f5d0"
            ],
            [
             0.7,
             "#b8e186"
            ],
            [
             0.8,
             "#7fbc41"
            ],
            [
             0.9,
             "#4d9221"
            ],
            [
             1,
             "#276419"
            ]
           ],
           "sequential": [
            [
             0,
             "#0d0887"
            ],
            [
             0.1111111111111111,
             "#46039f"
            ],
            [
             0.2222222222222222,
             "#7201a8"
            ],
            [
             0.3333333333333333,
             "#9c179e"
            ],
            [
             0.4444444444444444,
             "#bd3786"
            ],
            [
             0.5555555555555556,
             "#d8576b"
            ],
            [
             0.6666666666666666,
             "#ed7953"
            ],
            [
             0.7777777777777778,
             "#fb9f3a"
            ],
            [
             0.8888888888888888,
             "#fdca26"
            ],
            [
             1,
             "#f0f921"
            ]
           ],
           "sequentialminus": [
            [
             0,
             "#0d0887"
            ],
            [
             0.1111111111111111,
             "#46039f"
            ],
            [
             0.2222222222222222,
             "#7201a8"
            ],
            [
             0.3333333333333333,
             "#9c179e"
            ],
            [
             0.4444444444444444,
             "#bd3786"
            ],
            [
             0.5555555555555556,
             "#d8576b"
            ],
            [
             0.6666666666666666,
             "#ed7953"
            ],
            [
             0.7777777777777778,
             "#fb9f3a"
            ],
            [
             0.8888888888888888,
             "#fdca26"
            ],
            [
             1,
             "#f0f921"
            ]
           ]
          },
          "colorway": [
           "#636efa",
           "#EF553B",
           "#00cc96",
           "#ab63fa",
           "#FFA15A",
           "#19d3f3",
           "#FF6692",
           "#B6E880",
           "#FF97FF",
           "#FECB52"
          ],
          "font": {
           "color": "#2a3f5f"
          },
          "geo": {
           "bgcolor": "white",
           "lakecolor": "white",
           "landcolor": "#E5ECF6",
           "showlakes": true,
           "showland": true,
           "subunitcolor": "white"
          },
          "hoverlabel": {
           "align": "left"
          },
          "hovermode": "closest",
          "mapbox": {
           "style": "light"
          },
          "paper_bgcolor": "white",
          "plot_bgcolor": "#E5ECF6",
          "polar": {
           "angularaxis": {
            "gridcolor": "white",
            "linecolor": "white",
            "ticks": ""
           },
           "bgcolor": "#E5ECF6",
           "radialaxis": {
            "gridcolor": "white",
            "linecolor": "white",
            "ticks": ""
           }
          },
          "scene": {
           "xaxis": {
            "backgroundcolor": "#E5ECF6",
            "gridcolor": "white",
            "gridwidth": 2,
            "linecolor": "white",
            "showbackground": true,
            "ticks": "",
            "zerolinecolor": "white"
           },
           "yaxis": {
            "backgroundcolor": "#E5ECF6",
            "gridcolor": "white",
            "gridwidth": 2,
            "linecolor": "white",
            "showbackground": true,
            "ticks": "",
            "zerolinecolor": "white"
           },
           "zaxis": {
            "backgroundcolor": "#E5ECF6",
            "gridcolor": "white",
            "gridwidth": 2,
            "linecolor": "white",
            "showbackground": true,
            "ticks": "",
            "zerolinecolor": "white"
           }
          },
          "shapedefaults": {
           "line": {
            "color": "#2a3f5f"
           }
          },
          "ternary": {
           "aaxis": {
            "gridcolor": "white",
            "linecolor": "white",
            "ticks": ""
           },
           "baxis": {
            "gridcolor": "white",
            "linecolor": "white",
            "ticks": ""
           },
           "bgcolor": "#E5ECF6",
           "caxis": {
            "gridcolor": "white",
            "linecolor": "white",
            "ticks": ""
           }
          },
          "title": {
           "x": 0.05
          },
          "xaxis": {
           "automargin": true,
           "gridcolor": "white",
           "linecolor": "white",
           "ticks": "",
           "title": {
            "standoff": 15
           },
           "zerolinecolor": "white",
           "zerolinewidth": 2
          },
          "yaxis": {
           "automargin": true,
           "gridcolor": "white",
           "linecolor": "white",
           "ticks": "",
           "title": {
            "standoff": 15
           },
           "zerolinecolor": "white",
           "zerolinewidth": 2
          }
         }
        },
        "title": {
         "text": "Automation Risk by Industry"
        },
        "xaxis": {
         "anchor": "y",
         "domain": [
          0,
          1
         ],
         "tickangle": -45,
         "title": {
          "text": "Industry"
         }
        },
        "yaxis": {
         "anchor": "x",
         "domain": [
          0,
          1
         ],
         "title": {
          "text": "Count"
         }
        }
       }
      }
     },
     "metadata": {},
     "output_type": "display_data"
    }
   ],
   "source": [
    "# Automation Risk by Industry\n",
    "fig = px.histogram(automation_job_market_df, x='Industry', color='Automation_Risk', barmode='group', title='Automation Risk by Industry', color_discrete_sequence=px.colors.sequential.Viridis_r)\n",
    "\n",
    "fig.update_layout(xaxis_title='Industry', yaxis_title='Count', xaxis_tickangle=-45)\n",
    "\n",
    "fig.show()"
   ]
  },
  {
   "cell_type": "code",
   "execution_count": 15,
   "id": "24955bf0",
   "metadata": {},
   "outputs": [
    {
     "data": {
      "application/vnd.plotly.v1+json": {
       "config": {
        "plotlyServerURL": "https://plot.ly"
       },
       "data": [
        {
         "domain": {
          "x": [
           0,
           0.2888888888888889
          ],
          "y": [
           0,
           1
          ]
         },
         "labels": [
          "Growth",
          "Stable",
          "Decline"
         ],
         "name": "Low",
         "type": "pie",
         "values": {
          "bdata": "PT00",
          "dtype": "i1"
         }
        },
        {
         "domain": {
          "x": [
           0.35555555555555557,
           0.6444444444444445
          ],
          "y": [
           0,
           1
          ]
         },
         "labels": [
          "Growth",
          "Decline",
          "Stable"
         ],
         "name": "Medium",
         "type": "pie",
         "values": {
          "bdata": "Pj43",
          "dtype": "i1"
         }
        },
        {
         "domain": {
          "x": [
           0.7111111111111111,
           1
          ],
          "y": [
           0,
           1
          ]
         },
         "labels": [
          "Decline",
          "Stable",
          "Growth"
         ],
         "name": "High",
         "type": "pie",
         "values": {
          "bdata": "Ny4u",
          "dtype": "i1"
         }
        }
       ],
       "layout": {
        "annotations": [
         {
          "font": {
           "size": 16
          },
          "showarrow": false,
          "text": "Low AI Adoption",
          "x": 0.14444444444444446,
          "xanchor": "center",
          "xref": "paper",
          "y": 1,
          "yanchor": "bottom",
          "yref": "paper"
         },
         {
          "font": {
           "size": 16
          },
          "showarrow": false,
          "text": "Medium AI Adoption",
          "x": 0.5,
          "xanchor": "center",
          "xref": "paper",
          "y": 1,
          "yanchor": "bottom",
          "yref": "paper"
         },
         {
          "font": {
           "size": 16
          },
          "showarrow": false,
          "text": "High AI Adoption",
          "x": 0.8555555555555556,
          "xanchor": "center",
          "xref": "paper",
          "y": 1,
          "yanchor": "bottom",
          "yref": "paper"
         }
        ],
        "height": 500,
        "template": {
         "data": {
          "bar": [
           {
            "error_x": {
             "color": "#2a3f5f"
            },
            "error_y": {
             "color": "#2a3f5f"
            },
            "marker": {
             "line": {
              "color": "#E5ECF6",
              "width": 0.5
             },
             "pattern": {
              "fillmode": "overlay",
              "size": 10,
              "solidity": 0.2
             }
            },
            "type": "bar"
           }
          ],
          "barpolar": [
           {
            "marker": {
             "line": {
              "color": "#E5ECF6",
              "width": 0.5
             },
             "pattern": {
              "fillmode": "overlay",
              "size": 10,
              "solidity": 0.2
             }
            },
            "type": "barpolar"
           }
          ],
          "carpet": [
           {
            "aaxis": {
             "endlinecolor": "#2a3f5f",
             "gridcolor": "white",
             "linecolor": "white",
             "minorgridcolor": "white",
             "startlinecolor": "#2a3f5f"
            },
            "baxis": {
             "endlinecolor": "#2a3f5f",
             "gridcolor": "white",
             "linecolor": "white",
             "minorgridcolor": "white",
             "startlinecolor": "#2a3f5f"
            },
            "type": "carpet"
           }
          ],
          "choropleth": [
           {
            "colorbar": {
             "outlinewidth": 0,
             "ticks": ""
            },
            "type": "choropleth"
           }
          ],
          "contour": [
           {
            "colorbar": {
             "outlinewidth": 0,
             "ticks": ""
            },
            "colorscale": [
             [
              0,
              "#0d0887"
             ],
             [
              0.1111111111111111,
              "#46039f"
             ],
             [
              0.2222222222222222,
              "#7201a8"
             ],
             [
              0.3333333333333333,
              "#9c179e"
             ],
             [
              0.4444444444444444,
              "#bd3786"
             ],
             [
              0.5555555555555556,
              "#d8576b"
             ],
             [
              0.6666666666666666,
              "#ed7953"
             ],
             [
              0.7777777777777778,
              "#fb9f3a"
             ],
             [
              0.8888888888888888,
              "#fdca26"
             ],
             [
              1,
              "#f0f921"
             ]
            ],
            "type": "contour"
           }
          ],
          "contourcarpet": [
           {
            "colorbar": {
             "outlinewidth": 0,
             "ticks": ""
            },
            "type": "contourcarpet"
           }
          ],
          "heatmap": [
           {
            "colorbar": {
             "outlinewidth": 0,
             "ticks": ""
            },
            "colorscale": [
             [
              0,
              "#0d0887"
             ],
             [
              0.1111111111111111,
              "#46039f"
             ],
             [
              0.2222222222222222,
              "#7201a8"
             ],
             [
              0.3333333333333333,
              "#9c179e"
             ],
             [
              0.4444444444444444,
              "#bd3786"
             ],
             [
              0.5555555555555556,
              "#d8576b"
             ],
             [
              0.6666666666666666,
              "#ed7953"
             ],
             [
              0.7777777777777778,
              "#fb9f3a"
             ],
             [
              0.8888888888888888,
              "#fdca26"
             ],
             [
              1,
              "#f0f921"
             ]
            ],
            "type": "heatmap"
           }
          ],
          "histogram": [
           {
            "marker": {
             "pattern": {
              "fillmode": "overlay",
              "size": 10,
              "solidity": 0.2
             }
            },
            "type": "histogram"
           }
          ],
          "histogram2d": [
           {
            "colorbar": {
             "outlinewidth": 0,
             "ticks": ""
            },
            "colorscale": [
             [
              0,
              "#0d0887"
             ],
             [
              0.1111111111111111,
              "#46039f"
             ],
             [
              0.2222222222222222,
              "#7201a8"
             ],
             [
              0.3333333333333333,
              "#9c179e"
             ],
             [
              0.4444444444444444,
              "#bd3786"
             ],
             [
              0.5555555555555556,
              "#d8576b"
             ],
             [
              0.6666666666666666,
              "#ed7953"
             ],
             [
              0.7777777777777778,
              "#fb9f3a"
             ],
             [
              0.8888888888888888,
              "#fdca26"
             ],
             [
              1,
              "#f0f921"
             ]
            ],
            "type": "histogram2d"
           }
          ],
          "histogram2dcontour": [
           {
            "colorbar": {
             "outlinewidth": 0,
             "ticks": ""
            },
            "colorscale": [
             [
              0,
              "#0d0887"
             ],
             [
              0.1111111111111111,
              "#46039f"
             ],
             [
              0.2222222222222222,
              "#7201a8"
             ],
             [
              0.3333333333333333,
              "#9c179e"
             ],
             [
              0.4444444444444444,
              "#bd3786"
             ],
             [
              0.5555555555555556,
              "#d8576b"
             ],
             [
              0.6666666666666666,
              "#ed7953"
             ],
             [
              0.7777777777777778,
              "#fb9f3a"
             ],
             [
              0.8888888888888888,
              "#fdca26"
             ],
             [
              1,
              "#f0f921"
             ]
            ],
            "type": "histogram2dcontour"
           }
          ],
          "mesh3d": [
           {
            "colorbar": {
             "outlinewidth": 0,
             "ticks": ""
            },
            "type": "mesh3d"
           }
          ],
          "parcoords": [
           {
            "line": {
             "colorbar": {
              "outlinewidth": 0,
              "ticks": ""
             }
            },
            "type": "parcoords"
           }
          ],
          "pie": [
           {
            "automargin": true,
            "type": "pie"
           }
          ],
          "scatter": [
           {
            "fillpattern": {
             "fillmode": "overlay",
             "size": 10,
             "solidity": 0.2
            },
            "type": "scatter"
           }
          ],
          "scatter3d": [
           {
            "line": {
             "colorbar": {
              "outlinewidth": 0,
              "ticks": ""
             }
            },
            "marker": {
             "colorbar": {
              "outlinewidth": 0,
              "ticks": ""
             }
            },
            "type": "scatter3d"
           }
          ],
          "scattercarpet": [
           {
            "marker": {
             "colorbar": {
              "outlinewidth": 0,
              "ticks": ""
             }
            },
            "type": "scattercarpet"
           }
          ],
          "scattergeo": [
           {
            "marker": {
             "colorbar": {
              "outlinewidth": 0,
              "ticks": ""
             }
            },
            "type": "scattergeo"
           }
          ],
          "scattergl": [
           {
            "marker": {
             "colorbar": {
              "outlinewidth": 0,
              "ticks": ""
             }
            },
            "type": "scattergl"
           }
          ],
          "scattermap": [
           {
            "marker": {
             "colorbar": {
              "outlinewidth": 0,
              "ticks": ""
             }
            },
            "type": "scattermap"
           }
          ],
          "scattermapbox": [
           {
            "marker": {
             "colorbar": {
              "outlinewidth": 0,
              "ticks": ""
             }
            },
            "type": "scattermapbox"
           }
          ],
          "scatterpolar": [
           {
            "marker": {
             "colorbar": {
              "outlinewidth": 0,
              "ticks": ""
             }
            },
            "type": "scatterpolar"
           }
          ],
          "scatterpolargl": [
           {
            "marker": {
             "colorbar": {
              "outlinewidth": 0,
              "ticks": ""
             }
            },
            "type": "scatterpolargl"
           }
          ],
          "scatterternary": [
           {
            "marker": {
             "colorbar": {
              "outlinewidth": 0,
              "ticks": ""
             }
            },
            "type": "scatterternary"
           }
          ],
          "surface": [
           {
            "colorbar": {
             "outlinewidth": 0,
             "ticks": ""
            },
            "colorscale": [
             [
              0,
              "#0d0887"
             ],
             [
              0.1111111111111111,
              "#46039f"
             ],
             [
              0.2222222222222222,
              "#7201a8"
             ],
             [
              0.3333333333333333,
              "#9c179e"
             ],
             [
              0.4444444444444444,
              "#bd3786"
             ],
             [
              0.5555555555555556,
              "#d8576b"
             ],
             [
              0.6666666666666666,
              "#ed7953"
             ],
             [
              0.7777777777777778,
              "#fb9f3a"
             ],
             [
              0.8888888888888888,
              "#fdca26"
             ],
             [
              1,
              "#f0f921"
             ]
            ],
            "type": "surface"
           }
          ],
          "table": [
           {
            "cells": {
             "fill": {
              "color": "#EBF0F8"
             },
             "line": {
              "color": "white"
             }
            },
            "header": {
             "fill": {
              "color": "#C8D4E3"
             },
             "line": {
              "color": "white"
             }
            },
            "type": "table"
           }
          ]
         },
         "layout": {
          "annotationdefaults": {
           "arrowcolor": "#2a3f5f",
           "arrowhead": 0,
           "arrowwidth": 1
          },
          "autotypenumbers": "strict",
          "coloraxis": {
           "colorbar": {
            "outlinewidth": 0,
            "ticks": ""
           }
          },
          "colorscale": {
           "diverging": [
            [
             0,
             "#8e0152"
            ],
            [
             0.1,
             "#c51b7d"
            ],
            [
             0.2,
             "#de77ae"
            ],
            [
             0.3,
             "#f1b6da"
            ],
            [
             0.4,
             "#fde0ef"
            ],
            [
             0.5,
             "#f7f7f7"
            ],
            [
             0.6,
             "#e6f5d0"
            ],
            [
             0.7,
             "#b8e186"
            ],
            [
             0.8,
             "#7fbc41"
            ],
            [
             0.9,
             "#4d9221"
            ],
            [
             1,
             "#276419"
            ]
           ],
           "sequential": [
            [
             0,
             "#0d0887"
            ],
            [
             0.1111111111111111,
             "#46039f"
            ],
            [
             0.2222222222222222,
             "#7201a8"
            ],
            [
             0.3333333333333333,
             "#9c179e"
            ],
            [
             0.4444444444444444,
             "#bd3786"
            ],
            [
             0.5555555555555556,
             "#d8576b"
            ],
            [
             0.6666666666666666,
             "#ed7953"
            ],
            [
             0.7777777777777778,
             "#fb9f3a"
            ],
            [
             0.8888888888888888,
             "#fdca26"
            ],
            [
             1,
             "#f0f921"
            ]
           ],
           "sequentialminus": [
            [
             0,
             "#0d0887"
            ],
            [
             0.1111111111111111,
             "#46039f"
            ],
            [
             0.2222222222222222,
             "#7201a8"
            ],
            [
             0.3333333333333333,
             "#9c179e"
            ],
            [
             0.4444444444444444,
             "#bd3786"
            ],
            [
             0.5555555555555556,
             "#d8576b"
            ],
            [
             0.6666666666666666,
             "#ed7953"
            ],
            [
             0.7777777777777778,
             "#fb9f3a"
            ],
            [
             0.8888888888888888,
             "#fdca26"
            ],
            [
             1,
             "#f0f921"
            ]
           ]
          },
          "colorway": [
           "#636efa",
           "#EF553B",
           "#00cc96",
           "#ab63fa",
           "#FFA15A",
           "#19d3f3",
           "#FF6692",
           "#B6E880",
           "#FF97FF",
           "#FECB52"
          ],
          "font": {
           "color": "#2a3f5f"
          },
          "geo": {
           "bgcolor": "white",
           "lakecolor": "white",
           "landcolor": "#E5ECF6",
           "showlakes": true,
           "showland": true,
           "subunitcolor": "white"
          },
          "hoverlabel": {
           "align": "left"
          },
          "hovermode": "closest",
          "mapbox": {
           "style": "light"
          },
          "paper_bgcolor": "white",
          "plot_bgcolor": "#E5ECF6",
          "polar": {
           "angularaxis": {
            "gridcolor": "white",
            "linecolor": "white",
            "ticks": ""
           },
           "bgcolor": "#E5ECF6",
           "radialaxis": {
            "gridcolor": "white",
            "linecolor": "white",
            "ticks": ""
           }
          },
          "scene": {
           "xaxis": {
            "backgroundcolor": "#E5ECF6",
            "gridcolor": "white",
            "gridwidth": 2,
            "linecolor": "white",
            "showbackground": true,
            "ticks": "",
            "zerolinecolor": "white"
           },
           "yaxis": {
            "backgroundcolor": "#E5ECF6",
            "gridcolor": "white",
            "gridwidth": 2,
            "linecolor": "white",
            "showbackground": true,
            "ticks": "",
            "zerolinecolor": "white"
           },
           "zaxis": {
            "backgroundcolor": "#E5ECF6",
            "gridcolor": "white",
            "gridwidth": 2,
            "linecolor": "white",
            "showbackground": true,
            "ticks": "",
            "zerolinecolor": "white"
           }
          },
          "shapedefaults": {
           "line": {
            "color": "#2a3f5f"
           }
          },
          "ternary": {
           "aaxis": {
            "gridcolor": "white",
            "linecolor": "white",
            "ticks": ""
           },
           "baxis": {
            "gridcolor": "white",
            "linecolor": "white",
            "ticks": ""
           },
           "bgcolor": "#E5ECF6",
           "caxis": {
            "gridcolor": "white",
            "linecolor": "white",
            "ticks": ""
           }
          },
          "title": {
           "x": 0.05
          },
          "xaxis": {
           "automargin": true,
           "gridcolor": "white",
           "linecolor": "white",
           "ticks": "",
           "title": {
            "standoff": 15
           },
           "zerolinecolor": "white",
           "zerolinewidth": 2
          },
          "yaxis": {
           "automargin": true,
           "gridcolor": "white",
           "linecolor": "white",
           "ticks": "",
           "title": {
            "standoff": 15
           },
           "zerolinecolor": "white",
           "zerolinewidth": 2
          }
         }
        },
        "title": {
         "text": "Job Growth Projection by AI Adoption Level"
        },
        "width": 1000
       }
      }
     },
     "metadata": {},
     "output_type": "display_data"
    }
   ],
   "source": [
    "# Job Growth Projection by AI Adoption\n",
    "\n",
    "# Define levels of AI Adoption\n",
    "levels = ['Low', 'Medium', 'High']\n",
    "\n",
    "fig = make_subplots(rows=1, cols=3, specs=[[{'type':'domain'}] * 3], subplot_titles=[f\"{level} AI Adoption\" for level in levels])\n",
    "\n",
    "# Loop through each level and plot pie chart\n",
    "for i, level in enumerate(levels):\n",
    "  counts = automation_job_market_df[automation_job_market_df['AI_Adoption_Level'] == level]['Job_Growth_Projection'].value_counts()\n",
    "\n",
    "  if not counts.empty:\n",
    "    fig.add_trace(\n",
    "        go.Pie(labels=counts.index, values=counts.values, name=level),\n",
    "        row=1, col=i+1\n",
    "    )\n",
    "\n",
    "  else:\n",
    "    print(f\"No data for {level}\")\n",
    "\n",
    "# Update layout\n",
    "fig.update_layout(title_text='Job Growth Projection by AI Adoption Level', height=500, width=1000)\n",
    "fig.show()"
   ]
  },
  {
   "cell_type": "code",
   "execution_count": 16,
   "id": "7e01c705",
   "metadata": {},
   "outputs": [
    {
     "data": {
      "application/vnd.plotly.v1+json": {
       "config": {
        "plotlyServerURL": "https://plot.ly"
       },
       "data": [
        {
         "alignmentgroup": "True",
         "hovertemplate": "Automation_Risk=%{x}<br>Salary (USD)=%{y}<extra></extra>",
         "legendgroup": "High",
         "marker": {
          "color": "#636efa"
         },
         "name": "High",
         "notched": false,
         "offsetgroup": "High",
         "orientation": "v",
         "showlegend": true,
         "type": "box",
         "x": [
          "High",
          "High",
          "High",
          "High",
          "High",
          "High",
          "High",
          "High",
          "High",
          "High",
          "High",
          "High",
          "High",
          "High",
          "High",
          "High",
          "High",
          "High",
          "High",
          "High",
          "High",
          "High",
          "High",
          "High",
          "High",
          "High",
          "High",
          "High",
          "High",
          "High",
          "High",
          "High",
          "High",
          "High",
          "High",
          "High",
          "High",
          "High",
          "High",
          "High",
          "High",
          "High",
          "High",
          "High",
          "High",
          "High",
          "High",
          "High",
          "High",
          "High",
          "High",
          "High",
          "High",
          "High",
          "High",
          "High",
          "High",
          "High",
          "High",
          "High",
          "High",
          "High",
          "High",
          "High",
          "High",
          "High",
          "High",
          "High",
          "High",
          "High",
          "High",
          "High",
          "High",
          "High",
          "High",
          "High",
          "High",
          "High",
          "High",
          "High",
          "High",
          "High",
          "High",
          "High",
          "High",
          "High",
          "High",
          "High",
          "High",
          "High",
          "High",
          "High",
          "High",
          "High",
          "High",
          "High",
          "High",
          "High",
          "High",
          "High",
          "High",
          "High",
          "High",
          "High",
          "High",
          "High",
          "High",
          "High",
          "High",
          "High",
          "High",
          "High",
          "High",
          "High",
          "High",
          "High",
          "High",
          "High",
          "High",
          "High",
          "High",
          "High",
          "High",
          "High",
          "High",
          "High",
          "High",
          "High",
          "High",
          "High",
          "High",
          "High",
          "High",
          "High",
          "High",
          "High",
          "High",
          "High",
          "High",
          "High",
          "High",
          "High",
          "High",
          "High",
          "High",
          "High",
          "High",
          "High",
          "High",
          "High",
          "High",
          "High",
          "High",
          "High",
          "High",
          "High",
          "High",
          "High",
          "High",
          "High",
          "High",
          "High",
          "High",
          "High",
          "High",
          "High",
          "High",
          "High",
          "High"
         ],
         "x0": " ",
         "xaxis": "x",
         "y": {
          "bdata": "5wLWpAIy+0B4dtz/COb2QIvJhzUkKvpALpuXQj+29kAj6eCHG+v4QFcf9pLvWvZAnTFKDWlD80DdvyFFGPr3QIBbEmueqPhAtgDqVi7r8UBfYJ2U0db3QNDnw/Al+PNATg9QZShh90D4H7mZApP0QDo0e/RGgvxAxJHgf8eV+0CJrsFBasX4QMs515YbQvlAmeJRkOlf9kAsgRkIyjD5QHI8AbWcoPRACi/mBodv+kDohm182N38QMR5TNRUXvRAMjc0jk1V+0DmqPpolW7yQE5rINUQsv9AEo6BwL2190Dxha3npdn2QJAlBu4sq/NAHR2ac6kT+UD26ZO3bYXyQIDiIsmew/VAVHcsLf2g/kC5W9mJOBb4QMtBG8KSa/BAa+kwJr5i8UD0ARd3lHT7QEN6MMS7O/VAR9HxQUV+/kCfA8NOJRr0QP1UvuMCK/hA5DZcTRvx9kD4M5tAhJrsQCCjksItQPVAVNLcZp5/9kDtZPacu/v3QN07QHyT6PZAXEZpdRe+7EDxx5xz/bD1QHgJ2OI01PVANUPsgF6k+EDeemRC7ZX4QL6opTyDnvxA/ueV0XiK+EBc2fQNtYX1QFj4Ocv1jfhAOQxK84+U80A5aNnawUL4QHQ7P5SeS/ZAJPGKmnW9/0AjfSQHwHj7QM3wyz/hovRA113xnvRZ+EA0depFUDH0QL48bkGt0fZApyshNQ1u9ECcWR618MX6QGygq/6cxPJAVybYUKCd+UArcMz6aBPsQBRcyFNNbfRAqgju+Jw37kD3oN5f6mzxQNpWIrpHoPpA85k/Nxdj5kCmI4AQmUbzQCyYgmf5vfFA0UqxbA/L/EBNz4wEvTj0QDScBd60avlAljgnLPPc6kAQbkpqqlHuQNSmqjKr8/1AasY/eF8U9UCVTxE9VyrkQOozIW0PBvRATzhf3KhY+EAiYeO03hD8QGu1PYlmPPZA/ARSJwN490DzwkKmLJD8QGcUWW+uBvhAKuUcChHO+EAg8AoTpu36QCkPEW1TePZAKpA+krHZ80DKXA3lVOb6QGjFQHs09+1A/+PJ9pfj+ECKWbR3StX0QISK8HPpTfBAY68RA+7G9kCzzZs6KGX5QAZGsxPxJfpAFwwlOOPW9UDjFoJ7Nt73QMM4gqVoKfZAc3317xcn9kBDvMsMPuH3QByd3vxvmflA0Hx+nv+i/EDieLjkkVz4QNovMO0jcfJAfhbHR1Qb/0BxEYarrFroQBriU0jbPvNA4HVs998lAUE0aK4eDDPxQNqrYOnu9PxAWB8bitWa8UC7ph3Yk+38QGLIh3oHYflA92SAKN8g+UB90SPZ2uf1QBUO0a65m/hAQSHX4BzF9EAVQaakMDTuQHZ4sySDw/1AOPQ9pbxU+kAVZwqoPyb9QDUBcKm7I/pAHkNWxPYS9EAQ+yFOVR/7QFpFqpJO8gJBfVgdT1v89UASkqLi+j74QFVahr+Xh/xAMg76mcno90DZrA+/2w7xQEUxSkAd1fVAMjAT+tM49UAVGY9nFKT4QOryhadDnPxA30HyahjO9EBq+9/nBBr/QAuCqLm5vfFAtZm+kMTA+EBGbOynwLb4QIQTcOqaaO5AZRrdjX/i5kD405EzSgn3QAuMwGLPsOdAlsFnXUjK9UB5IOHhasL9QOl7oU9s2vJATGsDgj7j9EAcKzZvUGrkQNhUKraRwv1Abf38urup+ECdAkh+Tab9QGS4VR6ab/tA02mgnHK69EAqsIFLi9P7QFlOA7PKKPZAalV4AQ6E80A+X/tfb9X3QGzq1N8vP/1AdEEPEMbJ8EA=",
          "dtype": "f8"
         },
         "y0": " ",
         "yaxis": "y"
        },
        {
         "alignmentgroup": "True",
         "hovertemplate": "Automation_Risk=%{x}<br>Salary (USD)=%{y}<extra></extra>",
         "legendgroup": "Low",
         "marker": {
          "color": "#EF553B"
         },
         "name": "Low",
         "notched": false,
         "offsetgroup": "Low",
         "orientation": "v",
         "showlegend": true,
         "type": "box",
         "x": [
          "Low",
          "Low",
          "Low",
          "Low",
          "Low",
          "Low",
          "Low",
          "Low",
          "Low",
          "Low",
          "Low",
          "Low",
          "Low",
          "Low",
          "Low",
          "Low",
          "Low",
          "Low",
          "Low",
          "Low",
          "Low",
          "Low",
          "Low",
          "Low",
          "Low",
          "Low",
          "Low",
          "Low",
          "Low",
          "Low",
          "Low",
          "Low",
          "Low",
          "Low",
          "Low",
          "Low",
          "Low",
          "Low",
          "Low",
          "Low",
          "Low",
          "Low",
          "Low",
          "Low",
          "Low",
          "Low",
          "Low",
          "Low",
          "Low",
          "Low",
          "Low",
          "Low",
          "Low",
          "Low",
          "Low",
          "Low",
          "Low",
          "Low",
          "Low",
          "Low",
          "Low",
          "Low",
          "Low",
          "Low",
          "Low",
          "Low",
          "Low",
          "Low",
          "Low",
          "Low",
          "Low",
          "Low",
          "Low",
          "Low",
          "Low",
          "Low",
          "Low",
          "Low",
          "Low",
          "Low",
          "Low",
          "Low",
          "Low",
          "Low",
          "Low",
          "Low",
          "Low",
          "Low",
          "Low",
          "Low",
          "Low",
          "Low",
          "Low",
          "Low",
          "Low",
          "Low",
          "Low",
          "Low",
          "Low",
          "Low",
          "Low",
          "Low",
          "Low",
          "Low",
          "Low",
          "Low",
          "Low",
          "Low",
          "Low",
          "Low",
          "Low",
          "Low",
          "Low",
          "Low",
          "Low",
          "Low",
          "Low",
          "Low",
          "Low",
          "Low",
          "Low",
          "Low",
          "Low",
          "Low",
          "Low",
          "Low",
          "Low",
          "Low",
          "Low",
          "Low",
          "Low",
          "Low",
          "Low",
          "Low",
          "Low",
          "Low",
          "Low",
          "Low",
          "Low",
          "Low",
          "Low",
          "Low",
          "Low",
          "Low",
          "Low",
          "Low",
          "Low",
          "Low",
          "Low",
          "Low",
          "Low",
          "Low",
          "Low",
          "Low",
          "Low",
          "Low",
          "Low",
          "Low"
         ],
         "x0": " ",
         "xaxis": "x",
         "y": {
          "bdata": "evM1wY5s9UCttvYU9ST1QAAoBsZ9UPJArA6yQCmk90CQ3yq59Tb0QBGaIFYHDPJAb3TyhzV1AEF1T1VJtZ31QHI0DfGlZvtA3MnFvbTm8UAjc/SiCerxQGZwXNiU4/dAnd1i+jXK90AiXf+yoBrzQNrEuHK8S/RAQU65TAB8+EAvVc8lsnf2QH4D0I6v0vlAGgR38JvV9kDG0+xrXEjzQF7rRy2K0PNACDGuYHqY8kAUaLyBxa/zQNkmJj8RDPxALE8SsN6e/kDqmZInAvL+QJrT6eXG2/hAzbr9eaW5+UCqo7FsDsnsQObWGVhbHvpAS4EuVfml/0CD6deo0wr9QJrTu066E/ZAk1IdAu5/+ECq7o2pkwH4QPE5qNwSyPZAQqYcV2/l9UArX8EAKVHzQAgN7KZ6B/tAQg9yh+Yi8kBJVH2VDHX7QPSjt2z1VPlAGhq+wNW+5EAcCsXMz+T4QKTc30h1jABBjyPoXzhs9UDirAVlT5T1QOVpf0RELfNAFPv8Izyu+UCGir8IQB3xQBVx7zcpz/BAZmGGWbxP8kB2YiHZVTr9QLbGds9I5fRA/VF8m4R390BZ4HzITTz4QOvzc7sa2fFAU9/QdmT68UCbZSF0yOj0QPyrp69hON9A/r9uXyhn8kB1JGOjayf3QHjTe9O+X/hATow3ppFI/kARgl5P8UDyQMhQZunHFfVAp/Rw0+lb+0BYlNqUfjT5QGbiFwelhfZA/+eEpsdw9UA5SVJa+Uf2QGhAzRr7XvxARNuK7vy79UA6aOSmnBj1QFgXzt83KfpAbcGQ0BUg9UAx3KTzBCD5QFW2TiK61PpAuGaVo9ct9UBAlqHuvGD7QPAl+MjsivFAuUgrhzyu8EDt/p7B4tv4QKYD6N+XdvFAWqVqqRdO8kAIJTqlaUDwQDlrku6EqvZAgurz2AhZ70BV/yRoGcL5QKujaxLBifRAtMW1Pb6t9kAj2m8ezBXwQMKu+jDzofRAJxJDG3oM90A0xjz4RBv5QIcDnemUA+dAHNwV5pgfAkHhuFRLGfj+QBcNVDpOfvRAp+xYbxkB9kBI5wctDZT8QKFjA0vRGvZAOa1wfJ6M80DAcB04Y0b5QO1aSZj4rvJAftvDIFrG9UAIv/MciDb0QGihhzO3SPhAyxUY45F+/EBVQRsL7qr0QOLCDIkw+gBBL9TDPpnD8EAFEfBrNmf1QH9w/yqtA/RAJp4I4kaI9kB6Rtu01nz/QNGqXT2VPwBBkWuB57TW7UC29RXckar2QMcaVPDlhvNAwbcDiWYt9UD6RJSf6YPwQJxNkl+KRf5AuGzPog+H+UB5DO4reGX0QHxVi0Stkf9Abz5AXN1L8UDb03+zcyX5QAokCMVZJftAOxi7mzhh+UC37Tx8vvP9QI5zIt2hgu1A9DR+q0ao80AGozj/rGz2QIl05Pr8DPRAMJAx/boc80AZl8M5Ghr4QCz87e6T1/dACZwoFbih80C3mLmqWB3vQFo4cxzEDvJAR1iRBZpj9kCR3AO8Hez5QIrN9ITXKPpAYKnh9gjv+ECR4IusSQz9QFwlE+wwk/FAtpmRIeQ58kC3Eg94U3r3QOGU59JnXPdABxuWRK1780BItBy59i30QGzgXWUOrfpA47vS8hZT9EAmZ1cAIpbxQBr7QAMnPPdA+FD57c5x80AoIfZoovTyQA==",
          "dtype": "f8"
         },
         "y0": " ",
         "yaxis": "y"
        },
        {
         "alignmentgroup": "True",
         "hovertemplate": "Automation_Risk=%{x}<br>Salary (USD)=%{y}<extra></extra>",
         "legendgroup": "Medium",
         "marker": {
          "color": "#00cc96"
         },
         "name": "Medium",
         "notched": false,
         "offsetgroup": "Medium",
         "orientation": "v",
         "showlegend": true,
         "type": "box",
         "x": [
          "Medium",
          "Medium",
          "Medium",
          "Medium",
          "Medium",
          "Medium",
          "Medium",
          "Medium",
          "Medium",
          "Medium",
          "Medium",
          "Medium",
          "Medium",
          "Medium",
          "Medium",
          "Medium",
          "Medium",
          "Medium",
          "Medium",
          "Medium",
          "Medium",
          "Medium",
          "Medium",
          "Medium",
          "Medium",
          "Medium",
          "Medium",
          "Medium",
          "Medium",
          "Medium",
          "Medium",
          "Medium",
          "Medium",
          "Medium",
          "Medium",
          "Medium",
          "Medium",
          "Medium",
          "Medium",
          "Medium",
          "Medium",
          "Medium",
          "Medium",
          "Medium",
          "Medium",
          "Medium",
          "Medium",
          "Medium",
          "Medium",
          "Medium",
          "Medium",
          "Medium",
          "Medium",
          "Medium",
          "Medium",
          "Medium",
          "Medium",
          "Medium",
          "Medium",
          "Medium",
          "Medium",
          "Medium",
          "Medium",
          "Medium",
          "Medium",
          "Medium",
          "Medium",
          "Medium",
          "Medium",
          "Medium",
          "Medium",
          "Medium",
          "Medium",
          "Medium",
          "Medium",
          "Medium",
          "Medium",
          "Medium",
          "Medium",
          "Medium",
          "Medium",
          "Medium",
          "Medium",
          "Medium",
          "Medium",
          "Medium",
          "Medium",
          "Medium",
          "Medium",
          "Medium",
          "Medium",
          "Medium",
          "Medium",
          "Medium",
          "Medium",
          "Medium",
          "Medium",
          "Medium",
          "Medium",
          "Medium",
          "Medium",
          "Medium",
          "Medium",
          "Medium",
          "Medium",
          "Medium",
          "Medium",
          "Medium",
          "Medium",
          "Medium",
          "Medium",
          "Medium",
          "Medium",
          "Medium",
          "Medium",
          "Medium",
          "Medium",
          "Medium",
          "Medium",
          "Medium",
          "Medium",
          "Medium",
          "Medium",
          "Medium",
          "Medium",
          "Medium",
          "Medium",
          "Medium",
          "Medium",
          "Medium",
          "Medium",
          "Medium",
          "Medium",
          "Medium",
          "Medium",
          "Medium",
          "Medium",
          "Medium",
          "Medium",
          "Medium",
          "Medium",
          "Medium",
          "Medium",
          "Medium",
          "Medium",
          "Medium",
          "Medium",
          "Medium",
          "Medium",
          "Medium",
          "Medium",
          "Medium",
          "Medium",
          "Medium",
          "Medium",
          "Medium",
          "Medium",
          "Medium",
          "Medium",
          "Medium",
          "Medium",
          "Medium",
          "Medium",
          "Medium",
          "Medium",
          "Medium",
          "Medium",
          "Medium",
          "Medium",
          "Medium",
          "Medium",
          "Medium",
          "Medium"
         ],
         "x0": " ",
         "xaxis": "x",
         "y": {
          "bdata": "t7E4IJAa+UBMeHjY/9vxQIKcBCYUJPNATp623PZC5ECQ2hERSdP1QPqSsVNGkvdAEqk64TbO5kAe4c8FTuT8QNpEpx/+C/lADIkyvXor9UCEYVRq3pD/QE4+gw3CBvJAZJgDe+W59kD+23wX1ob2QKT1q5GOdPRAJl7WESfa+ECkPITcuXPxQLiWm3MKsPBA5RgGpHFX8UA0e4xljWHrQIz5DVPoVPRAwa5tXY8a90CClogbXgn1QA1BIwXRePBAMlRWGnCC6UDg//UNzfPxQEEXURPlCvlAAeFndsv370CMjS7XaiL8QLaQD0Y00/lAdDwRdRYI9EDI1I5fXm33QEScquHZvPhAC8E3Fau09kCFbrmxhS0AQcTKASUDE/pAPOzed3Sy8kC1KO/zHwz5QPkBbL5tuflAc+4Y2ijR90BGFH87TnH3QPuz78ITe/VAMrtP9YUy+EAAfPFkEC3vQDO8LZkXkwBBA9jKKAZy90A9NSXG40DyQF8uJ7tYfPdA9OpSosQz7UBIFTMCb5D2QPTTtj0J/vlA3HH+9u2A80C72A283mD1QCNk9kVI7/dASwVMAJL290AFV0g4VR/7QPvh7T0npPhAY9B72zhX+kCOJWoxV0bnQIZYoi2Ov/xAsnDJldNJ+kABtT/8/+/1QNFMeanJ+fhAnQtP6UFM60CMUTzY0ujzQEYbwizcDPxAPJZIAZU76UAp5PPP5y75QAMBPeHGIPhApE+eys+/8UBrUusLHKztQGF+INXlIOpA3w6davhD+kD57ZsBwDr1QKD5xPO4mvhAwD9n1CEa8kCJ7m1xOWz2QDTv+D10BftATy1bcc3I8kBPvEcMuuX7QBWjaK9iBfNAyg3JwJrF90AIbN7igOYAQZKhiC+t0/5A2sAWS5PN8UDgfLMr7fLxQAuSdxVXX+pABBGZUJKf9kC9PtXGUBDmQNGBNwVYX/hAljkQBgXQ9kAS+hP228zwQKEG8ZNTdPlA/mhzUiyp+kAl+h4Jvhb1QFxV+mLY+PRAh2rpHCek9UAgpxQCr4jwQMiVPWe3kvlAV/ZdeWqL+0BM3eWhP8HoQNzCdcYdrfZASRT4TdBv90B0GcPO5ynlQOkKraQMF/VAmvMDwSHr6EDED2d32Oj6QOmp3uwfZ+1ATJsUkZD49EB2GYYn/azzQO7RD92EvPJA5N1sqM/270AF2BKqTk31QDOGApI2EfVAD0EhDvcD/EC/Yjp7zEL3QCI9/Pe54e5A3CYr2ykk90CgufIOGMvuQITEjc4ZzfdA0UAEVJIU8kAusk5Nrxz/QH8ZcLwcXvdAYe+XIiCy8UBQupu0Kq/8QFZsAycYo/pAmSMdHpHk+kD+t/yGccX5QNGAXe+FAflAuZlOuadl+UCFTrItukz2QFaxFiP8f/lADcMtgBw/90DlhK/AaGz3QEW+GTQsaOBASilfZg/R+ED1nQFJlXn4QND1cFNXnPVAIKZrP1DK9EBaqKmWKCj0QO4c96S7cvBArgQgarmm9EA0+9RpUBnqQMmnoDx9tPVA9hAesnRy/ED295+TupHrQNQMytgQ5PhA1dvxgSna+kBwGuhcp9D0QId/PEfhtvVA8vaeg2mP4UDd/+IJhTbkQFh1pK6nwPpAGdnCpqg8/UBDqEs42I3oQFnioiQQkfNAgGbK9F4W+UA3El05mZL0QF0sOFv97vRARFS/V5AD6kD/o5cF0LHzQCqH+RkUdPZAqLh6++tx+0CBs4ynnqvyQEVxTLWv0OdA6zrgm3oj80Ba76o/Z+3+QI/ur1nWe/NAL/PJ1cz98UCHHNFyHJXxQJIlAqyXHfJA/tmQQp5J/UBwrQJO1tX5QA==",
          "dtype": "f8"
         },
         "y0": " ",
         "yaxis": "y"
        }
       ],
       "layout": {
        "boxmode": "overlay",
        "legend": {
         "title": {
          "text": "Automation_Risk"
         },
         "tracegroupgap": 0
        },
        "template": {
         "data": {
          "bar": [
           {
            "error_x": {
             "color": "#2a3f5f"
            },
            "error_y": {
             "color": "#2a3f5f"
            },
            "marker": {
             "line": {
              "color": "#E5ECF6",
              "width": 0.5
             },
             "pattern": {
              "fillmode": "overlay",
              "size": 10,
              "solidity": 0.2
             }
            },
            "type": "bar"
           }
          ],
          "barpolar": [
           {
            "marker": {
             "line": {
              "color": "#E5ECF6",
              "width": 0.5
             },
             "pattern": {
              "fillmode": "overlay",
              "size": 10,
              "solidity": 0.2
             }
            },
            "type": "barpolar"
           }
          ],
          "carpet": [
           {
            "aaxis": {
             "endlinecolor": "#2a3f5f",
             "gridcolor": "white",
             "linecolor": "white",
             "minorgridcolor": "white",
             "startlinecolor": "#2a3f5f"
            },
            "baxis": {
             "endlinecolor": "#2a3f5f",
             "gridcolor": "white",
             "linecolor": "white",
             "minorgridcolor": "white",
             "startlinecolor": "#2a3f5f"
            },
            "type": "carpet"
           }
          ],
          "choropleth": [
           {
            "colorbar": {
             "outlinewidth": 0,
             "ticks": ""
            },
            "type": "choropleth"
           }
          ],
          "contour": [
           {
            "colorbar": {
             "outlinewidth": 0,
             "ticks": ""
            },
            "colorscale": [
             [
              0,
              "#0d0887"
             ],
             [
              0.1111111111111111,
              "#46039f"
             ],
             [
              0.2222222222222222,
              "#7201a8"
             ],
             [
              0.3333333333333333,
              "#9c179e"
             ],
             [
              0.4444444444444444,
              "#bd3786"
             ],
             [
              0.5555555555555556,
              "#d8576b"
             ],
             [
              0.6666666666666666,
              "#ed7953"
             ],
             [
              0.7777777777777778,
              "#fb9f3a"
             ],
             [
              0.8888888888888888,
              "#fdca26"
             ],
             [
              1,
              "#f0f921"
             ]
            ],
            "type": "contour"
           }
          ],
          "contourcarpet": [
           {
            "colorbar": {
             "outlinewidth": 0,
             "ticks": ""
            },
            "type": "contourcarpet"
           }
          ],
          "heatmap": [
           {
            "colorbar": {
             "outlinewidth": 0,
             "ticks": ""
            },
            "colorscale": [
             [
              0,
              "#0d0887"
             ],
             [
              0.1111111111111111,
              "#46039f"
             ],
             [
              0.2222222222222222,
              "#7201a8"
             ],
             [
              0.3333333333333333,
              "#9c179e"
             ],
             [
              0.4444444444444444,
              "#bd3786"
             ],
             [
              0.5555555555555556,
              "#d8576b"
             ],
             [
              0.6666666666666666,
              "#ed7953"
             ],
             [
              0.7777777777777778,
              "#fb9f3a"
             ],
             [
              0.8888888888888888,
              "#fdca26"
             ],
             [
              1,
              "#f0f921"
             ]
            ],
            "type": "heatmap"
           }
          ],
          "histogram": [
           {
            "marker": {
             "pattern": {
              "fillmode": "overlay",
              "size": 10,
              "solidity": 0.2
             }
            },
            "type": "histogram"
           }
          ],
          "histogram2d": [
           {
            "colorbar": {
             "outlinewidth": 0,
             "ticks": ""
            },
            "colorscale": [
             [
              0,
              "#0d0887"
             ],
             [
              0.1111111111111111,
              "#46039f"
             ],
             [
              0.2222222222222222,
              "#7201a8"
             ],
             [
              0.3333333333333333,
              "#9c179e"
             ],
             [
              0.4444444444444444,
              "#bd3786"
             ],
             [
              0.5555555555555556,
              "#d8576b"
             ],
             [
              0.6666666666666666,
              "#ed7953"
             ],
             [
              0.7777777777777778,
              "#fb9f3a"
             ],
             [
              0.8888888888888888,
              "#fdca26"
             ],
             [
              1,
              "#f0f921"
             ]
            ],
            "type": "histogram2d"
           }
          ],
          "histogram2dcontour": [
           {
            "colorbar": {
             "outlinewidth": 0,
             "ticks": ""
            },
            "colorscale": [
             [
              0,
              "#0d0887"
             ],
             [
              0.1111111111111111,
              "#46039f"
             ],
             [
              0.2222222222222222,
              "#7201a8"
             ],
             [
              0.3333333333333333,
              "#9c179e"
             ],
             [
              0.4444444444444444,
              "#bd3786"
             ],
             [
              0.5555555555555556,
              "#d8576b"
             ],
             [
              0.6666666666666666,
              "#ed7953"
             ],
             [
              0.7777777777777778,
              "#fb9f3a"
             ],
             [
              0.8888888888888888,
              "#fdca26"
             ],
             [
              1,
              "#f0f921"
             ]
            ],
            "type": "histogram2dcontour"
           }
          ],
          "mesh3d": [
           {
            "colorbar": {
             "outlinewidth": 0,
             "ticks": ""
            },
            "type": "mesh3d"
           }
          ],
          "parcoords": [
           {
            "line": {
             "colorbar": {
              "outlinewidth": 0,
              "ticks": ""
             }
            },
            "type": "parcoords"
           }
          ],
          "pie": [
           {
            "automargin": true,
            "type": "pie"
           }
          ],
          "scatter": [
           {
            "fillpattern": {
             "fillmode": "overlay",
             "size": 10,
             "solidity": 0.2
            },
            "type": "scatter"
           }
          ],
          "scatter3d": [
           {
            "line": {
             "colorbar": {
              "outlinewidth": 0,
              "ticks": ""
             }
            },
            "marker": {
             "colorbar": {
              "outlinewidth": 0,
              "ticks": ""
             }
            },
            "type": "scatter3d"
           }
          ],
          "scattercarpet": [
           {
            "marker": {
             "colorbar": {
              "outlinewidth": 0,
              "ticks": ""
             }
            },
            "type": "scattercarpet"
           }
          ],
          "scattergeo": [
           {
            "marker": {
             "colorbar": {
              "outlinewidth": 0,
              "ticks": ""
             }
            },
            "type": "scattergeo"
           }
          ],
          "scattergl": [
           {
            "marker": {
             "colorbar": {
              "outlinewidth": 0,
              "ticks": ""
             }
            },
            "type": "scattergl"
           }
          ],
          "scattermap": [
           {
            "marker": {
             "colorbar": {
              "outlinewidth": 0,
              "ticks": ""
             }
            },
            "type": "scattermap"
           }
          ],
          "scattermapbox": [
           {
            "marker": {
             "colorbar": {
              "outlinewidth": 0,
              "ticks": ""
             }
            },
            "type": "scattermapbox"
           }
          ],
          "scatterpolar": [
           {
            "marker": {
             "colorbar": {
              "outlinewidth": 0,
              "ticks": ""
             }
            },
            "type": "scatterpolar"
           }
          ],
          "scatterpolargl": [
           {
            "marker": {
             "colorbar": {
              "outlinewidth": 0,
              "ticks": ""
             }
            },
            "type": "scatterpolargl"
           }
          ],
          "scatterternary": [
           {
            "marker": {
             "colorbar": {
              "outlinewidth": 0,
              "ticks": ""
             }
            },
            "type": "scatterternary"
           }
          ],
          "surface": [
           {
            "colorbar": {
             "outlinewidth": 0,
             "ticks": ""
            },
            "colorscale": [
             [
              0,
              "#0d0887"
             ],
             [
              0.1111111111111111,
              "#46039f"
             ],
             [
              0.2222222222222222,
              "#7201a8"
             ],
             [
              0.3333333333333333,
              "#9c179e"
             ],
             [
              0.4444444444444444,
              "#bd3786"
             ],
             [
              0.5555555555555556,
              "#d8576b"
             ],
             [
              0.6666666666666666,
              "#ed7953"
             ],
             [
              0.7777777777777778,
              "#fb9f3a"
             ],
             [
              0.8888888888888888,
              "#fdca26"
             ],
             [
              1,
              "#f0f921"
             ]
            ],
            "type": "surface"
           }
          ],
          "table": [
           {
            "cells": {
             "fill": {
              "color": "#EBF0F8"
             },
             "line": {
              "color": "white"
             }
            },
            "header": {
             "fill": {
              "color": "#C8D4E3"
             },
             "line": {
              "color": "white"
             }
            },
            "type": "table"
           }
          ]
         },
         "layout": {
          "annotationdefaults": {
           "arrowcolor": "#2a3f5f",
           "arrowhead": 0,
           "arrowwidth": 1
          },
          "autotypenumbers": "strict",
          "coloraxis": {
           "colorbar": {
            "outlinewidth": 0,
            "ticks": ""
           }
          },
          "colorscale": {
           "diverging": [
            [
             0,
             "#8e0152"
            ],
            [
             0.1,
             "#c51b7d"
            ],
            [
             0.2,
             "#de77ae"
            ],
            [
             0.3,
             "#f1b6da"
            ],
            [
             0.4,
             "#fde0ef"
            ],
            [
             0.5,
             "#f7f7f7"
            ],
            [
             0.6,
             "#e6f5d0"
            ],
            [
             0.7,
             "#b8e186"
            ],
            [
             0.8,
             "#7fbc41"
            ],
            [
             0.9,
             "#4d9221"
            ],
            [
             1,
             "#276419"
            ]
           ],
           "sequential": [
            [
             0,
             "#0d0887"
            ],
            [
             0.1111111111111111,
             "#46039f"
            ],
            [
             0.2222222222222222,
             "#7201a8"
            ],
            [
             0.3333333333333333,
             "#9c179e"
            ],
            [
             0.4444444444444444,
             "#bd3786"
            ],
            [
             0.5555555555555556,
             "#d8576b"
            ],
            [
             0.6666666666666666,
             "#ed7953"
            ],
            [
             0.7777777777777778,
             "#fb9f3a"
            ],
            [
             0.8888888888888888,
             "#fdca26"
            ],
            [
             1,
             "#f0f921"
            ]
           ],
           "sequentialminus": [
            [
             0,
             "#0d0887"
            ],
            [
             0.1111111111111111,
             "#46039f"
            ],
            [
             0.2222222222222222,
             "#7201a8"
            ],
            [
             0.3333333333333333,
             "#9c179e"
            ],
            [
             0.4444444444444444,
             "#bd3786"
            ],
            [
             0.5555555555555556,
             "#d8576b"
            ],
            [
             0.6666666666666666,
             "#ed7953"
            ],
            [
             0.7777777777777778,
             "#fb9f3a"
            ],
            [
             0.8888888888888888,
             "#fdca26"
            ],
            [
             1,
             "#f0f921"
            ]
           ]
          },
          "colorway": [
           "#636efa",
           "#EF553B",
           "#00cc96",
           "#ab63fa",
           "#FFA15A",
           "#19d3f3",
           "#FF6692",
           "#B6E880",
           "#FF97FF",
           "#FECB52"
          ],
          "font": {
           "color": "#2a3f5f"
          },
          "geo": {
           "bgcolor": "white",
           "lakecolor": "white",
           "landcolor": "#E5ECF6",
           "showlakes": true,
           "showland": true,
           "subunitcolor": "white"
          },
          "hoverlabel": {
           "align": "left"
          },
          "hovermode": "closest",
          "mapbox": {
           "style": "light"
          },
          "paper_bgcolor": "white",
          "plot_bgcolor": "#E5ECF6",
          "polar": {
           "angularaxis": {
            "gridcolor": "white",
            "linecolor": "white",
            "ticks": ""
           },
           "bgcolor": "#E5ECF6",
           "radialaxis": {
            "gridcolor": "white",
            "linecolor": "white",
            "ticks": ""
           }
          },
          "scene": {
           "xaxis": {
            "backgroundcolor": "#E5ECF6",
            "gridcolor": "white",
            "gridwidth": 2,
            "linecolor": "white",
            "showbackground": true,
            "ticks": "",
            "zerolinecolor": "white"
           },
           "yaxis": {
            "backgroundcolor": "#E5ECF6",
            "gridcolor": "white",
            "gridwidth": 2,
            "linecolor": "white",
            "showbackground": true,
            "ticks": "",
            "zerolinecolor": "white"
           },
           "zaxis": {
            "backgroundcolor": "#E5ECF6",
            "gridcolor": "white",
            "gridwidth": 2,
            "linecolor": "white",
            "showbackground": true,
            "ticks": "",
            "zerolinecolor": "white"
           }
          },
          "shapedefaults": {
           "line": {
            "color": "#2a3f5f"
           }
          },
          "ternary": {
           "aaxis": {
            "gridcolor": "white",
            "linecolor": "white",
            "ticks": ""
           },
           "baxis": {
            "gridcolor": "white",
            "linecolor": "white",
            "ticks": ""
           },
           "bgcolor": "#E5ECF6",
           "caxis": {
            "gridcolor": "white",
            "linecolor": "white",
            "ticks": ""
           }
          },
          "title": {
           "x": 0.05
          },
          "xaxis": {
           "automargin": true,
           "gridcolor": "white",
           "linecolor": "white",
           "ticks": "",
           "title": {
            "standoff": 15
           },
           "zerolinecolor": "white",
           "zerolinewidth": 2
          },
          "yaxis": {
           "automargin": true,
           "gridcolor": "white",
           "linecolor": "white",
           "ticks": "",
           "title": {
            "standoff": 15
           },
           "zerolinecolor": "white",
           "zerolinewidth": 2
          }
         }
        },
        "title": {
         "text": "Salary Distribution by Automation Risk"
        },
        "xaxis": {
         "anchor": "y",
         "categoryarray": [
          "High",
          "Low",
          "Medium"
         ],
         "categoryorder": "array",
         "domain": [
          0,
          1
         ],
         "title": {
          "text": "Automation Risk Level"
         }
        },
        "yaxis": {
         "anchor": "x",
         "domain": [
          0,
          1
         ],
         "title": {
          "text": "Salary (USD)"
         }
        }
       }
      }
     },
     "metadata": {},
     "output_type": "display_data"
    }
   ],
   "source": [
    "# Salary Distribution by Automation Risk\n",
    "fig = px.box(\n",
    "    automation_job_market_df,\n",
    "    x='Automation_Risk',\n",
    "    y='Salary_USD',\n",
    "    color='Automation_Risk',\n",
    "    title='Salary Distribution by Automation Risk',\n",
    "    labels={'Salary_USD': 'Salary (USD)'}\n",
    ")\n",
    "\n",
    "fig.update_layout(yaxis_title='Salary (USD)', xaxis_title='Automation Risk Level')\n",
    "fig.show()"
   ]
  },
  {
   "cell_type": "code",
   "execution_count": 17,
   "id": "341a06a8",
   "metadata": {},
   "outputs": [
    {
     "data": {
      "application/vnd.plotly.v1+json": {
       "config": {
        "plotlyServerURL": "https://plot.ly"
       },
       "data": [
        {
         "hovertemplate": "Remote_Friendly=Yes<br>Location=%{x}<br>Salary_USD=%{y}<extra></extra>",
         "legendgroup": "Yes",
         "marker": {
          "color": "rgb(127, 60, 141)",
          "symbol": "circle"
         },
         "mode": "markers",
         "name": "Yes",
         "orientation": "v",
         "showlegend": true,
         "type": "scatter",
         "x": [
          "Dubai",
          "Singapore",
          "Tokyo",
          "Singapore",
          "Dubai",
          "Singapore",
          "London",
          "San Francisco",
          "Paris",
          "Singapore",
          "San Francisco",
          "Dubai",
          "Sydney",
          "Dubai",
          "Paris",
          "San Francisco",
          "Sydney",
          "Tokyo",
          "New York",
          "San Francisco",
          "Dubai",
          "London",
          "London",
          "Dubai",
          "Dubai",
          "San Francisco",
          "Dubai",
          "New York",
          "Sydney",
          "Dubai",
          "London",
          "Dubai",
          "Paris"
         ],
         "xaxis": "x",
         "y": {
          "bdata": "5wLWpAIy+0CLyYc1JCr6QHrzNcGObPVAI+nghxvr+ECttvYU9ST1QKwOskAppPdAVx/2ku9a9kBMeHjY/9vxQN2/IUUY+vdAgFsSa56o+EBfYJ2U0db3QBGaIFYHDPJAb3TyhzV1AEHQ58PwJfjzQJDaERFJ0/VAdU9VSbWd9UByNA3xpWb7QNzJxb205vFA+B+5mQKT9ED6krFTRpL3QBKpOuE2zuZAOjR79EaC/EAe4c8FTuT8QGZwXNiU4/dA2kSnH/4L+UDEkeB/x5X7QImuwUFqxfhAyznXlhtC+UAMiTK9eiv1QJ3dYvo1yvdAIl3/sqAa80DaxLhyvEv0QKT1q5GOdPRA",
          "dtype": "f8"
         },
         "yaxis": "y"
        },
        {
         "hovertemplate": "Remote_Friendly=No<br>Location=%{x}<br>Salary_USD=%{y}<extra></extra>",
         "legendgroup": "No",
         "marker": {
          "color": "rgb(17, 165, 121)",
          "symbol": "circle"
         },
         "mode": "markers",
         "name": "No",
         "orientation": "v",
         "showlegend": true,
         "type": "scatter",
         "x": [
          "Singapore",
          "Berlin",
          "San Francisco",
          "London",
          "Singapore",
          "Dubai",
          "Singapore",
          "Tokyo",
          "Tokyo",
          "Tokyo",
          "Paris",
          "New York",
          "Singapore",
          "Singapore",
          "Tokyo",
          "Berlin",
          "Sydney"
         ],
         "xaxis": "x",
         "y": {
          "bdata": "eHbc/wjm9kAum5dCP7b2QLexOCCQGvlAACgGxn1Q8kCdMUoNaUPzQJDfKrn1NvRAgpwEJhQk80C2AOpWLuvxQE6ettz2QuRATg9QZShh90Ajc/SiCerxQIRhVGrekP9ATj6DDcIG8kBkmAN75bn2QP7bfBfWhvZAQU65TAB8+EAmXtYRJ9r4QA==",
          "dtype": "f8"
         },
         "yaxis": "y"
        }
       ],
       "layout": {
        "height": 500,
        "legend": {
         "title": {
          "text": "Remote Friendly"
         },
         "tracegroupgap": 0
        },
        "template": {
         "data": {
          "bar": [
           {
            "error_x": {
             "color": "#2a3f5f"
            },
            "error_y": {
             "color": "#2a3f5f"
            },
            "marker": {
             "line": {
              "color": "#E5ECF6",
              "width": 0.5
             },
             "pattern": {
              "fillmode": "overlay",
              "size": 10,
              "solidity": 0.2
             }
            },
            "type": "bar"
           }
          ],
          "barpolar": [
           {
            "marker": {
             "line": {
              "color": "#E5ECF6",
              "width": 0.5
             },
             "pattern": {
              "fillmode": "overlay",
              "size": 10,
              "solidity": 0.2
             }
            },
            "type": "barpolar"
           }
          ],
          "carpet": [
           {
            "aaxis": {
             "endlinecolor": "#2a3f5f",
             "gridcolor": "white",
             "linecolor": "white",
             "minorgridcolor": "white",
             "startlinecolor": "#2a3f5f"
            },
            "baxis": {
             "endlinecolor": "#2a3f5f",
             "gridcolor": "white",
             "linecolor": "white",
             "minorgridcolor": "white",
             "startlinecolor": "#2a3f5f"
            },
            "type": "carpet"
           }
          ],
          "choropleth": [
           {
            "colorbar": {
             "outlinewidth": 0,
             "ticks": ""
            },
            "type": "choropleth"
           }
          ],
          "contour": [
           {
            "colorbar": {
             "outlinewidth": 0,
             "ticks": ""
            },
            "colorscale": [
             [
              0,
              "#0d0887"
             ],
             [
              0.1111111111111111,
              "#46039f"
             ],
             [
              0.2222222222222222,
              "#7201a8"
             ],
             [
              0.3333333333333333,
              "#9c179e"
             ],
             [
              0.4444444444444444,
              "#bd3786"
             ],
             [
              0.5555555555555556,
              "#d8576b"
             ],
             [
              0.6666666666666666,
              "#ed7953"
             ],
             [
              0.7777777777777778,
              "#fb9f3a"
             ],
             [
              0.8888888888888888,
              "#fdca26"
             ],
             [
              1,
              "#f0f921"
             ]
            ],
            "type": "contour"
           }
          ],
          "contourcarpet": [
           {
            "colorbar": {
             "outlinewidth": 0,
             "ticks": ""
            },
            "type": "contourcarpet"
           }
          ],
          "heatmap": [
           {
            "colorbar": {
             "outlinewidth": 0,
             "ticks": ""
            },
            "colorscale": [
             [
              0,
              "#0d0887"
             ],
             [
              0.1111111111111111,
              "#46039f"
             ],
             [
              0.2222222222222222,
              "#7201a8"
             ],
             [
              0.3333333333333333,
              "#9c179e"
             ],
             [
              0.4444444444444444,
              "#bd3786"
             ],
             [
              0.5555555555555556,
              "#d8576b"
             ],
             [
              0.6666666666666666,
              "#ed7953"
             ],
             [
              0.7777777777777778,
              "#fb9f3a"
             ],
             [
              0.8888888888888888,
              "#fdca26"
             ],
             [
              1,
              "#f0f921"
             ]
            ],
            "type": "heatmap"
           }
          ],
          "histogram": [
           {
            "marker": {
             "pattern": {
              "fillmode": "overlay",
              "size": 10,
              "solidity": 0.2
             }
            },
            "type": "histogram"
           }
          ],
          "histogram2d": [
           {
            "colorbar": {
             "outlinewidth": 0,
             "ticks": ""
            },
            "colorscale": [
             [
              0,
              "#0d0887"
             ],
             [
              0.1111111111111111,
              "#46039f"
             ],
             [
              0.2222222222222222,
              "#7201a8"
             ],
             [
              0.3333333333333333,
              "#9c179e"
             ],
             [
              0.4444444444444444,
              "#bd3786"
             ],
             [
              0.5555555555555556,
              "#d8576b"
             ],
             [
              0.6666666666666666,
              "#ed7953"
             ],
             [
              0.7777777777777778,
              "#fb9f3a"
             ],
             [
              0.8888888888888888,
              "#fdca26"
             ],
             [
              1,
              "#f0f921"
             ]
            ],
            "type": "histogram2d"
           }
          ],
          "histogram2dcontour": [
           {
            "colorbar": {
             "outlinewidth": 0,
             "ticks": ""
            },
            "colorscale": [
             [
              0,
              "#0d0887"
             ],
             [
              0.1111111111111111,
              "#46039f"
             ],
             [
              0.2222222222222222,
              "#7201a8"
             ],
             [
              0.3333333333333333,
              "#9c179e"
             ],
             [
              0.4444444444444444,
              "#bd3786"
             ],
             [
              0.5555555555555556,
              "#d8576b"
             ],
             [
              0.6666666666666666,
              "#ed7953"
             ],
             [
              0.7777777777777778,
              "#fb9f3a"
             ],
             [
              0.8888888888888888,
              "#fdca26"
             ],
             [
              1,
              "#f0f921"
             ]
            ],
            "type": "histogram2dcontour"
           }
          ],
          "mesh3d": [
           {
            "colorbar": {
             "outlinewidth": 0,
             "ticks": ""
            },
            "type": "mesh3d"
           }
          ],
          "parcoords": [
           {
            "line": {
             "colorbar": {
              "outlinewidth": 0,
              "ticks": ""
             }
            },
            "type": "parcoords"
           }
          ],
          "pie": [
           {
            "automargin": true,
            "type": "pie"
           }
          ],
          "scatter": [
           {
            "fillpattern": {
             "fillmode": "overlay",
             "size": 10,
             "solidity": 0.2
            },
            "type": "scatter"
           }
          ],
          "scatter3d": [
           {
            "line": {
             "colorbar": {
              "outlinewidth": 0,
              "ticks": ""
             }
            },
            "marker": {
             "colorbar": {
              "outlinewidth": 0,
              "ticks": ""
             }
            },
            "type": "scatter3d"
           }
          ],
          "scattercarpet": [
           {
            "marker": {
             "colorbar": {
              "outlinewidth": 0,
              "ticks": ""
             }
            },
            "type": "scattercarpet"
           }
          ],
          "scattergeo": [
           {
            "marker": {
             "colorbar": {
              "outlinewidth": 0,
              "ticks": ""
             }
            },
            "type": "scattergeo"
           }
          ],
          "scattergl": [
           {
            "marker": {
             "colorbar": {
              "outlinewidth": 0,
              "ticks": ""
             }
            },
            "type": "scattergl"
           }
          ],
          "scattermap": [
           {
            "marker": {
             "colorbar": {
              "outlinewidth": 0,
              "ticks": ""
             }
            },
            "type": "scattermap"
           }
          ],
          "scattermapbox": [
           {
            "marker": {
             "colorbar": {
              "outlinewidth": 0,
              "ticks": ""
             }
            },
            "type": "scattermapbox"
           }
          ],
          "scatterpolar": [
           {
            "marker": {
             "colorbar": {
              "outlinewidth": 0,
              "ticks": ""
             }
            },
            "type": "scatterpolar"
           }
          ],
          "scatterpolargl": [
           {
            "marker": {
             "colorbar": {
              "outlinewidth": 0,
              "ticks": ""
             }
            },
            "type": "scatterpolargl"
           }
          ],
          "scatterternary": [
           {
            "marker": {
             "colorbar": {
              "outlinewidth": 0,
              "ticks": ""
             }
            },
            "type": "scatterternary"
           }
          ],
          "surface": [
           {
            "colorbar": {
             "outlinewidth": 0,
             "ticks": ""
            },
            "colorscale": [
             [
              0,
              "#0d0887"
             ],
             [
              0.1111111111111111,
              "#46039f"
             ],
             [
              0.2222222222222222,
              "#7201a8"
             ],
             [
              0.3333333333333333,
              "#9c179e"
             ],
             [
              0.4444444444444444,
              "#bd3786"
             ],
             [
              0.5555555555555556,
              "#d8576b"
             ],
             [
              0.6666666666666666,
              "#ed7953"
             ],
             [
              0.7777777777777778,
              "#fb9f3a"
             ],
             [
              0.8888888888888888,
              "#fdca26"
             ],
             [
              1,
              "#f0f921"
             ]
            ],
            "type": "surface"
           }
          ],
          "table": [
           {
            "cells": {
             "fill": {
              "color": "#EBF0F8"
             },
             "line": {
              "color": "white"
             }
            },
            "header": {
             "fill": {
              "color": "#C8D4E3"
             },
             "line": {
              "color": "white"
             }
            },
            "type": "table"
           }
          ]
         },
         "layout": {
          "annotationdefaults": {
           "arrowcolor": "#2a3f5f",
           "arrowhead": 0,
           "arrowwidth": 1
          },
          "autotypenumbers": "strict",
          "coloraxis": {
           "colorbar": {
            "outlinewidth": 0,
            "ticks": ""
           }
          },
          "colorscale": {
           "diverging": [
            [
             0,
             "#8e0152"
            ],
            [
             0.1,
             "#c51b7d"
            ],
            [
             0.2,
             "#de77ae"
            ],
            [
             0.3,
             "#f1b6da"
            ],
            [
             0.4,
             "#fde0ef"
            ],
            [
             0.5,
             "#f7f7f7"
            ],
            [
             0.6,
             "#e6f5d0"
            ],
            [
             0.7,
             "#b8e186"
            ],
            [
             0.8,
             "#7fbc41"
            ],
            [
             0.9,
             "#4d9221"
            ],
            [
             1,
             "#276419"
            ]
           ],
           "sequential": [
            [
             0,
             "#0d0887"
            ],
            [
             0.1111111111111111,
             "#46039f"
            ],
            [
             0.2222222222222222,
             "#7201a8"
            ],
            [
             0.3333333333333333,
             "#9c179e"
            ],
            [
             0.4444444444444444,
             "#bd3786"
            ],
            [
             0.5555555555555556,
             "#d8576b"
            ],
            [
             0.6666666666666666,
             "#ed7953"
            ],
            [
             0.7777777777777778,
             "#fb9f3a"
            ],
            [
             0.8888888888888888,
             "#fdca26"
            ],
            [
             1,
             "#f0f921"
            ]
           ],
           "sequentialminus": [
            [
             0,
             "#0d0887"
            ],
            [
             0.1111111111111111,
             "#46039f"
            ],
            [
             0.2222222222222222,
             "#7201a8"
            ],
            [
             0.3333333333333333,
             "#9c179e"
            ],
            [
             0.4444444444444444,
             "#bd3786"
            ],
            [
             0.5555555555555556,
             "#d8576b"
            ],
            [
             0.6666666666666666,
             "#ed7953"
            ],
            [
             0.7777777777777778,
             "#fb9f3a"
            ],
            [
             0.8888888888888888,
             "#fdca26"
            ],
            [
             1,
             "#f0f921"
            ]
           ]
          },
          "colorway": [
           "#636efa",
           "#EF553B",
           "#00cc96",
           "#ab63fa",
           "#FFA15A",
           "#19d3f3",
           "#FF6692",
           "#B6E880",
           "#FF97FF",
           "#FECB52"
          ],
          "font": {
           "color": "#2a3f5f"
          },
          "geo": {
           "bgcolor": "white",
           "lakecolor": "white",
           "landcolor": "#E5ECF6",
           "showlakes": true,
           "showland": true,
           "subunitcolor": "white"
          },
          "hoverlabel": {
           "align": "left"
          },
          "hovermode": "closest",
          "mapbox": {
           "style": "light"
          },
          "paper_bgcolor": "white",
          "plot_bgcolor": "#E5ECF6",
          "polar": {
           "angularaxis": {
            "gridcolor": "white",
            "linecolor": "white",
            "ticks": ""
           },
           "bgcolor": "#E5ECF6",
           "radialaxis": {
            "gridcolor": "white",
            "linecolor": "white",
            "ticks": ""
           }
          },
          "scene": {
           "xaxis": {
            "backgroundcolor": "#E5ECF6",
            "gridcolor": "white",
            "gridwidth": 2,
            "linecolor": "white",
            "showbackground": true,
            "ticks": "",
            "zerolinecolor": "white"
           },
           "yaxis": {
            "backgroundcolor": "#E5ECF6",
            "gridcolor": "white",
            "gridwidth": 2,
            "linecolor": "white",
            "showbackground": true,
            "ticks": "",
            "zerolinecolor": "white"
           },
           "zaxis": {
            "backgroundcolor": "#E5ECF6",
            "gridcolor": "white",
            "gridwidth": 2,
            "linecolor": "white",
            "showbackground": true,
            "ticks": "",
            "zerolinecolor": "white"
           }
          },
          "shapedefaults": {
           "line": {
            "color": "#2a3f5f"
           }
          },
          "ternary": {
           "aaxis": {
            "gridcolor": "white",
            "linecolor": "white",
            "ticks": ""
           },
           "baxis": {
            "gridcolor": "white",
            "linecolor": "white",
            "ticks": ""
           },
           "bgcolor": "#E5ECF6",
           "caxis": {
            "gridcolor": "white",
            "linecolor": "white",
            "ticks": ""
           }
          },
          "title": {
           "x": 0.05
          },
          "xaxis": {
           "automargin": true,
           "gridcolor": "white",
           "linecolor": "white",
           "ticks": "",
           "title": {
            "standoff": 15
           },
           "zerolinecolor": "white",
           "zerolinewidth": 2
          },
          "yaxis": {
           "automargin": true,
           "gridcolor": "white",
           "linecolor": "white",
           "ticks": "",
           "title": {
            "standoff": 15
           },
           "zerolinecolor": "white",
           "zerolinewidth": 2
          }
         }
        },
        "title": {
         "text": "Top 10 Salaries by Location with Remote Friendliness"
        },
        "width": 1000,
        "xaxis": {
         "anchor": "y",
         "domain": [
          0,
          1
         ],
         "tickangle": -45,
         "title": {
          "text": "Location"
         }
        },
        "yaxis": {
         "anchor": "x",
         "domain": [
          0,
          1
         ],
         "title": {
          "text": "Salary (In USD)"
         }
        }
       }
      }
     },
     "metadata": {},
     "output_type": "display_data"
    }
   ],
   "source": [
    "# Salaries by Location\n",
    "fig = px.scatter(automation_job_market_df.head(50), x='Location', y='Salary_USD', color='Remote_Friendly', title='Top 10 Salaries by Location with Remote Friendliness', size_max=100, color_discrete_sequence=px.colors.qualitative.Bold)\n",
    "\n",
    "fig.update_layout(xaxis_title='Location', yaxis_title='Salary (In USD)', xaxis_tickangle=-45, legend_title='Remote Friendly', height=500, width=1000)\n",
    "\n",
    "fig.show()"
   ]
  },
  {
   "cell_type": "code",
   "execution_count": 18,
   "id": "3050ab57",
   "metadata": {},
   "outputs": [
    {
     "name": "stdout",
     "output_type": "stream",
     "text": [
      "Number of outliers in Salary_USD: 5\n"
     ]
    }
   ],
   "source": [
    "# Detecting outliers\n",
    "outlier_threshold = 1.5\n",
    "\n",
    "def count_outliers(column_data):\n",
    "  q1 = np.percentile(column_data, 25)\n",
    "  q3 = np.percentile(column_data, 75)\n",
    "  iqr = q3 - q1\n",
    "  upper_bound = q3 + outlier_threshold * iqr\n",
    "  lower_bound = q1 - outlier_threshold * iqr\n",
    "  outliers = (column_data > upper_bound) | (column_data < lower_bound)\n",
    "  return outliers.sum()\n",
    "\n",
    "numeric_columns = automation_job_market_df.select_dtypes(include=[np.number]).columns\n",
    "\n",
    "for col in numeric_columns:\n",
    "  outliers = count_outliers(automation_job_market_df[col])\n",
    "  print(f\"Number of outliers in {col}: {outliers}\")"
   ]
  },
  {
   "cell_type": "code",
   "execution_count": 19,
   "id": "de5ff6b4",
   "metadata": {},
   "outputs": [],
   "source": [
    "# Removing outliers\n",
    "Q1 = automation_job_market_df['Salary_USD'].quantile(0.25)\n",
    "Q3 = automation_job_market_df['Salary_USD'].quantile(0.75)\n",
    "IQR = Q3 - Q1\n",
    "\n",
    "filtered_data = automation_job_market_df[(automation_job_market_df['Salary_USD'] >= (Q1 - 1.5 * IQR)) & (automation_job_market_df['Salary_USD'] <= (Q3 + 1.5 * IQR))]\n",
    "\n",
    "cleaned_automation_job_market_df = filtered_data"
   ]
  },
  {
   "cell_type": "code",
   "execution_count": 20,
   "id": "2fcf56a9",
   "metadata": {},
   "outputs": [
    {
     "data": {
      "text/html": [
       "<div>\n",
       "<style scoped>\n",
       "    .dataframe tbody tr th:only-of-type {\n",
       "        vertical-align: middle;\n",
       "    }\n",
       "\n",
       "    .dataframe tbody tr th {\n",
       "        vertical-align: top;\n",
       "    }\n",
       "\n",
       "    .dataframe thead th {\n",
       "        text-align: right;\n",
       "    }\n",
       "</style>\n",
       "<table border=\"1\" class=\"dataframe\">\n",
       "  <thead>\n",
       "    <tr style=\"text-align: right;\">\n",
       "      <th></th>\n",
       "      <th>Job_Title</th>\n",
       "      <th>Industry</th>\n",
       "      <th>Company_Size</th>\n",
       "      <th>Location</th>\n",
       "      <th>AI_Adoption_Level</th>\n",
       "      <th>Automation_Risk</th>\n",
       "      <th>Required_Skills</th>\n",
       "      <th>Salary_USD</th>\n",
       "      <th>Remote_Friendly</th>\n",
       "      <th>Job_Growth_Projection</th>\n",
       "    </tr>\n",
       "  </thead>\n",
       "  <tbody>\n",
       "    <tr>\n",
       "      <th>0</th>\n",
       "      <td>Cybersecurity Analyst</td>\n",
       "      <td>Entertainment</td>\n",
       "      <td>Small</td>\n",
       "      <td>Dubai</td>\n",
       "      <td>Medium</td>\n",
       "      <td>High</td>\n",
       "      <td>UX/UI Design</td>\n",
       "      <td>111392.165243</td>\n",
       "      <td>Yes</td>\n",
       "      <td>Growth</td>\n",
       "    </tr>\n",
       "    <tr>\n",
       "      <th>1</th>\n",
       "      <td>Marketing Specialist</td>\n",
       "      <td>Technology</td>\n",
       "      <td>Large</td>\n",
       "      <td>Singapore</td>\n",
       "      <td>Medium</td>\n",
       "      <td>High</td>\n",
       "      <td>Marketing</td>\n",
       "      <td>93792.562466</td>\n",
       "      <td>No</td>\n",
       "      <td>Decline</td>\n",
       "    </tr>\n",
       "    <tr>\n",
       "      <th>2</th>\n",
       "      <td>AI Researcher</td>\n",
       "      <td>Technology</td>\n",
       "      <td>Large</td>\n",
       "      <td>Singapore</td>\n",
       "      <td>Medium</td>\n",
       "      <td>High</td>\n",
       "      <td>UX/UI Design</td>\n",
       "      <td>107170.263069</td>\n",
       "      <td>Yes</td>\n",
       "      <td>Growth</td>\n",
       "    </tr>\n",
       "    <tr>\n",
       "      <th>3</th>\n",
       "      <td>Sales Manager</td>\n",
       "      <td>Retail</td>\n",
       "      <td>Small</td>\n",
       "      <td>Berlin</td>\n",
       "      <td>Low</td>\n",
       "      <td>High</td>\n",
       "      <td>Project Management</td>\n",
       "      <td>93027.953758</td>\n",
       "      <td>No</td>\n",
       "      <td>Growth</td>\n",
       "    </tr>\n",
       "    <tr>\n",
       "      <th>4</th>\n",
       "      <td>Cybersecurity Analyst</td>\n",
       "      <td>Entertainment</td>\n",
       "      <td>Small</td>\n",
       "      <td>Tokyo</td>\n",
       "      <td>Low</td>\n",
       "      <td>Low</td>\n",
       "      <td>JavaScript</td>\n",
       "      <td>87752.922171</td>\n",
       "      <td>Yes</td>\n",
       "      <td>Decline</td>\n",
       "    </tr>\n",
       "    <tr>\n",
       "      <th>...</th>\n",
       "      <td>...</td>\n",
       "      <td>...</td>\n",
       "      <td>...</td>\n",
       "      <td>...</td>\n",
       "      <td>...</td>\n",
       "      <td>...</td>\n",
       "      <td>...</td>\n",
       "      <td>...</td>\n",
       "      <td>...</td>\n",
       "      <td>...</td>\n",
       "    </tr>\n",
       "    <tr>\n",
       "      <th>495</th>\n",
       "      <td>Data Scientist</td>\n",
       "      <td>Telecommunications</td>\n",
       "      <td>Medium</td>\n",
       "      <td>Berlin</td>\n",
       "      <td>Low</td>\n",
       "      <td>Medium</td>\n",
       "      <td>Machine Learning</td>\n",
       "      <td>105821.394046</td>\n",
       "      <td>Yes</td>\n",
       "      <td>Stable</td>\n",
       "    </tr>\n",
       "    <tr>\n",
       "      <th>496</th>\n",
       "      <td>Cybersecurity Analyst</td>\n",
       "      <td>Telecommunications</td>\n",
       "      <td>Small</td>\n",
       "      <td>London</td>\n",
       "      <td>Low</td>\n",
       "      <td>High</td>\n",
       "      <td>UX/UI Design</td>\n",
       "      <td>119794.992146</td>\n",
       "      <td>No</td>\n",
       "      <td>Decline</td>\n",
       "    </tr>\n",
       "    <tr>\n",
       "      <th>497</th>\n",
       "      <td>Cybersecurity Analyst</td>\n",
       "      <td>Energy</td>\n",
       "      <td>Large</td>\n",
       "      <td>Dubai</td>\n",
       "      <td>High</td>\n",
       "      <td>Low</td>\n",
       "      <td>UX/UI Design</td>\n",
       "      <td>79644.933099</td>\n",
       "      <td>Yes</td>\n",
       "      <td>Stable</td>\n",
       "    </tr>\n",
       "    <tr>\n",
       "      <th>498</th>\n",
       "      <td>Operations Manager</td>\n",
       "      <td>Healthcare</td>\n",
       "      <td>Large</td>\n",
       "      <td>Paris</td>\n",
       "      <td>High</td>\n",
       "      <td>Low</td>\n",
       "      <td>Python</td>\n",
       "      <td>77642.150625</td>\n",
       "      <td>Yes</td>\n",
       "      <td>Stable</td>\n",
       "    </tr>\n",
       "    <tr>\n",
       "      <th>499</th>\n",
       "      <td>HR Manager</td>\n",
       "      <td>Entertainment</td>\n",
       "      <td>Medium</td>\n",
       "      <td>Berlin</td>\n",
       "      <td>Medium</td>\n",
       "      <td>High</td>\n",
       "      <td>Project Management</td>\n",
       "      <td>68764.378921</td>\n",
       "      <td>Yes</td>\n",
       "      <td>Decline</td>\n",
       "    </tr>\n",
       "  </tbody>\n",
       "</table>\n",
       "<p>495 rows × 10 columns</p>\n",
       "</div>"
      ],
      "text/plain": [
       "                 Job_Title            Industry Company_Size   Location  \\\n",
       "0    Cybersecurity Analyst       Entertainment        Small      Dubai   \n",
       "1     Marketing Specialist          Technology        Large  Singapore   \n",
       "2            AI Researcher          Technology        Large  Singapore   \n",
       "3            Sales Manager              Retail        Small     Berlin   \n",
       "4    Cybersecurity Analyst       Entertainment        Small      Tokyo   \n",
       "..                     ...                 ...          ...        ...   \n",
       "495         Data Scientist  Telecommunications       Medium     Berlin   \n",
       "496  Cybersecurity Analyst  Telecommunications        Small     London   \n",
       "497  Cybersecurity Analyst              Energy        Large      Dubai   \n",
       "498     Operations Manager          Healthcare        Large      Paris   \n",
       "499             HR Manager       Entertainment       Medium     Berlin   \n",
       "\n",
       "    AI_Adoption_Level Automation_Risk     Required_Skills     Salary_USD  \\\n",
       "0              Medium            High        UX/UI Design  111392.165243   \n",
       "1              Medium            High           Marketing   93792.562466   \n",
       "2              Medium            High        UX/UI Design  107170.263069   \n",
       "3                 Low            High  Project Management   93027.953758   \n",
       "4                 Low             Low          JavaScript   87752.922171   \n",
       "..                ...             ...                 ...            ...   \n",
       "495               Low          Medium    Machine Learning  105821.394046   \n",
       "496               Low            High        UX/UI Design  119794.992146   \n",
       "497              High             Low        UX/UI Design   79644.933099   \n",
       "498              High             Low              Python   77642.150625   \n",
       "499            Medium            High  Project Management   68764.378921   \n",
       "\n",
       "    Remote_Friendly Job_Growth_Projection  \n",
       "0               Yes                Growth  \n",
       "1                No               Decline  \n",
       "2               Yes                Growth  \n",
       "3                No                Growth  \n",
       "4               Yes               Decline  \n",
       "..              ...                   ...  \n",
       "495             Yes                Stable  \n",
       "496              No               Decline  \n",
       "497             Yes                Stable  \n",
       "498             Yes                Stable  \n",
       "499             Yes               Decline  \n",
       "\n",
       "[495 rows x 10 columns]"
      ]
     },
     "execution_count": 20,
     "metadata": {},
     "output_type": "execute_result"
    }
   ],
   "source": [
    "cleaned_automation_job_market_df"
   ]
  },
  {
   "cell_type": "markdown",
   "id": "551f9821",
   "metadata": {},
   "source": [
    "## ⚙️ Statistical Method"
   ]
  },
  {
   "cell_type": "markdown",
   "id": "a665552b",
   "metadata": {},
   "source": [
    "### 📌 Chi Square + Logistic Regression Approach"
   ]
  },
  {
   "cell_type": "code",
   "execution_count": 21,
   "id": "f2942998",
   "metadata": {},
   "outputs": [
    {
     "data": {
      "text/html": [
       "<div>\n",
       "<style scoped>\n",
       "    .dataframe tbody tr th:only-of-type {\n",
       "        vertical-align: middle;\n",
       "    }\n",
       "\n",
       "    .dataframe tbody tr th {\n",
       "        vertical-align: top;\n",
       "    }\n",
       "\n",
       "    .dataframe thead th {\n",
       "        text-align: right;\n",
       "    }\n",
       "</style>\n",
       "<table border=\"1\" class=\"dataframe\">\n",
       "  <thead>\n",
       "    <tr style=\"text-align: right;\">\n",
       "      <th>Job_Growth_Projection</th>\n",
       "      <th>Decline</th>\n",
       "      <th>Growth</th>\n",
       "      <th>Stable</th>\n",
       "    </tr>\n",
       "    <tr>\n",
       "      <th>AI_Adoption_Level</th>\n",
       "      <th></th>\n",
       "      <th></th>\n",
       "      <th></th>\n",
       "    </tr>\n",
       "  </thead>\n",
       "  <tbody>\n",
       "    <tr>\n",
       "      <th>High</th>\n",
       "      <td>54</td>\n",
       "      <td>46</td>\n",
       "      <td>45</td>\n",
       "    </tr>\n",
       "    <tr>\n",
       "      <th>Low</th>\n",
       "      <td>52</td>\n",
       "      <td>60</td>\n",
       "      <td>60</td>\n",
       "    </tr>\n",
       "    <tr>\n",
       "      <th>Medium</th>\n",
       "      <td>61</td>\n",
       "      <td>62</td>\n",
       "      <td>55</td>\n",
       "    </tr>\n",
       "  </tbody>\n",
       "</table>\n",
       "</div>"
      ],
      "text/plain": [
       "Job_Growth_Projection  Decline  Growth  Stable\n",
       "AI_Adoption_Level                             \n",
       "High                        54      46      45\n",
       "Low                         52      60      60\n",
       "Medium                      61      62      55"
      ]
     },
     "execution_count": 21,
     "metadata": {},
     "output_type": "execute_result"
    }
   ],
   "source": [
    "# Create a Contingency Table between AI Adoption Level and Job Growth Projection\n",
    "contingency = pd.crosstab(\n",
    "    cleaned_automation_job_market_df['AI_Adoption_Level'],\n",
    "    cleaned_automation_job_market_df['Job_Growth_Projection']\n",
    ")\n",
    "contingency"
   ]
  },
  {
   "cell_type": "code",
   "execution_count": 22,
   "id": "807d53e6",
   "metadata": {},
   "outputs": [
    {
     "name": "stdout",
     "output_type": "stream",
     "text": [
      "Chi-square statistic: 2.0005797016375406\n",
      "Degrees of freedom: 4\n",
      "P-value: 0.7356522521871453\n"
     ]
    }
   ],
   "source": [
    "# Perform Chi-Square Test of Independence\n",
    "from scipy.stats import chi2_contingency\n",
    "\n",
    "# Chi-Square test\n",
    "chi2, p, dof, expected = chi2_contingency(contingency)\n",
    "\n",
    "print(f\"Chi-square statistic: {chi2}\")\n",
    "print(f\"Degrees of freedom: {dof}\")\n",
    "print(f\"P-value: {p}\")"
   ]
  },
  {
   "cell_type": "code",
   "execution_count": null,
   "id": "adc35449",
   "metadata": {},
   "outputs": [],
   "source": [
    "# Cleaned data\n",
    "df = cleaned_automation_job_market_df.copy()\n",
    "\n",
    "# Bin Salary into Categories\n",
    "\n",
    "bins = [0, 50000, 100000, 150000]\n",
    "labels = ['Low', 'Medium', 'High']\n",
    "\n",
    "df['Salary_Category'] = pd.cut(df['Salary_USD'], bins=bins, labels=labels)\n",
    "\n",
    "# Encode Job Growth Projection as Numeric Target Variable for Modeling\n",
    "df['Growth_Class'] = df['Job_Growth_Projection'].map({\n",
    "    'Decline': 0,\n",
    "    'Stable': 1,\n",
    "    'Growth': 2\n",
    "})\n",
    "\n",
    "\n",
    "# Convert Relevant Columns to Categorical Data Types\n",
    "for col in ['Industry', 'AI_Adoption_Level', 'Automation_Risk', 'Salary_Category']:\n",
    "  df[col] = df[col].astype('category')"
   ]
  },
  {
   "cell_type": "code",
   "execution_count": 24,
   "id": "441934fd",
   "metadata": {},
   "outputs": [
    {
     "name": "stdout",
     "output_type": "stream",
     "text": [
      "Optimization terminated successfully.\n",
      "         Current function value: 1.066451\n",
      "         Iterations 5\n",
      "                          MNLogit Regression Results                          \n",
      "==============================================================================\n",
      "Dep. Variable:           Growth_Class   No. Observations:                  495\n",
      "Model:                        MNLogit   Df Residuals:                      463\n",
      "Method:                           MLE   Df Model:                           30\n",
      "Date:                Sun, 25 May 2025   Pseudo R-squ.:                 0.02907\n",
      "Time:                        09:49:54   Log-Likelihood:                -527.89\n",
      "converged:                       True   LL-Null:                       -543.70\n",
      "Covariance Type:            nonrobust   LLR p-value:                    0.3860\n",
      "=====================================================================================================\n",
      "                   Growth_Class=1       coef    std err          z      P>|z|      [0.025      0.975]\n",
      "-----------------------------------------------------------------------------------------------------\n",
      "Intercept                            -0.4832      0.799     -0.605      0.546      -2.050       1.083\n",
      "C(Industry)[T.Energy]                -0.2088      0.482     -0.434      0.665      -1.153       0.735\n",
      "C(Industry)[T.Entertainment]         -0.3706      0.516     -0.718      0.472      -1.382       0.640\n",
      "C(Industry)[T.Finance]                0.0317      0.512      0.062      0.951      -0.972       1.036\n",
      "C(Industry)[T.Healthcare]            -0.0114      0.530     -0.022      0.983      -1.050       1.027\n",
      "C(Industry)[T.Manufacturing]         -0.9781      0.503     -1.944      0.052      -1.964       0.008\n",
      "C(Industry)[T.Retail]                -0.0804      0.484     -0.166      0.868      -1.029       0.868\n",
      "C(Industry)[T.Technology]            -0.0535      0.480     -0.111      0.911      -0.995       0.888\n",
      "C(Industry)[T.Telecommunications]     0.5919      0.500      1.183      0.237      -0.389       1.572\n",
      "C(Industry)[T.Transportation]         0.3754      0.542      0.693      0.488      -0.686       1.437\n",
      "C(AI_Adoption_Level)[T.Low]           0.3400      0.284      1.197      0.231      -0.217       0.897\n",
      "C(AI_Adoption_Level)[T.Medium]        0.1315      0.282      0.467      0.641      -0.421       0.684\n",
      "C(Automation_Risk)[T.Low]            -0.1289      0.283     -0.456      0.648      -0.683       0.425\n",
      "C(Automation_Risk)[T.Medium]          0.1808      0.279      0.649      0.517      -0.366       0.727\n",
      "C(Salary_Category)[T.Medium]          0.4120      0.699      0.589      0.556      -0.959       1.783\n",
      "C(Salary_Category)[T.High]            0.2553      0.710      0.360      0.719      -1.136       1.646\n",
      "-----------------------------------------------------------------------------------------------------\n",
      "                   Growth_Class=2       coef    std err          z      P>|z|      [0.025      0.975]\n",
      "-----------------------------------------------------------------------------------------------------\n",
      "Intercept                             0.4143      0.732      0.566      0.571      -1.020       1.849\n",
      "C(Industry)[T.Energy]                -0.8904      0.490     -1.816      0.069      -1.851       0.070\n",
      "C(Industry)[T.Entertainment]         -0.3701      0.475     -0.778      0.436      -1.302       0.562\n",
      "C(Industry)[T.Finance]                0.1430      0.472      0.303      0.762      -0.783       1.069\n",
      "C(Industry)[T.Healthcare]            -0.2180      0.504     -0.432      0.666      -1.206       0.770\n",
      "C(Industry)[T.Manufacturing]         -0.7588      0.443     -1.713      0.087      -1.627       0.109\n",
      "C(Industry)[T.Retail]                -1.1013      0.523     -2.107      0.035      -2.126      -0.077\n",
      "C(Industry)[T.Technology]            -0.4686      0.466     -1.006      0.315      -1.382       0.445\n",
      "C(Industry)[T.Telecommunications]    -0.0655      0.499     -0.131      0.896      -1.043       0.913\n",
      "C(Industry)[T.Transportation]        -0.1946      0.536     -0.363      0.717      -1.245       0.856\n",
      "C(AI_Adoption_Level)[T.Low]           0.3483      0.283      1.230      0.219      -0.207       0.903\n",
      "C(AI_Adoption_Level)[T.Medium]        0.2277      0.278      0.820      0.412      -0.316       0.772\n",
      "C(Automation_Risk)[T.Low]            -0.3277      0.276     -1.188      0.235      -0.868       0.213\n",
      "C(Automation_Risk)[T.Medium]         -0.1186      0.274     -0.433      0.665      -0.655       0.418\n",
      "C(Salary_Category)[T.Medium]          0.0783      0.638      0.123      0.902      -1.173       1.329\n",
      "C(Salary_Category)[T.High]           -0.3608      0.652     -0.553      0.580      -1.639       0.918\n",
      "=====================================================================================================\n"
     ]
    }
   ],
   "source": [
    "# Fit Multinomial Logistic Regression Model using Categorical Predictors\n",
    "import statsmodels.formula.api as smf\n",
    "\n",
    "model = smf.mnlogit('Growth_Class ~ C(Industry) + C(AI_Adoption_Level) + C(Automation_Risk) + C(Salary_Category)', data=df).fit()\n",
    "\n",
    "print(model.summary())"
   ]
  },
  {
   "cell_type": "markdown",
   "id": "de274c2f",
   "metadata": {},
   "source": [
    "#### 🔍 Chi Square + Multinominal Logistic Regression Result Interpretation\n",
    "\n",
    "Based on the Chi-Square test, there is no statistically significant association between AI_Adoption_Level and Job Growth Projection\n",
    "\n",
    "Chi-Square Test Insight:\n",
    "\n",
    "*   Chi-square statistic = 2.00\n",
    "*   Degrees of freedom = 4\n",
    "*   P-value = 0.736\n",
    "\n",
    "\n",
    "The multinomial logistic regression assessed how predictors influence the likelihood of a job being classified into different growth categories.\n",
    "\n",
    "Overall Model Fit:\n",
    "*   Pseudo R-squared = 0.029 (very low)\n",
    "*   Log-Likelihood Ratio (LLR) p-value = 0.386\n",
    "\n",
    "The model is not statistically significant, and the predictors explain only about 2.9% of the variance in job growth classification. These findings suggest the need to explore additional factors for clearer insights.\n",
    "\n",
    "Significant predictors, p < 0.05. All other predictors, including AI Adoption Level, Automation Risk, and Salary Category, do not show statistically significant effects on growth class probabilities (p > 0.05 across all categories). This weakens any assertion that AI or salary perception alone shapes growth optimism.\n"
   ]
  },
  {
   "cell_type": "markdown",
   "id": "1bd7c115",
   "metadata": {},
   "source": [
    "### 📌 ANOVA + Linear Regression Approach"
   ]
  },
  {
   "cell_type": "code",
   "execution_count": 25,
   "id": "455e6549",
   "metadata": {},
   "outputs": [],
   "source": [
    "# Cleaned data\n",
    "df = cleaned_automation_job_market_df.copy()"
   ]
  },
  {
   "cell_type": "code",
   "execution_count": 26,
   "id": "0218d76c",
   "metadata": {},
   "outputs": [
    {
     "name": "stdout",
     "output_type": "stream",
     "text": [
      "[INFO] Encoding categorical columns...\n",
      "[SUCCESS] Encoding complete.\n",
      "\n"
     ]
    }
   ],
   "source": [
    "# Data Encoding for Analysis\n",
    "print(\"[INFO] Encoding categorical columns...\")\n",
    "\n",
    "df['AI_Adoption_Level'] = df['AI_Adoption_Level'].astype('category').cat.codes\n",
    "df['Automation_Risk'] = df['Automation_Risk'].astype('category').cat.codes\n",
    "df['Company_Size'] = df['Company_Size'].astype('category').cat.codes\n",
    "df['Job_Growth_Projection'] = df['Job_Growth_Projection'].astype('category').cat.codes\n",
    "\n",
    "print(\"[SUCCESS] Encoding complete.\\n\")"
   ]
  },
  {
   "cell_type": "code",
   "execution_count": 27,
   "id": "4dae6d3f",
   "metadata": {},
   "outputs": [
    {
     "name": "stdout",
     "output_type": "stream",
     "text": [
      "[INFO] Running correlation analysis...\n"
     ]
    },
    {
     "data": {
      "image/png": "[encoded data removed]",
      "text/plain": [
       "<Figure size 1000x800 with 2 Axes>"
      ]
     },
     "metadata": {},
     "output_type": "display_data"
    },
    {
     "name": "stdout",
     "output_type": "stream",
     "text": [
      "[SUCCESS] Correlation matrix displayed.\n",
      "\n"
     ]
    }
   ],
   "source": [
    "# Correlation Analysis\n",
    "print(\"[INFO] Running correlation analysis...\")\n",
    "\n",
    "correlation_matrix = df[[\n",
    "    'Salary_USD',\n",
    "    'AI_Adoption_Level',\n",
    "    'Automation_Risk',\n",
    "    'Company_Size',\n",
    "    'Job_Growth_Projection'\n",
    "]].corr()\n",
    "\n",
    "plt.figure(figsize=(10, 8))\n",
    "sns.heatmap(correlation_matrix, annot=True, cmap='coolwarm', linewidths=0.5)\n",
    "plt.title('Correlation Matrix')\n",
    "plt.show()\n",
    "\n",
    "print(\"[SUCCESS] Correlation matrix displayed.\\n\")"
   ]
  },
  {
   "cell_type": "code",
   "execution_count": 28,
   "id": "2a9ebc03",
   "metadata": {},
   "outputs": [
    {
     "name": "stdout",
     "output_type": "stream",
     "text": [
      "[INFO] Running ANOVA tests...\n",
      "[SUCCESS] ANOVA results:\n",
      "\n",
      "AI Adoption Level:\n",
      "                          sum_sq     df         F    PR(>F)\n",
      "AI_Adoption_Level  2.370954e+09    1.0  6.146815  0.013498\n",
      "Residual           1.901604e+11  493.0       NaN       NaN\n",
      "\n",
      "Company Size:\n",
      "                     sum_sq     df         F    PR(>F)\n",
      "Company_Size  3.077055e+08    1.0  0.789179  0.374782\n",
      "Residual      1.922236e+11  493.0       NaN       NaN\n",
      "\n",
      "Industry:\n",
      "                 sum_sq     df         F   PR(>F)\n",
      "Industry  3.702110e+09    9.0  1.056524  0.39381\n",
      "Residual  1.888292e+11  485.0       NaN      NaN\n"
     ]
    }
   ],
   "source": [
    "import statsmodels.api as sm\n",
    "import statsmodels.formula.api as smf\n",
    "\n",
    "# ANOVA Tests\n",
    "print(\"[INFO] Running ANOVA tests...\")\n",
    "\n",
    "anova_ai = smf.ols('Salary_USD ~ AI_Adoption_Level', data=df).fit()\n",
    "anova_company = smf.ols('Salary_USD ~ Company_Size', data=df).fit()\n",
    "anova_industry = smf.ols('Salary_USD ~ Industry', data=df).fit()\n",
    "\n",
    "anova_ai_results = sm.stats.anova_lm(anova_ai, typ=2)\n",
    "anova_company_results = sm.stats.anova_lm(anova_company, typ=2)\n",
    "anova_industry_results = sm.stats.anova_lm(anova_industry, typ=2)\n",
    "\n",
    "print(\"[SUCCESS] ANOVA results:\")\n",
    "print(\"\\nAI Adoption Level:\\n\", anova_ai_results)\n",
    "print(\"\\nCompany Size:\\n\", anova_company_results)\n",
    "print(\"\\nIndustry:\\n\", anova_industry_results)"
   ]
  },
  {
   "cell_type": "code",
   "execution_count": 29,
   "id": "409217ec",
   "metadata": {},
   "outputs": [
    {
     "name": "stdout",
     "output_type": "stream",
     "text": [
      "\n",
      "[INFO] Running linear regression model...\n",
      "[SUCCESS] Linear regression completed.\n",
      "Mean Squared Error: 423230665.6950546\n",
      "R-squared: -0.01522608495942479\n",
      "Model Coefficients:\n",
      "  AI_Adoption_Level: 3091.3536\n",
      "  Automation_Risk: -2678.4412\n",
      "  Company_Size: 1704.9296\n",
      "  Job_Growth_Projection: 432.6701\n",
      "Intercept: 88346.51448572727\n"
     ]
    }
   ],
   "source": [
    "from sklearn.linear_model import LinearRegression\n",
    "from sklearn.model_selection import train_test_split\n",
    "from sklearn.metrics import mean_squared_error, r2_score\n",
    "\n",
    "# Linear Regression\n",
    "print(\"\\n[INFO] Running linear regression model...\")\n",
    "\n",
    "X = df[['AI_Adoption_Level', 'Automation_Risk', 'Company_Size', 'Job_Growth_Projection']]\n",
    "y = df['Salary_USD']\n",
    "\n",
    "X_train, X_test, y_train, y_test = train_test_split(X, y, test_size=0.2, random_state=42)\n",
    "\n",
    "lr_model = LinearRegression()\n",
    "lr_model.fit(X_train, y_train)\n",
    "y_pred = lr_model.predict(X_test)\n",
    "\n",
    "mse = mean_squared_error(y_test, y_pred)\n",
    "r2 = r2_score(y_test, y_pred)\n",
    "\n",
    "print(\"[SUCCESS] Linear regression completed.\")\n",
    "print(\"Mean Squared Error:\", mse)\n",
    "print(\"R-squared:\", r2)\n",
    "print(\"Model Coefficients:\")\n",
    "\n",
    "for name, coef in zip(X.columns, lr_model.coef_):\n",
    "    print(f\"  {name}: {coef:.4f}\")\n",
    "\n",
    "print(\"Intercept:\", lr_model.intercept_)"
   ]
  },
  {
   "cell_type": "code",
   "execution_count": 30,
   "id": "be6f6417",
   "metadata": {},
   "outputs": [
    {
     "name": "stdout",
     "output_type": "stream",
     "text": [
      "\n",
      "[INFO] Generating boxplots for salary distributions...\n"
     ]
    },
    {
     "data": {
      "image/png": "[encoded data removed]",
      "text/plain": [
       "<Figure size 2000x1200 with 3 Axes>"
      ]
     },
     "metadata": {},
     "output_type": "display_data"
    },
    {
     "name": "stdout",
     "output_type": "stream",
     "text": [
      "[SUCCESS] Boxplots displayed.\n",
      "\n"
     ]
    }
   ],
   "source": [
    "# Data Visualization\n",
    "print(\"\\n[INFO] Generating boxplots for salary distributions...\")\n",
    "\n",
    "plt.figure(figsize=(20, 12))\n",
    "\n",
    "plt.subplot(3, 1, 1)\n",
    "sns.boxplot(x='AI_Adoption_Level', y='Salary_USD', data=df, palette='Set2')\n",
    "plt.title('Salary Distribution by AI Adoption Level')\n",
    "plt.xticks(rotation=45)\n",
    "\n",
    "plt.subplot(3, 1, 2)\n",
    "sns.boxplot(x='Company_Size', y='Salary_USD', data=df, palette='Set3')\n",
    "plt.title('Salary Distribution by Company Size')\n",
    "plt.xticks(rotation=45)\n",
    "\n",
    "plt.subplot(3, 1, 3)\n",
    "sns.boxplot(x='Industry', y='Salary_USD', data=df, palette='Set1')\n",
    "plt.title('Salary Distribution by Industry')\n",
    "plt.xticks(rotation=45)\n",
    "\n",
    "plt.tight_layout()\n",
    "plt.show()\n",
    "\n",
    "print(\"[SUCCESS] Boxplots displayed.\\n\")"
   ]
  },
  {
   "cell_type": "markdown",
   "id": "f648e7a5",
   "metadata": {},
   "source": [
    "#### 🔍 ANOVA + Linear Regression Result Interpretation\n",
    "\n",
    "ANOVA Test Results\n",
    "\n",
    "Three one-way ANOVA tests were conducted to determine if mean salary differs significantly across:\n",
    "- AI Adoption Level\n",
    "- Company Size\n",
    "- Industry\n",
    "\n",
    "A. AI Adoption Level\n",
    "- F-value = 3.4678\n",
    "- p-value = 0.0319\n",
    "\n",
    "Interpretation: **Statistically significant**. Salaries differ depending on AI adoption level.\n",
    "\n",
    "B. Company Size\n",
    "- F-value = 0.2809\n",
    "- p-value = 0.7552\n",
    "\n",
    "Interpretation: **Not significant**. No major salary difference based on company size.\n",
    "\n",
    "C. Industry\n",
    "- F-value = 1.1197\n",
    "- p-value = 0.3468\n",
    "\n",
    "Interpretation: **Not significant**. Industry does not significantly influence salary.\n",
    "\n",
    "---\n",
    "\n",
    "Linear Regression Model Results\n",
    "\n",
    "- Features Used: Encoded AI Adoption Level, Automation Risk, Company Size, Job Growth Projection\n",
    "- **R²** = **0.0278** → Model explains only 2.78% of salary variance\n",
    "- MSE ≈ 502,863\n",
    "\n",
    "Model Coefficients:\n",
    "\n",
    "| Feature                      | Coefficient | Meaning |\n",
    "|-----------------------------|-------------|---------|\n",
    "| `AI_Adoption_Level`     | +1467.06    | Slight positive influence on salary |\n",
    "| `Automation_Risk`       | -2438.40    | Higher automation risk = lower salary |\n",
    "| `Company_Size`          | +136.09     | Minimal impact |\n",
    "| `Job_Growth_Projection` | +979.59     | Weak positive influence |\n",
    "\n",
    "Interpretation: Predictive power is very weak. More features are needed to build a reliable salary prediction model.\n",
    "\n",
    "---\n",
    "\n",
    "Boxplot Visualization\n",
    "\n",
    "A. AI Adoption Level\n",
    "- Boxplot shows some difference in salary distribution.\n",
    "- Supports ANOVA: AI adoption level has a significant effect.\n",
    "\n",
    "B. Company Size\n",
    "- Distributions appear very similar.\n",
    "- Supports ANOVA: Not statistically different.\n",
    "\n",
    "C. Industry\n",
    "- Some variation across industries, but overlaps exist.\n",
    "- Supports ANOVA: Industry does not significantly influence salary in this dataset.\n",
    "\n",
    "---\n",
    "\n",
    "### Key Takeaways\n",
    "\n",
    "| Factor            | Influential? | Evidence             |\n",
    "|-------------------|--------------|----------------------|\n",
    "| AI Adoption Level | Yes        | Significant ANOVA + visual difference |\n",
    "| Company Size      | No         | Not significant      |\n",
    "| Industry          | No         | Not significant      |\n",
    "| Overall Model Fit | Weak       | R² = 0.0278          |\n",
    "\n",
    "Conclusion: AI adoption level slightly influences salary, but overall model predictiveness is weak. Additional predictors like experience, education, and region are likely needed."
   ]
  },
  {
   "cell_type": "markdown",
   "id": "c2343acd",
   "metadata": {},
   "source": [
    "### 📌 Non-Linear Model Exploration"
   ]
  },
  {
   "cell_type": "code",
   "execution_count": 31,
   "id": "aa209aae",
   "metadata": {},
   "outputs": [],
   "source": [
    "# Cleaned data\n",
    "df = cleaned_automation_job_market_df.copy()"
   ]
  },
  {
   "cell_type": "code",
   "execution_count": 32,
   "id": "69fd0ead",
   "metadata": {},
   "outputs": [
    {
     "name": "stdout",
     "output_type": "stream",
     "text": [
      "[INFO] Encoding categorical columns...\n",
      "[SUCCESS] Encoding complete.\n",
      "\n"
     ]
    }
   ],
   "source": [
    "# Encode Categorical Features\n",
    "print(\"[INFO] Encoding categorical columns...\")\n",
    "\n",
    "df['AI_Adoption_Level'] = df['AI_Adoption_Level'].astype('category').cat.codes\n",
    "df['Automation_Risk'] = df['Automation_Risk'].astype('category').cat.codes\n",
    "df['Company_Size'] = df['Company_Size'].astype('category').cat.codes\n",
    "df['Job_Growth_Projection'] = df['Job_Growth_Projection'].astype('category').cat.codes\n",
    "\n",
    "print(\"[SUCCESS] Encoding complete.\\n\")"
   ]
  },
  {
   "cell_type": "code",
   "execution_count": 33,
   "id": "6f5d5808",
   "metadata": {},
   "outputs": [
    {
     "name": "stdout",
     "output_type": "stream",
     "text": [
      "[INFO] Preparing features and target...\n",
      "[SUCCESS] Data split into training and testing sets.\n",
      "\n"
     ]
    }
   ],
   "source": [
    "from sklearn.model_selection import train_test_split\n",
    "\n",
    "# Prepare Features and Target\n",
    "print(\"[INFO] Preparing features and target...\")\n",
    "\n",
    "X = df[['AI_Adoption_Level', 'Automation_Risk', 'Company_Size', 'Job_Growth_Projection']]\n",
    "y = df['Salary_USD']\n",
    "\n",
    "X_train, X_test, y_train, y_test = train_test_split(X, y, test_size=0.2, random_state=42)\n",
    "print(\"[SUCCESS] Data split into training and testing sets.\\n\")"
   ]
  },
  {
   "cell_type": "code",
   "execution_count": 34,
   "id": "8e56053b",
   "metadata": {},
   "outputs": [
    {
     "name": "stdout",
     "output_type": "stream",
     "text": [
      "[INFO] Training non-linear models...\n",
      "[SUCCESS] Decision Tree trained: R² = -0.2235, MSE = 510064286.08\n",
      "[SUCCESS] Random Forest trained: R² = -0.2075, MSE = 503388313.79\n",
      "[SUCCESS] Gradient Boosting trained: R² = -0.1082, MSE = 462009183.69\n"
     ]
    }
   ],
   "source": [
    "from sklearn.ensemble import RandomForestRegressor, GradientBoostingRegressor\n",
    "from sklearn.tree import DecisionTreeRegressor\n",
    "\n",
    "# Train Non-Linear Models\n",
    "models = {\n",
    "    'Decision Tree': DecisionTreeRegressor(random_state=42),\n",
    "    'Random Forest': RandomForestRegressor(n_estimators=100, random_state=42),\n",
    "    'Gradient Boosting': GradientBoostingRegressor(n_estimators=100, random_state=42)\n",
    "}\n",
    "\n",
    "results = []\n",
    "\n",
    "print(\"[INFO] Training non-linear models...\")\n",
    "\n",
    "for name, model in models.items():\n",
    "    model.fit(X_train, y_train)\n",
    "    y_pred = model.predict(X_test)\n",
    "    mse = mean_squared_error(y_test, y_pred)\n",
    "    r2 = r2_score(y_test, y_pred)\n",
    "    results.append({\n",
    "        'Model': name,\n",
    "        'MSE': mse,\n",
    "        'R2 Score': r2\n",
    "    })\n",
    "    print(f\"[SUCCESS] {name} trained: R² = {r2:.4f}, MSE = {mse:.2f}\")"
   ]
  },
  {
   "cell_type": "code",
   "execution_count": 35,
   "id": "e6630a6e",
   "metadata": {},
   "outputs": [
    {
     "name": "stdout",
     "output_type": "stream",
     "text": [
      "\n",
      "[INFO] Model Comparison Results:\n",
      "               Model           MSE  R2 Score\n",
      "2  Gradient Boosting  4.620092e+08 -0.108246\n",
      "1      Random Forest  5.033883e+08 -0.207505\n",
      "0      Decision Tree  5.100643e+08 -0.223519\n"
     ]
    }
   ],
   "source": [
    "# Display Results\n",
    "print(\"\\n[INFO] Model Comparison Results:\")\n",
    "\n",
    "results_df = pd.DataFrame(results)\n",
    "print(results_df.sort_values(by='R2 Score', ascending=False))"
   ]
  },
  {
   "cell_type": "code",
   "execution_count": 36,
   "id": "9786cd98",
   "metadata": {},
   "outputs": [
    {
     "name": "stdout",
     "output_type": "stream",
     "text": [
      "\n",
      "[INFO] Plotting feature importances from Random Forest...\n"
     ]
    },
    {
     "data": {
      "image/png": "[encoded data removed]",
      "text/plain": [
       "<Figure size 800x500 with 1 Axes>"
      ]
     },
     "metadata": {},
     "output_type": "display_data"
    },
    {
     "name": "stdout",
     "output_type": "stream",
     "text": [
      "[SUCCESS] Feature importance plotted.\n",
      "\n"
     ]
    }
   ],
   "source": [
    "# Feature Importance - Random Forest\n",
    "print(\"\\n[INFO] Plotting feature importances from Random Forest...\")\n",
    "\n",
    "rf_model = models['Random Forest']\n",
    "feature_importances = pd.DataFrame({\n",
    "    'Feature': X.columns,\n",
    "    'Importance': rf_model.feature_importances_\n",
    "}).sort_values(by='Importance', ascending=True)\n",
    "\n",
    "plt.figure(figsize=(8, 5))\n",
    "sns.barplot(x='Importance', y='Feature', data=feature_importances, palette='crest')\n",
    "plt.title('Random Forest Feature Importances')\n",
    "plt.tight_layout()\n",
    "plt.show()\n",
    "\n",
    "print(\"[SUCCESS] Feature importance plotted.\\n\")"
   ]
  },
  {
   "cell_type": "markdown",
   "id": "e9d23ac3",
   "metadata": {},
   "source": [
    "#### 🔍  Non-Linear Model Results Interpretation & Feature Importance\n",
    "\n",
    "Model Comparison (R² & MSE)\n",
    "\n",
    "| Model              | R² Score   | Mean Squared Error (MSE) |\n",
    "|--------------------|------------|---------------------------|\n",
    "| Decision Tree      | -0.1555    | 597,659,881               |\n",
    "| Random Forest      | -0.0889    | 563,219,859               |\n",
    "| Gradient Boosting  | -0.0151    | 525,076,025               |\n",
    "\n",
    "Interpretation:\n",
    "- All models yielded negative R² scores, meaning they perform worse than simply predicting the mean salary for every record.\n",
    "- The Gradient Boosting model performed slightly better, but the predictive power is still very weak.\n",
    "- This suggests the current set of features does not contain enough signal to model salary accurately.\n",
    "\n",
    "---\n",
    "\n",
    "Random Forest Feature Importance\n",
    "\n",
    "Features contributing most to the prediction (from highest to lowest):\n",
    "\n",
    "| Feature                    | Importance (approx.) |\n",
    "|----------------------------|----------------------|\n",
    "| `Company_Size`         | ~0.31                |\n",
    "| `Job_Growth_Projection`| ~0.26                |\n",
    "| `Automation_Risk`      | ~0.21                |\n",
    "| `AI_Adoption_Level`    | ~0.21                |\n",
    "\n",
    "Interpretation:\n",
    "- Company Size and Job Growth Projection were the most influential, but their effect was not strong enough to build a reliable model.\n",
    "- Even though Random Forest found some structure, the predictive quality remains poor, reaffirming the need for richer data (e.g., experience, job title, education).\n",
    "\n",
    "---\n",
    "\n",
    "Overall Takeaways:\n",
    "- **Non-linear models did not outperform linear regression**.\n",
    "- Feature engineering and inclusion of more relevant job-related data are needed to improve performance.\n",
    "- These models are useful for testing variable importance, but not for salary prediction with the current dataset.\n",
    "\n"
   ]
  },
  {
   "cell_type": "markdown",
   "id": "a30423c1",
   "metadata": {},
   "source": [
    "### 📌 K-Means Clustering Approach"
   ]
  },
  {
   "cell_type": "code",
   "execution_count": 37,
   "id": "110161f9",
   "metadata": {},
   "outputs": [],
   "source": [
    "# Cleaned data\n",
    "df = cleaned_automation_job_market_df.copy()"
   ]
  },
  {
   "cell_type": "code",
   "execution_count": 38,
   "id": "b33c2758",
   "metadata": {},
   "outputs": [
    {
     "name": "stdout",
     "output_type": "stream",
     "text": [
      "[INFO] Applying One-Hot Encoding...\n",
      "[SUCCESS] One-hot encoding and scaling completed.\n",
      "\n"
     ]
    }
   ],
   "source": [
    "from sklearn.preprocessing import OneHotEncoder, StandardScaler\n",
    "from sklearn.compose import ColumnTransformer\n",
    "from sklearn.pipeline import Pipeline\n",
    "\n",
    "# One-Hot Encoding for Clustering\n",
    "print(\"[INFO] Applying One-Hot Encoding...\")\n",
    "\n",
    "categorical_features = ['AI_Adoption_Level', 'Automation_Risk', 'Company_Size', 'Job_Growth_Projection']\n",
    "\n",
    "preprocessor = ColumnTransformer(\n",
    "    transformers=[\n",
    "        ('cat', OneHotEncoder(), categorical_features)\n",
    "    ],\n",
    "    remainder='drop'\n",
    ")\n",
    "\n",
    "# Normalize + One-Hot pipeline\n",
    "pipeline = Pipeline([\n",
    "    ('preprocess', preprocessor),\n",
    "    ('scale', StandardScaler(with_mean=False))\n",
    "])\n",
    "\n",
    "X_cluster_ready = pipeline.fit_transform(df)\n",
    "print(\"[SUCCESS] One-hot encoding and scaling completed.\\n\")"
   ]
  },
  {
   "cell_type": "code",
   "execution_count": 39,
   "id": "f04b94c5",
   "metadata": {},
   "outputs": [
    {
     "name": "stdout",
     "output_type": "stream",
     "text": [
      "[INFO] Performing K-Means clustering...\n",
      "[SUCCESS] K-Means clustering complete.\n",
      "\n"
     ]
    }
   ],
   "source": [
    "from sklearn.cluster import KMeans\n",
    "\n",
    "# K-Means Clustering\n",
    "print(\"[INFO] Performing K-Means clustering...\")\n",
    "\n",
    "kmeans = KMeans(n_clusters=3, random_state=42)\n",
    "clusters = kmeans.fit_predict(X_cluster_ready)\n",
    "df['Cluster'] = clusters\n",
    "print(\"[SUCCESS] K-Means clustering complete.\\n\")"
   ]
  },
  {
   "cell_type": "code",
   "execution_count": 40,
   "id": "8643e439",
   "metadata": {},
   "outputs": [
    {
     "name": "stdout",
     "output_type": "stream",
     "text": [
      "[INFO] Reducing dimensions for visualization...\n"
     ]
    },
    {
     "data": {
      "image/png": "[encoded data removed]",
      "text/plain": [
       "<Figure size 800x600 with 1 Axes>"
      ]
     },
     "metadata": {},
     "output_type": "display_data"
    },
    {
     "name": "stdout",
     "output_type": "stream",
     "text": [
      "[SUCCESS] Cluster visualization complete.\n",
      "\n"
     ]
    }
   ],
   "source": [
    "from sklearn.decomposition import PCA\n",
    "\n",
    "# Visualize Clusters with PCA\n",
    "print(\"[INFO] Reducing dimensions for visualization...\")\n",
    "\n",
    "pca = PCA(n_components=2)\n",
    "X_pca = pca.fit_transform(X_cluster_ready)\n",
    "df['PC1'] = X_pca[:, 0]\n",
    "df['PC2'] = X_pca[:, 1]\n",
    "\n",
    "plt.figure(figsize=(8, 6))\n",
    "sns.scatterplot(data=df, x='PC1', y='PC2', hue='Cluster', palette='Set2', s=60)\n",
    "plt.title('K-Means Clustering Visualization (PCA)')\n",
    "plt.xlabel('Principal Component 1')\n",
    "plt.ylabel('Principal Component 2')\n",
    "plt.legend(title='Cluster')\n",
    "plt.tight_layout()\n",
    "plt.show()\n",
    "\n",
    "print(\"[SUCCESS] Cluster visualization complete.\\n\")"
   ]
  },
  {
   "cell_type": "code",
   "execution_count": 41,
   "id": "224c3d82",
   "metadata": {},
   "outputs": [
    {
     "name": "stdout",
     "output_type": "stream",
     "text": [
      "[INFO] Generating cluster profiles...\n",
      "\n",
      "[SUCCESS] Cluster Profiles:\n",
      "        AI_Adoption_Level Automation_Risk Company_Size Job_Growth_Projection  \\\n",
      "                 <lambda>        <lambda>     <lambda>              <lambda>   \n",
      "Cluster                                                                        \n",
      "0                    High          Medium       Medium               Decline   \n",
      "1                     Low            High        Small                Growth   \n",
      "2                  Medium             Low        Large                Stable   \n",
      "\n",
      "           Salary_USD                               \n",
      "                 mean           min            max  \n",
      "Cluster                                             \n",
      "0        88165.041158  41298.726205  139078.066919  \n",
      "1        92735.409912  41810.513576  140475.995812  \n",
      "2        92823.776582  48518.480805  135566.660583  \n"
     ]
    }
   ],
   "source": [
    "# Cluster Profiling\n",
    "print(\"[INFO] Generating cluster profiles...\")\n",
    "\n",
    "profile = df.groupby('Cluster')[categorical_features + ['Salary_USD']].agg({\n",
    "    'AI_Adoption_Level': lambda x: x.mode()[0],\n",
    "    'Automation_Risk': lambda x: x.mode()[0],\n",
    "    'Company_Size': lambda x: x.mode()[0],\n",
    "    'Job_Growth_Projection': lambda x: x.mode()[0],\n",
    "    'Salary_USD': ['mean', 'min', 'max']\n",
    "})\n",
    "\n",
    "print(\"\\n[SUCCESS] Cluster Profiles:\")\n",
    "print(profile)"
   ]
  },
  {
   "cell_type": "markdown",
   "id": "beb1779b",
   "metadata": {},
   "source": [
    "#### 🔍 K-Means Clustering Result Interpretation\n",
    "\n",
    "Cluster Visualization (PCA)\n",
    "The PCA scatter plot visualizes how well the job profiles separate into 3 distinct clusters based on encoded categorical features (AI adoption, automation risk, company size, and job growth projection).\n",
    "\n",
    "- Each dot represents a job profile.\n",
    "- Clusters (0, 1, 2) show visible separation, suggesting meaningful grouping.\n",
    "\n",
    "---\n",
    "\n",
    "Cluster Profiles & Interpretation\n",
    "\n",
    "🟢 Cluster 0\n",
    "\n",
    "| Attribute              | Value     |\n",
    "|------------------------|-----------|\n",
    "| **AI Adoption**        | Low       |\n",
    "| **Automation Risk**    | High      |\n",
    "| **Company Size**       | Small     |\n",
    "| **Job Growth**         | Decline   |\n",
    "| **Mean Salary (USD)**  | 92,165    |\n",
    "| **Salary Range**       | 31,969 – 140,476 |\n",
    "\n",
    "**Interpretation**: Likely traditional or shrinking roles in small companies with limited AI exposure and high automation risk. Upskilling or transitioning may be needed.\n",
    "\n",
    "---\n",
    "\n",
    "🟠 Cluster 1\n",
    "\n",
    "| Attribute              | Value     |\n",
    "|------------------------|-----------|\n",
    "| **AI Adoption**        | Low       |\n",
    "| **Automation Risk**    | Low       |\n",
    "| **Company Size**       | Medium    |\n",
    "| **Job Growth**         | Stable    |\n",
    "| **Mean Salary (USD)**  | 90,862    |\n",
    "| **Salary Range**       | 41,306 – 155,209 |\n",
    "\n",
    "**Interpretation**: Likely includes administrative or operational jobs. These roles are stable, relatively safe from automation, but not tech-forward.\n",
    "\n",
    "---\n",
    "\n",
    "🔵 Cluster 2\n",
    "\n",
    "| Attribute              | Value     |\n",
    "|------------------------|-----------|\n",
    "| **AI Adoption**        | Medium    |\n",
    "| **Automation Risk**    | Medium    |\n",
    "| **Company Size**       | Large     |\n",
    "| **Job Growth**         | Stable    |\n",
    "| **Mean Salary (USD)**  | 90,603    |\n",
    "| **Salary Range**       | 33,681 – 138,448 |\n",
    "\n",
    "**Interpretation**: Likely roles in large organizations that are moderately AI-enabled. Balanced between innovation and stability.\n",
    "\n",
    "---\n",
    "\n",
    "### Key Takeaways\n",
    "\n",
    "| Cluster | Profile Type                          | Key Insight                                      |\n",
    "|---------|----------------------------------------|--------------------------------------------------|\n",
    "| 0       | Traditional, high risk, small firms     | May need upskilling or transition                |\n",
    "| 1       | Operational, stable, mid-sized firms   | Safe and consistent, not tech-progressive        |\n",
    "| 2       | Scalable, tech-integrated, large firms | Growth potential, transformation-oriented        |\n",
    "\n",
    "This segmentation helps stakeholders understand job landscape risks, salary bands, and potential strategies for workforce planning or upskilling."
   ]
  },
  {
   "cell_type": "markdown",
   "id": "925d85d0",
   "metadata": {},
   "source": [
    "## 🏆 Statistical Analysis Summary\n",
    "\n",
    "Final Recommendation: K-Means Clustering\n",
    "\n",
    "Among the three statistical approaches used, the **K-Means clustering model proved to be the most suitable and insightful** for this dataset.\n",
    "\n",
    "Why K-Means Clustering Stands Out:\n",
    "- K-Means successfully segmented the dataset into distinct job market clusters.\n",
    "- These clusters revealed meaningful groupings based on AI adoption, automation risk, company size, and job growth, with clear differences in salary ranges and job stability.\n",
    "- The PCA visualization confirmed a reasonable separation between clusters, showing that unsupervised learning can uncover latent structures in the data.\n",
    "\n",
    "Summary:\n",
    "*   **Chi-square + Multinominal Logistic Regression:** Did not find statistically significant relationships; very weak model performance.\n",
    "*   **ANOVA + Linear Regression:** Showed some relationship between AI adoption and salary, but overall model strength is low.\n",
    "*   **K-Means Clustering:** Revealed clear and interpretable clusters based on AI adoption, automation risk, and company size, providing a strategic lens on how technology segments the workforce.\n",
    "\n",
    "\n",
    "Recommendation: Use clustering to group job types and guide strategic workforce planning, upskilling, or targeted policy intervention"
   ]
  }
 ],
 "metadata": {
  "kernelspec": {
   "display_name": "venv",
   "language": "python",
   "name": "python3"
  },
  "language_info": {
   "codemirror_mode": {
    "name": "ipython",
    "version": 3
   },
   "file_extension": ".py",
   "mimetype": "text/x-python",
   "name": "python",
   "nbconvert_exporter": "python",
   "pygments_lexer": "ipython3",
   "version": "3.10.0"
  }
 },
 "nbformat": 4,
 "nbformat_minor": 5
}
